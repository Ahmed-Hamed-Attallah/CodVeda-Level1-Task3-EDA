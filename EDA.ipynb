{
 "cells": [
  {
   "cell_type": "markdown",
   "id": "a9296937-5e6c-46df-8140-1da285aef916",
   "metadata": {},
   "source": [
    "# 🛒 Supermarket Sales EDA Project  \n",
    "\n",
    "## 1. Dataset  \n",
    "- **File**: `supermarket.csv`  \n",
    "- **Source**: [Kaggle - Supermarket EDA Dataset](https://www.kaggle.com/datasets/moro146/supermarket-eda)  \n",
    "- **Size**: 9,800 rows × 18 columns  \n",
    "- **Description**:  \n",
    "  This dataset contains detailed transaction records from a supermarket, including:  \n",
    "  - **Order Details**: Row ID, Order ID, Order Date, Ship Date, Ship Mode  \n",
    "  - **Customer Info**: Customer ID, Customer Name, Segment, Country, City, State, Postal Code, Region  \n",
    "  - **Product Info**: Product ID, Category, Sub-Category, Product Name  \n",
    "  - **Sales Info**: Sales amount per order  \n",
    "\n",
    "---\n",
    "\n",
    "## 2. Libraries Used  \n",
    "- **pandas** → data manipulation & cleaning  \n",
    "- **numpy** → numerical operations  \n",
    "- **matplotlib** → basic visualizations  \n",
    "- **seaborn** → advanced statistical visualizations  \n",
    "- **plotly** (optional) → interactive visualizations  \n",
    "\n",
    "---\n",
    "\n",
    "## 3. EDA Phases  \n",
    "\n",
    "- **✅ Phase 1: Data Understanding**\n",
    "- **✅ Pahse 2: Data cleaning**\n",
    "- **✅ Phase 3: Feature Engineering**\n",
    "- **✅ Phase 4: Univariate Analysis**  \n",
    "- **✅ Phase 5: Outlier Analysis**  \n",
    "- **✅ Phase 6: Multivariate Analysis**\n",
    "- **✅ Phase 7: Insights & Recommendations**\n",
    "  \n",
    "---\n"
   ]
  },
  {
   "cell_type": "markdown",
   "id": "767eb59f-e313-4422-b445-456bc07b90e2",
   "metadata": {},
   "source": [
    "### ✅ Import libs"
   ]
  },
  {
   "cell_type": "code",
   "execution_count": 42,
   "id": "68beb310-7814-489a-b6c3-ac35ca6221b3",
   "metadata": {},
   "outputs": [],
   "source": [
    "# General Data Manipulation\n",
    "import pandas as pd\n",
    "import numpy as np\n",
    "\n",
    "# Visualization\n",
    "import matplotlib.pyplot as plt\n",
    "import seaborn as sns\n",
    "import plotly.express as px\n",
    "import plotly.graph_objects as go\n",
    "from plotly.subplots import make_subplots\n",
    "from dython.nominal import associations\n",
    "from plotly.subplots import make_subplots\n",
    "from dython.nominal import associations\n",
    "\n",
    "\n",
    "# oultiers detection \n",
    "from datasist.structdata import detect_outliers\n",
    "\n",
    "\n",
    "# Display settings\n",
    "pd.set_option('display.max_columns', 100)\n",
    "sns.set(style=\"whitegrid\")\n",
    "\n",
    "# Handling warnings\n",
    "import warnings\n",
    "warnings.filterwarnings(\"ignore\")"
   ]
  },
  {
   "cell_type": "markdown",
   "id": "3292b3ca-a661-42a8-b581-29833df46dcb",
   "metadata": {},
   "source": [
    "### ✅ Data Understanding "
   ]
  },
  {
   "cell_type": "markdown",
   "id": "8c12b718-a575-4034-b79a-792b44e8a683",
   "metadata": {},
   "source": [
    "#### ✅ Load Data"
   ]
  },
  {
   "cell_type": "code",
   "execution_count": 2,
   "id": "fcd5fdb5-aa56-41fb-9868-d73cfb3fc854",
   "metadata": {},
   "outputs": [
    {
     "data": {
      "text/html": [
       "<div>\n",
       "<style scoped>\n",
       "    .dataframe tbody tr th:only-of-type {\n",
       "        vertical-align: middle;\n",
       "    }\n",
       "\n",
       "    .dataframe tbody tr th {\n",
       "        vertical-align: top;\n",
       "    }\n",
       "\n",
       "    .dataframe thead th {\n",
       "        text-align: right;\n",
       "    }\n",
       "</style>\n",
       "<table border=\"1\" class=\"dataframe\">\n",
       "  <thead>\n",
       "    <tr style=\"text-align: right;\">\n",
       "      <th></th>\n",
       "      <th>Row ID</th>\n",
       "      <th>Order ID</th>\n",
       "      <th>Order Date</th>\n",
       "      <th>Ship Date</th>\n",
       "      <th>Ship Mode</th>\n",
       "      <th>Customer ID</th>\n",
       "      <th>Customer Name</th>\n",
       "      <th>Segment</th>\n",
       "      <th>Country</th>\n",
       "      <th>City</th>\n",
       "      <th>State</th>\n",
       "      <th>Postal Code</th>\n",
       "      <th>Region</th>\n",
       "      <th>Product ID</th>\n",
       "      <th>Category</th>\n",
       "      <th>Sub-Category</th>\n",
       "      <th>Product Name</th>\n",
       "      <th>Sales</th>\n",
       "    </tr>\n",
       "  </thead>\n",
       "  <tbody>\n",
       "    <tr>\n",
       "      <th>0</th>\n",
       "      <td>1</td>\n",
       "      <td>CA-2017-152156</td>\n",
       "      <td>08/11/2017</td>\n",
       "      <td>11/11/2017</td>\n",
       "      <td>Second Class</td>\n",
       "      <td>CG-12520</td>\n",
       "      <td>Claire Gute</td>\n",
       "      <td>Consumer</td>\n",
       "      <td>United States</td>\n",
       "      <td>Henderson</td>\n",
       "      <td>Kentucky</td>\n",
       "      <td>42420.0</td>\n",
       "      <td>South</td>\n",
       "      <td>FUR-BO-10001798</td>\n",
       "      <td>Furniture</td>\n",
       "      <td>Bookcases</td>\n",
       "      <td>Bush Somerset Collection Bookcase</td>\n",
       "      <td>261.9600</td>\n",
       "    </tr>\n",
       "    <tr>\n",
       "      <th>1</th>\n",
       "      <td>2</td>\n",
       "      <td>CA-2017-152156</td>\n",
       "      <td>08/11/2017</td>\n",
       "      <td>11/11/2017</td>\n",
       "      <td>Second Class</td>\n",
       "      <td>CG-12520</td>\n",
       "      <td>Claire Gute</td>\n",
       "      <td>Consumer</td>\n",
       "      <td>United States</td>\n",
       "      <td>Henderson</td>\n",
       "      <td>Kentucky</td>\n",
       "      <td>42420.0</td>\n",
       "      <td>South</td>\n",
       "      <td>FUR-CH-10000454</td>\n",
       "      <td>Furniture</td>\n",
       "      <td>Chairs</td>\n",
       "      <td>Hon Deluxe Fabric Upholstered Stacking Chairs,...</td>\n",
       "      <td>731.9400</td>\n",
       "    </tr>\n",
       "    <tr>\n",
       "      <th>2</th>\n",
       "      <td>3</td>\n",
       "      <td>CA-2017-138688</td>\n",
       "      <td>12/06/2017</td>\n",
       "      <td>16/06/2017</td>\n",
       "      <td>Second Class</td>\n",
       "      <td>DV-13045</td>\n",
       "      <td>Darrin Van Huff</td>\n",
       "      <td>Corporate</td>\n",
       "      <td>United States</td>\n",
       "      <td>Los Angeles</td>\n",
       "      <td>California</td>\n",
       "      <td>90036.0</td>\n",
       "      <td>West</td>\n",
       "      <td>OFF-LA-10000240</td>\n",
       "      <td>Office Supplies</td>\n",
       "      <td>Labels</td>\n",
       "      <td>Self-Adhesive Address Labels for Typewriters b...</td>\n",
       "      <td>14.6200</td>\n",
       "    </tr>\n",
       "    <tr>\n",
       "      <th>3</th>\n",
       "      <td>4</td>\n",
       "      <td>US-2016-108966</td>\n",
       "      <td>11/10/2016</td>\n",
       "      <td>18/10/2016</td>\n",
       "      <td>Standard Class</td>\n",
       "      <td>SO-20335</td>\n",
       "      <td>Sean O'Donnell</td>\n",
       "      <td>Consumer</td>\n",
       "      <td>United States</td>\n",
       "      <td>Fort Lauderdale</td>\n",
       "      <td>Florida</td>\n",
       "      <td>33311.0</td>\n",
       "      <td>South</td>\n",
       "      <td>FUR-TA-10000577</td>\n",
       "      <td>Furniture</td>\n",
       "      <td>Tables</td>\n",
       "      <td>Bretford CR4500 Series Slim Rectangular Table</td>\n",
       "      <td>957.5775</td>\n",
       "    </tr>\n",
       "    <tr>\n",
       "      <th>4</th>\n",
       "      <td>5</td>\n",
       "      <td>US-2016-108966</td>\n",
       "      <td>11/10/2016</td>\n",
       "      <td>18/10/2016</td>\n",
       "      <td>Standard Class</td>\n",
       "      <td>SO-20335</td>\n",
       "      <td>Sean O'Donnell</td>\n",
       "      <td>Consumer</td>\n",
       "      <td>United States</td>\n",
       "      <td>Fort Lauderdale</td>\n",
       "      <td>Florida</td>\n",
       "      <td>33311.0</td>\n",
       "      <td>South</td>\n",
       "      <td>OFF-ST-10000760</td>\n",
       "      <td>Office Supplies</td>\n",
       "      <td>Storage</td>\n",
       "      <td>Eldon Fold 'N Roll Cart System</td>\n",
       "      <td>22.3680</td>\n",
       "    </tr>\n",
       "    <tr>\n",
       "      <th>5</th>\n",
       "      <td>6</td>\n",
       "      <td>CA-2015-115812</td>\n",
       "      <td>09/06/2015</td>\n",
       "      <td>14/06/2015</td>\n",
       "      <td>Standard Class</td>\n",
       "      <td>BH-11710</td>\n",
       "      <td>Brosina Hoffman</td>\n",
       "      <td>Consumer</td>\n",
       "      <td>United States</td>\n",
       "      <td>Los Angeles</td>\n",
       "      <td>California</td>\n",
       "      <td>90032.0</td>\n",
       "      <td>West</td>\n",
       "      <td>FUR-FU-10001487</td>\n",
       "      <td>Furniture</td>\n",
       "      <td>Furnishings</td>\n",
       "      <td>Eldon Expressions Wood and Plastic Desk Access...</td>\n",
       "      <td>48.8600</td>\n",
       "    </tr>\n",
       "    <tr>\n",
       "      <th>6</th>\n",
       "      <td>7</td>\n",
       "      <td>CA-2015-115812</td>\n",
       "      <td>09/06/2015</td>\n",
       "      <td>14/06/2015</td>\n",
       "      <td>Standard Class</td>\n",
       "      <td>BH-11710</td>\n",
       "      <td>Brosina Hoffman</td>\n",
       "      <td>Consumer</td>\n",
       "      <td>United States</td>\n",
       "      <td>Los Angeles</td>\n",
       "      <td>California</td>\n",
       "      <td>90032.0</td>\n",
       "      <td>West</td>\n",
       "      <td>OFF-AR-10002833</td>\n",
       "      <td>Office Supplies</td>\n",
       "      <td>Art</td>\n",
       "      <td>Newell 322</td>\n",
       "      <td>7.2800</td>\n",
       "    </tr>\n",
       "    <tr>\n",
       "      <th>7</th>\n",
       "      <td>8</td>\n",
       "      <td>CA-2015-115812</td>\n",
       "      <td>09/06/2015</td>\n",
       "      <td>14/06/2015</td>\n",
       "      <td>Standard Class</td>\n",
       "      <td>BH-11710</td>\n",
       "      <td>Brosina Hoffman</td>\n",
       "      <td>Consumer</td>\n",
       "      <td>United States</td>\n",
       "      <td>Los Angeles</td>\n",
       "      <td>California</td>\n",
       "      <td>90032.0</td>\n",
       "      <td>West</td>\n",
       "      <td>TEC-PH-10002275</td>\n",
       "      <td>Technology</td>\n",
       "      <td>Phones</td>\n",
       "      <td>Mitel 5320 IP Phone VoIP phone</td>\n",
       "      <td>907.1520</td>\n",
       "    </tr>\n",
       "    <tr>\n",
       "      <th>8</th>\n",
       "      <td>9</td>\n",
       "      <td>CA-2015-115812</td>\n",
       "      <td>09/06/2015</td>\n",
       "      <td>14/06/2015</td>\n",
       "      <td>Standard Class</td>\n",
       "      <td>BH-11710</td>\n",
       "      <td>Brosina Hoffman</td>\n",
       "      <td>Consumer</td>\n",
       "      <td>United States</td>\n",
       "      <td>Los Angeles</td>\n",
       "      <td>California</td>\n",
       "      <td>90032.0</td>\n",
       "      <td>West</td>\n",
       "      <td>OFF-BI-10003910</td>\n",
       "      <td>Office Supplies</td>\n",
       "      <td>Binders</td>\n",
       "      <td>DXL Angle-View Binders with Locking Rings by S...</td>\n",
       "      <td>18.5040</td>\n",
       "    </tr>\n",
       "    <tr>\n",
       "      <th>9</th>\n",
       "      <td>10</td>\n",
       "      <td>CA-2015-115812</td>\n",
       "      <td>09/06/2015</td>\n",
       "      <td>14/06/2015</td>\n",
       "      <td>Standard Class</td>\n",
       "      <td>BH-11710</td>\n",
       "      <td>Brosina Hoffman</td>\n",
       "      <td>Consumer</td>\n",
       "      <td>United States</td>\n",
       "      <td>Los Angeles</td>\n",
       "      <td>California</td>\n",
       "      <td>90032.0</td>\n",
       "      <td>West</td>\n",
       "      <td>OFF-AP-10002892</td>\n",
       "      <td>Office Supplies</td>\n",
       "      <td>Appliances</td>\n",
       "      <td>Belkin F5C206VTEL 6 Outlet Surge</td>\n",
       "      <td>114.9000</td>\n",
       "    </tr>\n",
       "  </tbody>\n",
       "</table>\n",
       "</div>"
      ],
      "text/plain": [
       "   Row ID        Order ID  Order Date   Ship Date       Ship Mode Customer ID  \\\n",
       "0       1  CA-2017-152156  08/11/2017  11/11/2017    Second Class    CG-12520   \n",
       "1       2  CA-2017-152156  08/11/2017  11/11/2017    Second Class    CG-12520   \n",
       "2       3  CA-2017-138688  12/06/2017  16/06/2017    Second Class    DV-13045   \n",
       "3       4  US-2016-108966  11/10/2016  18/10/2016  Standard Class    SO-20335   \n",
       "4       5  US-2016-108966  11/10/2016  18/10/2016  Standard Class    SO-20335   \n",
       "5       6  CA-2015-115812  09/06/2015  14/06/2015  Standard Class    BH-11710   \n",
       "6       7  CA-2015-115812  09/06/2015  14/06/2015  Standard Class    BH-11710   \n",
       "7       8  CA-2015-115812  09/06/2015  14/06/2015  Standard Class    BH-11710   \n",
       "8       9  CA-2015-115812  09/06/2015  14/06/2015  Standard Class    BH-11710   \n",
       "9      10  CA-2015-115812  09/06/2015  14/06/2015  Standard Class    BH-11710   \n",
       "\n",
       "     Customer Name    Segment        Country             City       State  \\\n",
       "0      Claire Gute   Consumer  United States        Henderson    Kentucky   \n",
       "1      Claire Gute   Consumer  United States        Henderson    Kentucky   \n",
       "2  Darrin Van Huff  Corporate  United States      Los Angeles  California   \n",
       "3   Sean O'Donnell   Consumer  United States  Fort Lauderdale     Florida   \n",
       "4   Sean O'Donnell   Consumer  United States  Fort Lauderdale     Florida   \n",
       "5  Brosina Hoffman   Consumer  United States      Los Angeles  California   \n",
       "6  Brosina Hoffman   Consumer  United States      Los Angeles  California   \n",
       "7  Brosina Hoffman   Consumer  United States      Los Angeles  California   \n",
       "8  Brosina Hoffman   Consumer  United States      Los Angeles  California   \n",
       "9  Brosina Hoffman   Consumer  United States      Los Angeles  California   \n",
       "\n",
       "   Postal Code Region       Product ID         Category Sub-Category  \\\n",
       "0      42420.0  South  FUR-BO-10001798        Furniture    Bookcases   \n",
       "1      42420.0  South  FUR-CH-10000454        Furniture       Chairs   \n",
       "2      90036.0   West  OFF-LA-10000240  Office Supplies       Labels   \n",
       "3      33311.0  South  FUR-TA-10000577        Furniture       Tables   \n",
       "4      33311.0  South  OFF-ST-10000760  Office Supplies      Storage   \n",
       "5      90032.0   West  FUR-FU-10001487        Furniture  Furnishings   \n",
       "6      90032.0   West  OFF-AR-10002833  Office Supplies          Art   \n",
       "7      90032.0   West  TEC-PH-10002275       Technology       Phones   \n",
       "8      90032.0   West  OFF-BI-10003910  Office Supplies      Binders   \n",
       "9      90032.0   West  OFF-AP-10002892  Office Supplies   Appliances   \n",
       "\n",
       "                                        Product Name     Sales  \n",
       "0                  Bush Somerset Collection Bookcase  261.9600  \n",
       "1  Hon Deluxe Fabric Upholstered Stacking Chairs,...  731.9400  \n",
       "2  Self-Adhesive Address Labels for Typewriters b...   14.6200  \n",
       "3      Bretford CR4500 Series Slim Rectangular Table  957.5775  \n",
       "4                     Eldon Fold 'N Roll Cart System   22.3680  \n",
       "5  Eldon Expressions Wood and Plastic Desk Access...   48.8600  \n",
       "6                                         Newell 322    7.2800  \n",
       "7                     Mitel 5320 IP Phone VoIP phone  907.1520  \n",
       "8  DXL Angle-View Binders with Locking Rings by S...   18.5040  \n",
       "9                   Belkin F5C206VTEL 6 Outlet Surge  114.9000  "
      ]
     },
     "execution_count": 2,
     "metadata": {},
     "output_type": "execute_result"
    }
   ],
   "source": [
    "df = pd.read_csv(\"supermarket.csv\")\n",
    "df.head(10)"
   ]
  },
  {
   "cell_type": "markdown",
   "id": "07c7f6ef-b0b9-4c4b-b9f6-f7d1e304583e",
   "metadata": {},
   "source": [
    "#### ✅ Check Info"
   ]
  },
  {
   "cell_type": "code",
   "execution_count": 3,
   "id": "d0c601cb-6bd8-4fce-8970-b27971109216",
   "metadata": {},
   "outputs": [
    {
     "name": "stdout",
     "output_type": "stream",
     "text": [
      "<class 'pandas.core.frame.DataFrame'>\n",
      "RangeIndex: 9800 entries, 0 to 9799\n",
      "Data columns (total 18 columns):\n",
      " #   Column         Non-Null Count  Dtype  \n",
      "---  ------         --------------  -----  \n",
      " 0   Row ID         9800 non-null   int64  \n",
      " 1   Order ID       9800 non-null   object \n",
      " 2   Order Date     9800 non-null   object \n",
      " 3   Ship Date      9800 non-null   object \n",
      " 4   Ship Mode      9800 non-null   object \n",
      " 5   Customer ID    9800 non-null   object \n",
      " 6   Customer Name  9800 non-null   object \n",
      " 7   Segment        9800 non-null   object \n",
      " 8   Country        9800 non-null   object \n",
      " 9   City           9800 non-null   object \n",
      " 10  State          9800 non-null   object \n",
      " 11  Postal Code    9789 non-null   float64\n",
      " 12  Region         9800 non-null   object \n",
      " 13  Product ID     9800 non-null   object \n",
      " 14  Category       9800 non-null   object \n",
      " 15  Sub-Category   9800 non-null   object \n",
      " 16  Product Name   9800 non-null   object \n",
      " 17  Sales          9800 non-null   float64\n",
      "dtypes: float64(2), int64(1), object(15)\n",
      "memory usage: 1.3+ MB\n"
     ]
    }
   ],
   "source": [
    "# let's show info\n",
    "df.info()"
   ]
  },
  {
   "cell_type": "markdown",
   "id": "27be8141-b658-4c0d-b08a-ba1c20b513b7",
   "metadata": {},
   "source": [
    "#### ✅ Summary analysis "
   ]
  },
  {
   "cell_type": "code",
   "execution_count": 4,
   "id": "fe96adca-6552-4993-bd4b-cec4d688900c",
   "metadata": {},
   "outputs": [
    {
     "data": {
      "text/html": [
       "<div>\n",
       "<style scoped>\n",
       "    .dataframe tbody tr th:only-of-type {\n",
       "        vertical-align: middle;\n",
       "    }\n",
       "\n",
       "    .dataframe tbody tr th {\n",
       "        vertical-align: top;\n",
       "    }\n",
       "\n",
       "    .dataframe thead th {\n",
       "        text-align: right;\n",
       "    }\n",
       "</style>\n",
       "<table border=\"1\" class=\"dataframe\">\n",
       "  <thead>\n",
       "    <tr style=\"text-align: right;\">\n",
       "      <th></th>\n",
       "      <th>Row ID</th>\n",
       "      <th>Postal Code</th>\n",
       "      <th>Sales</th>\n",
       "    </tr>\n",
       "  </thead>\n",
       "  <tbody>\n",
       "    <tr>\n",
       "      <th>count</th>\n",
       "      <td>9800.000000</td>\n",
       "      <td>9789.000000</td>\n",
       "      <td>9800.000000</td>\n",
       "    </tr>\n",
       "    <tr>\n",
       "      <th>mean</th>\n",
       "      <td>4900.500000</td>\n",
       "      <td>55273.322403</td>\n",
       "      <td>230.769059</td>\n",
       "    </tr>\n",
       "    <tr>\n",
       "      <th>std</th>\n",
       "      <td>2829.160653</td>\n",
       "      <td>32041.223413</td>\n",
       "      <td>626.651875</td>\n",
       "    </tr>\n",
       "    <tr>\n",
       "      <th>min</th>\n",
       "      <td>1.000000</td>\n",
       "      <td>1040.000000</td>\n",
       "      <td>0.444000</td>\n",
       "    </tr>\n",
       "    <tr>\n",
       "      <th>25%</th>\n",
       "      <td>2450.750000</td>\n",
       "      <td>23223.000000</td>\n",
       "      <td>17.248000</td>\n",
       "    </tr>\n",
       "    <tr>\n",
       "      <th>50%</th>\n",
       "      <td>4900.500000</td>\n",
       "      <td>58103.000000</td>\n",
       "      <td>54.490000</td>\n",
       "    </tr>\n",
       "    <tr>\n",
       "      <th>75%</th>\n",
       "      <td>7350.250000</td>\n",
       "      <td>90008.000000</td>\n",
       "      <td>210.605000</td>\n",
       "    </tr>\n",
       "    <tr>\n",
       "      <th>max</th>\n",
       "      <td>9800.000000</td>\n",
       "      <td>99301.000000</td>\n",
       "      <td>22638.480000</td>\n",
       "    </tr>\n",
       "  </tbody>\n",
       "</table>\n",
       "</div>"
      ],
      "text/plain": [
       "            Row ID   Postal Code         Sales\n",
       "count  9800.000000   9789.000000   9800.000000\n",
       "mean   4900.500000  55273.322403    230.769059\n",
       "std    2829.160653  32041.223413    626.651875\n",
       "min       1.000000   1040.000000      0.444000\n",
       "25%    2450.750000  23223.000000     17.248000\n",
       "50%    4900.500000  58103.000000     54.490000\n",
       "75%    7350.250000  90008.000000    210.605000\n",
       "max    9800.000000  99301.000000  22638.480000"
      ]
     },
     "execution_count": 4,
     "metadata": {},
     "output_type": "execute_result"
    }
   ],
   "source": [
    "# let's show summary analysis for numeric data \n",
    "df.select_dtypes(include='number').describe()"
   ]
  },
  {
   "cell_type": "code",
   "execution_count": 5,
   "id": "7adccc18-5466-40f5-95ff-9502ea59c81b",
   "metadata": {
    "scrolled": true
   },
   "outputs": [
    {
     "data": {
      "text/html": [
       "<div>\n",
       "<style scoped>\n",
       "    .dataframe tbody tr th:only-of-type {\n",
       "        vertical-align: middle;\n",
       "    }\n",
       "\n",
       "    .dataframe tbody tr th {\n",
       "        vertical-align: top;\n",
       "    }\n",
       "\n",
       "    .dataframe thead th {\n",
       "        text-align: right;\n",
       "    }\n",
       "</style>\n",
       "<table border=\"1\" class=\"dataframe\">\n",
       "  <thead>\n",
       "    <tr style=\"text-align: right;\">\n",
       "      <th></th>\n",
       "      <th>count</th>\n",
       "      <th>unique</th>\n",
       "      <th>top</th>\n",
       "      <th>freq</th>\n",
       "    </tr>\n",
       "  </thead>\n",
       "  <tbody>\n",
       "    <tr>\n",
       "      <th>Order ID</th>\n",
       "      <td>9800</td>\n",
       "      <td>4922</td>\n",
       "      <td>CA-2018-100111</td>\n",
       "      <td>14</td>\n",
       "    </tr>\n",
       "    <tr>\n",
       "      <th>Order Date</th>\n",
       "      <td>9800</td>\n",
       "      <td>1230</td>\n",
       "      <td>05/09/2017</td>\n",
       "      <td>38</td>\n",
       "    </tr>\n",
       "    <tr>\n",
       "      <th>Ship Date</th>\n",
       "      <td>9800</td>\n",
       "      <td>1326</td>\n",
       "      <td>26/09/2018</td>\n",
       "      <td>34</td>\n",
       "    </tr>\n",
       "    <tr>\n",
       "      <th>Ship Mode</th>\n",
       "      <td>9800</td>\n",
       "      <td>4</td>\n",
       "      <td>Standard Class</td>\n",
       "      <td>5859</td>\n",
       "    </tr>\n",
       "    <tr>\n",
       "      <th>Customer ID</th>\n",
       "      <td>9800</td>\n",
       "      <td>793</td>\n",
       "      <td>WB-21850</td>\n",
       "      <td>35</td>\n",
       "    </tr>\n",
       "    <tr>\n",
       "      <th>Customer Name</th>\n",
       "      <td>9800</td>\n",
       "      <td>793</td>\n",
       "      <td>William Brown</td>\n",
       "      <td>35</td>\n",
       "    </tr>\n",
       "    <tr>\n",
       "      <th>Segment</th>\n",
       "      <td>9800</td>\n",
       "      <td>3</td>\n",
       "      <td>Consumer</td>\n",
       "      <td>5101</td>\n",
       "    </tr>\n",
       "    <tr>\n",
       "      <th>Country</th>\n",
       "      <td>9800</td>\n",
       "      <td>1</td>\n",
       "      <td>United States</td>\n",
       "      <td>9800</td>\n",
       "    </tr>\n",
       "    <tr>\n",
       "      <th>City</th>\n",
       "      <td>9800</td>\n",
       "      <td>529</td>\n",
       "      <td>New York City</td>\n",
       "      <td>891</td>\n",
       "    </tr>\n",
       "    <tr>\n",
       "      <th>State</th>\n",
       "      <td>9800</td>\n",
       "      <td>49</td>\n",
       "      <td>California</td>\n",
       "      <td>1946</td>\n",
       "    </tr>\n",
       "    <tr>\n",
       "      <th>Region</th>\n",
       "      <td>9800</td>\n",
       "      <td>4</td>\n",
       "      <td>West</td>\n",
       "      <td>3140</td>\n",
       "    </tr>\n",
       "    <tr>\n",
       "      <th>Product ID</th>\n",
       "      <td>9800</td>\n",
       "      <td>1861</td>\n",
       "      <td>OFF-PA-10001970</td>\n",
       "      <td>19</td>\n",
       "    </tr>\n",
       "    <tr>\n",
       "      <th>Category</th>\n",
       "      <td>9800</td>\n",
       "      <td>3</td>\n",
       "      <td>Office Supplies</td>\n",
       "      <td>5909</td>\n",
       "    </tr>\n",
       "    <tr>\n",
       "      <th>Sub-Category</th>\n",
       "      <td>9800</td>\n",
       "      <td>17</td>\n",
       "      <td>Binders</td>\n",
       "      <td>1492</td>\n",
       "    </tr>\n",
       "    <tr>\n",
       "      <th>Product Name</th>\n",
       "      <td>9800</td>\n",
       "      <td>1849</td>\n",
       "      <td>Staple envelope</td>\n",
       "      <td>47</td>\n",
       "    </tr>\n",
       "  </tbody>\n",
       "</table>\n",
       "</div>"
      ],
      "text/plain": [
       "              count unique              top  freq\n",
       "Order ID       9800   4922   CA-2018-100111    14\n",
       "Order Date     9800   1230       05/09/2017    38\n",
       "Ship Date      9800   1326       26/09/2018    34\n",
       "Ship Mode      9800      4   Standard Class  5859\n",
       "Customer ID    9800    793         WB-21850    35\n",
       "Customer Name  9800    793    William Brown    35\n",
       "Segment        9800      3         Consumer  5101\n",
       "Country        9800      1    United States  9800\n",
       "City           9800    529    New York City   891\n",
       "State          9800     49       California  1946\n",
       "Region         9800      4             West  3140\n",
       "Product ID     9800   1861  OFF-PA-10001970    19\n",
       "Category       9800      3  Office Supplies  5909\n",
       "Sub-Category   9800     17          Binders  1492\n",
       "Product Name   9800   1849  Staple envelope    47"
      ]
     },
     "execution_count": 5,
     "metadata": {},
     "output_type": "execute_result"
    }
   ],
   "source": [
    "# let's show it for Categoric Data \n",
    "df.select_dtypes(include=\"object\").describe().T"
   ]
  },
  {
   "cell_type": "markdown",
   "id": "3278a520-8fad-47d5-8c5f-956ce0dde05f",
   "metadata": {},
   "source": [
    "### ✅ Data Cleaning"
   ]
  },
  {
   "cell_type": "markdown",
   "id": "058c1038-ecbf-4ac2-8e2d-49e574393613",
   "metadata": {},
   "source": [
    "#### ✅ Drop Null values"
   ]
  },
  {
   "cell_type": "code",
   "execution_count": 6,
   "id": "dd42c154-1a9c-4728-aa32-1f6ef09ec9d9",
   "metadata": {},
   "outputs": [],
   "source": [
    "# we have a small null values \n",
    "# let's drop it \n",
    "\n",
    "df.dropna(axis=0,inplace=True)\n",
    "df.reset_index(inplace=True,drop=True)"
   ]
  },
  {
   "cell_type": "code",
   "execution_count": 7,
   "id": "9fc9f8ea-1597-4e54-bd67-de14e66443a4",
   "metadata": {},
   "outputs": [
    {
     "data": {
      "text/html": [
       "<div>\n",
       "<style scoped>\n",
       "    .dataframe tbody tr th:only-of-type {\n",
       "        vertical-align: middle;\n",
       "    }\n",
       "\n",
       "    .dataframe tbody tr th {\n",
       "        vertical-align: top;\n",
       "    }\n",
       "\n",
       "    .dataframe thead th {\n",
       "        text-align: right;\n",
       "    }\n",
       "</style>\n",
       "<table border=\"1\" class=\"dataframe\">\n",
       "  <thead>\n",
       "    <tr style=\"text-align: right;\">\n",
       "      <th></th>\n",
       "      <th>Row ID</th>\n",
       "      <th>Order ID</th>\n",
       "      <th>Order Date</th>\n",
       "      <th>Ship Date</th>\n",
       "      <th>Ship Mode</th>\n",
       "      <th>Customer ID</th>\n",
       "      <th>Customer Name</th>\n",
       "      <th>Segment</th>\n",
       "      <th>Country</th>\n",
       "      <th>City</th>\n",
       "      <th>State</th>\n",
       "      <th>Postal Code</th>\n",
       "      <th>Region</th>\n",
       "      <th>Product ID</th>\n",
       "      <th>Category</th>\n",
       "      <th>Sub-Category</th>\n",
       "      <th>Product Name</th>\n",
       "      <th>Sales</th>\n",
       "    </tr>\n",
       "  </thead>\n",
       "  <tbody>\n",
       "    <tr>\n",
       "      <th>0</th>\n",
       "      <td>1</td>\n",
       "      <td>CA-2017-152156</td>\n",
       "      <td>08/11/2017</td>\n",
       "      <td>11/11/2017</td>\n",
       "      <td>Second Class</td>\n",
       "      <td>CG-12520</td>\n",
       "      <td>Claire Gute</td>\n",
       "      <td>Consumer</td>\n",
       "      <td>United States</td>\n",
       "      <td>Henderson</td>\n",
       "      <td>Kentucky</td>\n",
       "      <td>42420.0</td>\n",
       "      <td>South</td>\n",
       "      <td>FUR-BO-10001798</td>\n",
       "      <td>Furniture</td>\n",
       "      <td>Bookcases</td>\n",
       "      <td>Bush Somerset Collection Bookcase</td>\n",
       "      <td>261.9600</td>\n",
       "    </tr>\n",
       "    <tr>\n",
       "      <th>1</th>\n",
       "      <td>2</td>\n",
       "      <td>CA-2017-152156</td>\n",
       "      <td>08/11/2017</td>\n",
       "      <td>11/11/2017</td>\n",
       "      <td>Second Class</td>\n",
       "      <td>CG-12520</td>\n",
       "      <td>Claire Gute</td>\n",
       "      <td>Consumer</td>\n",
       "      <td>United States</td>\n",
       "      <td>Henderson</td>\n",
       "      <td>Kentucky</td>\n",
       "      <td>42420.0</td>\n",
       "      <td>South</td>\n",
       "      <td>FUR-CH-10000454</td>\n",
       "      <td>Furniture</td>\n",
       "      <td>Chairs</td>\n",
       "      <td>Hon Deluxe Fabric Upholstered Stacking Chairs,...</td>\n",
       "      <td>731.9400</td>\n",
       "    </tr>\n",
       "    <tr>\n",
       "      <th>2</th>\n",
       "      <td>3</td>\n",
       "      <td>CA-2017-138688</td>\n",
       "      <td>12/06/2017</td>\n",
       "      <td>16/06/2017</td>\n",
       "      <td>Second Class</td>\n",
       "      <td>DV-13045</td>\n",
       "      <td>Darrin Van Huff</td>\n",
       "      <td>Corporate</td>\n",
       "      <td>United States</td>\n",
       "      <td>Los Angeles</td>\n",
       "      <td>California</td>\n",
       "      <td>90036.0</td>\n",
       "      <td>West</td>\n",
       "      <td>OFF-LA-10000240</td>\n",
       "      <td>Office Supplies</td>\n",
       "      <td>Labels</td>\n",
       "      <td>Self-Adhesive Address Labels for Typewriters b...</td>\n",
       "      <td>14.6200</td>\n",
       "    </tr>\n",
       "    <tr>\n",
       "      <th>3</th>\n",
       "      <td>4</td>\n",
       "      <td>US-2016-108966</td>\n",
       "      <td>11/10/2016</td>\n",
       "      <td>18/10/2016</td>\n",
       "      <td>Standard Class</td>\n",
       "      <td>SO-20335</td>\n",
       "      <td>Sean O'Donnell</td>\n",
       "      <td>Consumer</td>\n",
       "      <td>United States</td>\n",
       "      <td>Fort Lauderdale</td>\n",
       "      <td>Florida</td>\n",
       "      <td>33311.0</td>\n",
       "      <td>South</td>\n",
       "      <td>FUR-TA-10000577</td>\n",
       "      <td>Furniture</td>\n",
       "      <td>Tables</td>\n",
       "      <td>Bretford CR4500 Series Slim Rectangular Table</td>\n",
       "      <td>957.5775</td>\n",
       "    </tr>\n",
       "    <tr>\n",
       "      <th>4</th>\n",
       "      <td>5</td>\n",
       "      <td>US-2016-108966</td>\n",
       "      <td>11/10/2016</td>\n",
       "      <td>18/10/2016</td>\n",
       "      <td>Standard Class</td>\n",
       "      <td>SO-20335</td>\n",
       "      <td>Sean O'Donnell</td>\n",
       "      <td>Consumer</td>\n",
       "      <td>United States</td>\n",
       "      <td>Fort Lauderdale</td>\n",
       "      <td>Florida</td>\n",
       "      <td>33311.0</td>\n",
       "      <td>South</td>\n",
       "      <td>OFF-ST-10000760</td>\n",
       "      <td>Office Supplies</td>\n",
       "      <td>Storage</td>\n",
       "      <td>Eldon Fold 'N Roll Cart System</td>\n",
       "      <td>22.3680</td>\n",
       "    </tr>\n",
       "    <tr>\n",
       "      <th>...</th>\n",
       "      <td>...</td>\n",
       "      <td>...</td>\n",
       "      <td>...</td>\n",
       "      <td>...</td>\n",
       "      <td>...</td>\n",
       "      <td>...</td>\n",
       "      <td>...</td>\n",
       "      <td>...</td>\n",
       "      <td>...</td>\n",
       "      <td>...</td>\n",
       "      <td>...</td>\n",
       "      <td>...</td>\n",
       "      <td>...</td>\n",
       "      <td>...</td>\n",
       "      <td>...</td>\n",
       "      <td>...</td>\n",
       "      <td>...</td>\n",
       "      <td>...</td>\n",
       "    </tr>\n",
       "    <tr>\n",
       "      <th>9784</th>\n",
       "      <td>9796</td>\n",
       "      <td>CA-2017-125920</td>\n",
       "      <td>21/05/2017</td>\n",
       "      <td>28/05/2017</td>\n",
       "      <td>Standard Class</td>\n",
       "      <td>SH-19975</td>\n",
       "      <td>Sally Hughsby</td>\n",
       "      <td>Corporate</td>\n",
       "      <td>United States</td>\n",
       "      <td>Chicago</td>\n",
       "      <td>Illinois</td>\n",
       "      <td>60610.0</td>\n",
       "      <td>Central</td>\n",
       "      <td>OFF-BI-10003429</td>\n",
       "      <td>Office Supplies</td>\n",
       "      <td>Binders</td>\n",
       "      <td>Cardinal HOLDit! Binder Insert Strips,Extra St...</td>\n",
       "      <td>3.7980</td>\n",
       "    </tr>\n",
       "    <tr>\n",
       "      <th>9785</th>\n",
       "      <td>9797</td>\n",
       "      <td>CA-2016-128608</td>\n",
       "      <td>12/01/2016</td>\n",
       "      <td>17/01/2016</td>\n",
       "      <td>Standard Class</td>\n",
       "      <td>CS-12490</td>\n",
       "      <td>Cindy Schnelling</td>\n",
       "      <td>Corporate</td>\n",
       "      <td>United States</td>\n",
       "      <td>Toledo</td>\n",
       "      <td>Ohio</td>\n",
       "      <td>43615.0</td>\n",
       "      <td>East</td>\n",
       "      <td>OFF-AR-10001374</td>\n",
       "      <td>Office Supplies</td>\n",
       "      <td>Art</td>\n",
       "      <td>BIC Brite Liner Highlighters, Chisel Tip</td>\n",
       "      <td>10.3680</td>\n",
       "    </tr>\n",
       "    <tr>\n",
       "      <th>9786</th>\n",
       "      <td>9798</td>\n",
       "      <td>CA-2016-128608</td>\n",
       "      <td>12/01/2016</td>\n",
       "      <td>17/01/2016</td>\n",
       "      <td>Standard Class</td>\n",
       "      <td>CS-12490</td>\n",
       "      <td>Cindy Schnelling</td>\n",
       "      <td>Corporate</td>\n",
       "      <td>United States</td>\n",
       "      <td>Toledo</td>\n",
       "      <td>Ohio</td>\n",
       "      <td>43615.0</td>\n",
       "      <td>East</td>\n",
       "      <td>TEC-PH-10004977</td>\n",
       "      <td>Technology</td>\n",
       "      <td>Phones</td>\n",
       "      <td>GE 30524EE4</td>\n",
       "      <td>235.1880</td>\n",
       "    </tr>\n",
       "    <tr>\n",
       "      <th>9787</th>\n",
       "      <td>9799</td>\n",
       "      <td>CA-2016-128608</td>\n",
       "      <td>12/01/2016</td>\n",
       "      <td>17/01/2016</td>\n",
       "      <td>Standard Class</td>\n",
       "      <td>CS-12490</td>\n",
       "      <td>Cindy Schnelling</td>\n",
       "      <td>Corporate</td>\n",
       "      <td>United States</td>\n",
       "      <td>Toledo</td>\n",
       "      <td>Ohio</td>\n",
       "      <td>43615.0</td>\n",
       "      <td>East</td>\n",
       "      <td>TEC-PH-10000912</td>\n",
       "      <td>Technology</td>\n",
       "      <td>Phones</td>\n",
       "      <td>Anker 24W Portable Micro USB Car Charger</td>\n",
       "      <td>26.3760</td>\n",
       "    </tr>\n",
       "    <tr>\n",
       "      <th>9788</th>\n",
       "      <td>9800</td>\n",
       "      <td>CA-2016-128608</td>\n",
       "      <td>12/01/2016</td>\n",
       "      <td>17/01/2016</td>\n",
       "      <td>Standard Class</td>\n",
       "      <td>CS-12490</td>\n",
       "      <td>Cindy Schnelling</td>\n",
       "      <td>Corporate</td>\n",
       "      <td>United States</td>\n",
       "      <td>Toledo</td>\n",
       "      <td>Ohio</td>\n",
       "      <td>43615.0</td>\n",
       "      <td>East</td>\n",
       "      <td>TEC-AC-10000487</td>\n",
       "      <td>Technology</td>\n",
       "      <td>Accessories</td>\n",
       "      <td>SanDisk Cruzer 4 GB USB Flash Drive</td>\n",
       "      <td>10.3840</td>\n",
       "    </tr>\n",
       "  </tbody>\n",
       "</table>\n",
       "<p>9789 rows × 18 columns</p>\n",
       "</div>"
      ],
      "text/plain": [
       "      Row ID        Order ID  Order Date   Ship Date       Ship Mode  \\\n",
       "0          1  CA-2017-152156  08/11/2017  11/11/2017    Second Class   \n",
       "1          2  CA-2017-152156  08/11/2017  11/11/2017    Second Class   \n",
       "2          3  CA-2017-138688  12/06/2017  16/06/2017    Second Class   \n",
       "3          4  US-2016-108966  11/10/2016  18/10/2016  Standard Class   \n",
       "4          5  US-2016-108966  11/10/2016  18/10/2016  Standard Class   \n",
       "...      ...             ...         ...         ...             ...   \n",
       "9784    9796  CA-2017-125920  21/05/2017  28/05/2017  Standard Class   \n",
       "9785    9797  CA-2016-128608  12/01/2016  17/01/2016  Standard Class   \n",
       "9786    9798  CA-2016-128608  12/01/2016  17/01/2016  Standard Class   \n",
       "9787    9799  CA-2016-128608  12/01/2016  17/01/2016  Standard Class   \n",
       "9788    9800  CA-2016-128608  12/01/2016  17/01/2016  Standard Class   \n",
       "\n",
       "     Customer ID     Customer Name    Segment        Country             City  \\\n",
       "0       CG-12520       Claire Gute   Consumer  United States        Henderson   \n",
       "1       CG-12520       Claire Gute   Consumer  United States        Henderson   \n",
       "2       DV-13045   Darrin Van Huff  Corporate  United States      Los Angeles   \n",
       "3       SO-20335    Sean O'Donnell   Consumer  United States  Fort Lauderdale   \n",
       "4       SO-20335    Sean O'Donnell   Consumer  United States  Fort Lauderdale   \n",
       "...          ...               ...        ...            ...              ...   \n",
       "9784    SH-19975     Sally Hughsby  Corporate  United States          Chicago   \n",
       "9785    CS-12490  Cindy Schnelling  Corporate  United States           Toledo   \n",
       "9786    CS-12490  Cindy Schnelling  Corporate  United States           Toledo   \n",
       "9787    CS-12490  Cindy Schnelling  Corporate  United States           Toledo   \n",
       "9788    CS-12490  Cindy Schnelling  Corporate  United States           Toledo   \n",
       "\n",
       "           State  Postal Code   Region       Product ID         Category  \\\n",
       "0       Kentucky      42420.0    South  FUR-BO-10001798        Furniture   \n",
       "1       Kentucky      42420.0    South  FUR-CH-10000454        Furniture   \n",
       "2     California      90036.0     West  OFF-LA-10000240  Office Supplies   \n",
       "3        Florida      33311.0    South  FUR-TA-10000577        Furniture   \n",
       "4        Florida      33311.0    South  OFF-ST-10000760  Office Supplies   \n",
       "...          ...          ...      ...              ...              ...   \n",
       "9784    Illinois      60610.0  Central  OFF-BI-10003429  Office Supplies   \n",
       "9785        Ohio      43615.0     East  OFF-AR-10001374  Office Supplies   \n",
       "9786        Ohio      43615.0     East  TEC-PH-10004977       Technology   \n",
       "9787        Ohio      43615.0     East  TEC-PH-10000912       Technology   \n",
       "9788        Ohio      43615.0     East  TEC-AC-10000487       Technology   \n",
       "\n",
       "     Sub-Category                                       Product Name     Sales  \n",
       "0       Bookcases                  Bush Somerset Collection Bookcase  261.9600  \n",
       "1          Chairs  Hon Deluxe Fabric Upholstered Stacking Chairs,...  731.9400  \n",
       "2          Labels  Self-Adhesive Address Labels for Typewriters b...   14.6200  \n",
       "3          Tables      Bretford CR4500 Series Slim Rectangular Table  957.5775  \n",
       "4         Storage                     Eldon Fold 'N Roll Cart System   22.3680  \n",
       "...           ...                                                ...       ...  \n",
       "9784      Binders  Cardinal HOLDit! Binder Insert Strips,Extra St...    3.7980  \n",
       "9785          Art           BIC Brite Liner Highlighters, Chisel Tip   10.3680  \n",
       "9786       Phones                                        GE 30524EE4  235.1880  \n",
       "9787       Phones           Anker 24W Portable Micro USB Car Charger   26.3760  \n",
       "9788  Accessories                SanDisk Cruzer 4 GB USB Flash Drive   10.3840  \n",
       "\n",
       "[9789 rows x 18 columns]"
      ]
     },
     "execution_count": 7,
     "metadata": {},
     "output_type": "execute_result"
    }
   ],
   "source": [
    "df"
   ]
  },
  {
   "cell_type": "markdown",
   "id": "7f3dd629-3b77-4784-b6f6-de549fef2412",
   "metadata": {},
   "source": [
    "#### ✅ Fix Data type"
   ]
  },
  {
   "cell_type": "code",
   "execution_count": 8,
   "id": "649d4dee-afa6-420a-8aea-a3a54c711e29",
   "metadata": {},
   "outputs": [],
   "source": [
    "# we have to date we need to convert data type from Object to date time\n",
    "df['Order Date'] = pd.to_datetime(df['Order Date'],format=\"%d/%m/%Y\")\n",
    "df['Ship Date'] = pd.to_datetime(df['Ship Date'],format=\"%d/%m/%Y\")"
   ]
  },
  {
   "cell_type": "code",
   "execution_count": 9,
   "id": "81f82b5a-d73f-4080-b0a4-dd5175707f8c",
   "metadata": {},
   "outputs": [
    {
     "name": "stdout",
     "output_type": "stream",
     "text": [
      "<class 'pandas.core.frame.DataFrame'>\n",
      "RangeIndex: 9789 entries, 0 to 9788\n",
      "Data columns (total 18 columns):\n",
      " #   Column         Non-Null Count  Dtype         \n",
      "---  ------         --------------  -----         \n",
      " 0   Row ID         9789 non-null   int64         \n",
      " 1   Order ID       9789 non-null   object        \n",
      " 2   Order Date     9789 non-null   datetime64[ns]\n",
      " 3   Ship Date      9789 non-null   datetime64[ns]\n",
      " 4   Ship Mode      9789 non-null   object        \n",
      " 5   Customer ID    9789 non-null   object        \n",
      " 6   Customer Name  9789 non-null   object        \n",
      " 7   Segment        9789 non-null   object        \n",
      " 8   Country        9789 non-null   object        \n",
      " 9   City           9789 non-null   object        \n",
      " 10  State          9789 non-null   object        \n",
      " 11  Postal Code    9789 non-null   float64       \n",
      " 12  Region         9789 non-null   object        \n",
      " 13  Product ID     9789 non-null   object        \n",
      " 14  Category       9789 non-null   object        \n",
      " 15  Sub-Category   9789 non-null   object        \n",
      " 16  Product Name   9789 non-null   object        \n",
      " 17  Sales          9789 non-null   float64       \n",
      "dtypes: datetime64[ns](2), float64(2), int64(1), object(13)\n",
      "memory usage: 1.3+ MB\n"
     ]
    }
   ],
   "source": [
    "# let's check info again\n",
    "df.info()"
   ]
  },
  {
   "cell_type": "code",
   "execution_count": 10,
   "id": "7cff8e08-234c-48a4-95ef-56b52b0b5587",
   "metadata": {},
   "outputs": [
    {
     "data": {
      "text/plain": [
       "Index(['Row ID', 'Order ID', 'Order Date', 'Ship Date', 'Ship Mode',\n",
       "       'Customer ID', 'Customer Name', 'Segment', 'Country', 'City', 'State',\n",
       "       'Postal Code', 'Region', 'Product ID', 'Category', 'Sub-Category',\n",
       "       'Product Name', 'Sales'],\n",
       "      dtype='object')"
      ]
     },
     "execution_count": 10,
     "metadata": {},
     "output_type": "execute_result"
    }
   ],
   "source": [
    "df.columns"
   ]
  },
  {
   "cell_type": "markdown",
   "id": "abb6fbed-97d5-4925-ae7a-b3f891349edb",
   "metadata": {},
   "source": [
    "### ✅ Feature Engineering"
   ]
  },
  {
   "cell_type": "markdown",
   "id": "fe3d04e6-7955-45a8-8433-51bd66c6f88b",
   "metadata": {},
   "source": [
    "#### ✅ Date split"
   ]
  },
  {
   "cell_type": "code",
   "execution_count": 40,
   "id": "c86c93f0-dfb4-44bb-a175-457013d0c3f0",
   "metadata": {},
   "outputs": [
    {
     "data": {
      "text/html": [
       "<div>\n",
       "<style scoped>\n",
       "    .dataframe tbody tr th:only-of-type {\n",
       "        vertical-align: middle;\n",
       "    }\n",
       "\n",
       "    .dataframe tbody tr th {\n",
       "        vertical-align: top;\n",
       "    }\n",
       "\n",
       "    .dataframe thead th {\n",
       "        text-align: right;\n",
       "    }\n",
       "</style>\n",
       "<table border=\"1\" class=\"dataframe\">\n",
       "  <thead>\n",
       "    <tr style=\"text-align: right;\">\n",
       "      <th></th>\n",
       "      <th>Row ID</th>\n",
       "      <th>Order ID</th>\n",
       "      <th>Order Date</th>\n",
       "      <th>Ship Date</th>\n",
       "      <th>Ship Mode</th>\n",
       "      <th>Customer ID</th>\n",
       "      <th>Customer Name</th>\n",
       "      <th>Segment</th>\n",
       "      <th>Country</th>\n",
       "      <th>City</th>\n",
       "      <th>State</th>\n",
       "      <th>Postal Code</th>\n",
       "      <th>Region</th>\n",
       "      <th>Product ID</th>\n",
       "      <th>Category</th>\n",
       "      <th>Sub-Category</th>\n",
       "      <th>Product Name</th>\n",
       "      <th>Sales</th>\n",
       "      <th>Order-year</th>\n",
       "      <th>Order-Month</th>\n",
       "      <th>Ship-Year</th>\n",
       "      <th>Ship-Month</th>\n",
       "    </tr>\n",
       "  </thead>\n",
       "  <tbody>\n",
       "    <tr>\n",
       "      <th>0</th>\n",
       "      <td>1</td>\n",
       "      <td>CA-2017-152156</td>\n",
       "      <td>2017-11-08</td>\n",
       "      <td>2017-11-11</td>\n",
       "      <td>Second Class</td>\n",
       "      <td>CG-12520</td>\n",
       "      <td>Claire Gute</td>\n",
       "      <td>Consumer</td>\n",
       "      <td>United States</td>\n",
       "      <td>Henderson</td>\n",
       "      <td>Kentucky</td>\n",
       "      <td>42420.0</td>\n",
       "      <td>South</td>\n",
       "      <td>FUR-BO-10001798</td>\n",
       "      <td>Furniture</td>\n",
       "      <td>Bookcases</td>\n",
       "      <td>Bush Somerset Collection Bookcase</td>\n",
       "      <td>261.9600</td>\n",
       "      <td>2017</td>\n",
       "      <td>11</td>\n",
       "      <td>2017</td>\n",
       "      <td>11</td>\n",
       "    </tr>\n",
       "    <tr>\n",
       "      <th>1</th>\n",
       "      <td>2</td>\n",
       "      <td>CA-2017-152156</td>\n",
       "      <td>2017-11-08</td>\n",
       "      <td>2017-11-11</td>\n",
       "      <td>Second Class</td>\n",
       "      <td>CG-12520</td>\n",
       "      <td>Claire Gute</td>\n",
       "      <td>Consumer</td>\n",
       "      <td>United States</td>\n",
       "      <td>Henderson</td>\n",
       "      <td>Kentucky</td>\n",
       "      <td>42420.0</td>\n",
       "      <td>South</td>\n",
       "      <td>FUR-CH-10000454</td>\n",
       "      <td>Furniture</td>\n",
       "      <td>Chairs</td>\n",
       "      <td>Hon Deluxe Fabric Upholstered Stacking Chairs,...</td>\n",
       "      <td>731.9400</td>\n",
       "      <td>2017</td>\n",
       "      <td>11</td>\n",
       "      <td>2017</td>\n",
       "      <td>11</td>\n",
       "    </tr>\n",
       "    <tr>\n",
       "      <th>2</th>\n",
       "      <td>3</td>\n",
       "      <td>CA-2017-138688</td>\n",
       "      <td>2017-06-12</td>\n",
       "      <td>2017-06-16</td>\n",
       "      <td>Second Class</td>\n",
       "      <td>DV-13045</td>\n",
       "      <td>Darrin Van Huff</td>\n",
       "      <td>Corporate</td>\n",
       "      <td>United States</td>\n",
       "      <td>Los Angeles</td>\n",
       "      <td>California</td>\n",
       "      <td>90036.0</td>\n",
       "      <td>West</td>\n",
       "      <td>OFF-LA-10000240</td>\n",
       "      <td>Office Supplies</td>\n",
       "      <td>Labels</td>\n",
       "      <td>Self-Adhesive Address Labels for Typewriters b...</td>\n",
       "      <td>14.6200</td>\n",
       "      <td>2017</td>\n",
       "      <td>6</td>\n",
       "      <td>2017</td>\n",
       "      <td>6</td>\n",
       "    </tr>\n",
       "    <tr>\n",
       "      <th>3</th>\n",
       "      <td>4</td>\n",
       "      <td>US-2016-108966</td>\n",
       "      <td>2016-10-11</td>\n",
       "      <td>2016-10-18</td>\n",
       "      <td>Standard Class</td>\n",
       "      <td>SO-20335</td>\n",
       "      <td>Sean O'Donnell</td>\n",
       "      <td>Consumer</td>\n",
       "      <td>United States</td>\n",
       "      <td>Fort Lauderdale</td>\n",
       "      <td>Florida</td>\n",
       "      <td>33311.0</td>\n",
       "      <td>South</td>\n",
       "      <td>FUR-TA-10000577</td>\n",
       "      <td>Furniture</td>\n",
       "      <td>Tables</td>\n",
       "      <td>Bretford CR4500 Series Slim Rectangular Table</td>\n",
       "      <td>957.5775</td>\n",
       "      <td>2016</td>\n",
       "      <td>10</td>\n",
       "      <td>2016</td>\n",
       "      <td>10</td>\n",
       "    </tr>\n",
       "    <tr>\n",
       "      <th>4</th>\n",
       "      <td>5</td>\n",
       "      <td>US-2016-108966</td>\n",
       "      <td>2016-10-11</td>\n",
       "      <td>2016-10-18</td>\n",
       "      <td>Standard Class</td>\n",
       "      <td>SO-20335</td>\n",
       "      <td>Sean O'Donnell</td>\n",
       "      <td>Consumer</td>\n",
       "      <td>United States</td>\n",
       "      <td>Fort Lauderdale</td>\n",
       "      <td>Florida</td>\n",
       "      <td>33311.0</td>\n",
       "      <td>South</td>\n",
       "      <td>OFF-ST-10000760</td>\n",
       "      <td>Office Supplies</td>\n",
       "      <td>Storage</td>\n",
       "      <td>Eldon Fold 'N Roll Cart System</td>\n",
       "      <td>22.3680</td>\n",
       "      <td>2016</td>\n",
       "      <td>10</td>\n",
       "      <td>2016</td>\n",
       "      <td>10</td>\n",
       "    </tr>\n",
       "    <tr>\n",
       "      <th>...</th>\n",
       "      <td>...</td>\n",
       "      <td>...</td>\n",
       "      <td>...</td>\n",
       "      <td>...</td>\n",
       "      <td>...</td>\n",
       "      <td>...</td>\n",
       "      <td>...</td>\n",
       "      <td>...</td>\n",
       "      <td>...</td>\n",
       "      <td>...</td>\n",
       "      <td>...</td>\n",
       "      <td>...</td>\n",
       "      <td>...</td>\n",
       "      <td>...</td>\n",
       "      <td>...</td>\n",
       "      <td>...</td>\n",
       "      <td>...</td>\n",
       "      <td>...</td>\n",
       "      <td>...</td>\n",
       "      <td>...</td>\n",
       "      <td>...</td>\n",
       "      <td>...</td>\n",
       "    </tr>\n",
       "    <tr>\n",
       "      <th>9784</th>\n",
       "      <td>9796</td>\n",
       "      <td>CA-2017-125920</td>\n",
       "      <td>2017-05-21</td>\n",
       "      <td>2017-05-28</td>\n",
       "      <td>Standard Class</td>\n",
       "      <td>SH-19975</td>\n",
       "      <td>Sally Hughsby</td>\n",
       "      <td>Corporate</td>\n",
       "      <td>United States</td>\n",
       "      <td>Chicago</td>\n",
       "      <td>Illinois</td>\n",
       "      <td>60610.0</td>\n",
       "      <td>Central</td>\n",
       "      <td>OFF-BI-10003429</td>\n",
       "      <td>Office Supplies</td>\n",
       "      <td>Binders</td>\n",
       "      <td>Cardinal HOLDit! Binder Insert Strips,Extra St...</td>\n",
       "      <td>3.7980</td>\n",
       "      <td>2017</td>\n",
       "      <td>5</td>\n",
       "      <td>2017</td>\n",
       "      <td>5</td>\n",
       "    </tr>\n",
       "    <tr>\n",
       "      <th>9785</th>\n",
       "      <td>9797</td>\n",
       "      <td>CA-2016-128608</td>\n",
       "      <td>2016-01-12</td>\n",
       "      <td>2016-01-17</td>\n",
       "      <td>Standard Class</td>\n",
       "      <td>CS-12490</td>\n",
       "      <td>Cindy Schnelling</td>\n",
       "      <td>Corporate</td>\n",
       "      <td>United States</td>\n",
       "      <td>Toledo</td>\n",
       "      <td>Ohio</td>\n",
       "      <td>43615.0</td>\n",
       "      <td>East</td>\n",
       "      <td>OFF-AR-10001374</td>\n",
       "      <td>Office Supplies</td>\n",
       "      <td>Art</td>\n",
       "      <td>BIC Brite Liner Highlighters, Chisel Tip</td>\n",
       "      <td>10.3680</td>\n",
       "      <td>2016</td>\n",
       "      <td>1</td>\n",
       "      <td>2016</td>\n",
       "      <td>1</td>\n",
       "    </tr>\n",
       "    <tr>\n",
       "      <th>9786</th>\n",
       "      <td>9798</td>\n",
       "      <td>CA-2016-128608</td>\n",
       "      <td>2016-01-12</td>\n",
       "      <td>2016-01-17</td>\n",
       "      <td>Standard Class</td>\n",
       "      <td>CS-12490</td>\n",
       "      <td>Cindy Schnelling</td>\n",
       "      <td>Corporate</td>\n",
       "      <td>United States</td>\n",
       "      <td>Toledo</td>\n",
       "      <td>Ohio</td>\n",
       "      <td>43615.0</td>\n",
       "      <td>East</td>\n",
       "      <td>TEC-PH-10004977</td>\n",
       "      <td>Technology</td>\n",
       "      <td>Phones</td>\n",
       "      <td>GE 30524EE4</td>\n",
       "      <td>235.1880</td>\n",
       "      <td>2016</td>\n",
       "      <td>1</td>\n",
       "      <td>2016</td>\n",
       "      <td>1</td>\n",
       "    </tr>\n",
       "    <tr>\n",
       "      <th>9787</th>\n",
       "      <td>9799</td>\n",
       "      <td>CA-2016-128608</td>\n",
       "      <td>2016-01-12</td>\n",
       "      <td>2016-01-17</td>\n",
       "      <td>Standard Class</td>\n",
       "      <td>CS-12490</td>\n",
       "      <td>Cindy Schnelling</td>\n",
       "      <td>Corporate</td>\n",
       "      <td>United States</td>\n",
       "      <td>Toledo</td>\n",
       "      <td>Ohio</td>\n",
       "      <td>43615.0</td>\n",
       "      <td>East</td>\n",
       "      <td>TEC-PH-10000912</td>\n",
       "      <td>Technology</td>\n",
       "      <td>Phones</td>\n",
       "      <td>Anker 24W Portable Micro USB Car Charger</td>\n",
       "      <td>26.3760</td>\n",
       "      <td>2016</td>\n",
       "      <td>1</td>\n",
       "      <td>2016</td>\n",
       "      <td>1</td>\n",
       "    </tr>\n",
       "    <tr>\n",
       "      <th>9788</th>\n",
       "      <td>9800</td>\n",
       "      <td>CA-2016-128608</td>\n",
       "      <td>2016-01-12</td>\n",
       "      <td>2016-01-17</td>\n",
       "      <td>Standard Class</td>\n",
       "      <td>CS-12490</td>\n",
       "      <td>Cindy Schnelling</td>\n",
       "      <td>Corporate</td>\n",
       "      <td>United States</td>\n",
       "      <td>Toledo</td>\n",
       "      <td>Ohio</td>\n",
       "      <td>43615.0</td>\n",
       "      <td>East</td>\n",
       "      <td>TEC-AC-10000487</td>\n",
       "      <td>Technology</td>\n",
       "      <td>Accessories</td>\n",
       "      <td>SanDisk Cruzer 4 GB USB Flash Drive</td>\n",
       "      <td>10.3840</td>\n",
       "      <td>2016</td>\n",
       "      <td>1</td>\n",
       "      <td>2016</td>\n",
       "      <td>1</td>\n",
       "    </tr>\n",
       "  </tbody>\n",
       "</table>\n",
       "<p>9789 rows × 22 columns</p>\n",
       "</div>"
      ],
      "text/plain": [
       "      Row ID        Order ID Order Date  Ship Date       Ship Mode  \\\n",
       "0          1  CA-2017-152156 2017-11-08 2017-11-11    Second Class   \n",
       "1          2  CA-2017-152156 2017-11-08 2017-11-11    Second Class   \n",
       "2          3  CA-2017-138688 2017-06-12 2017-06-16    Second Class   \n",
       "3          4  US-2016-108966 2016-10-11 2016-10-18  Standard Class   \n",
       "4          5  US-2016-108966 2016-10-11 2016-10-18  Standard Class   \n",
       "...      ...             ...        ...        ...             ...   \n",
       "9784    9796  CA-2017-125920 2017-05-21 2017-05-28  Standard Class   \n",
       "9785    9797  CA-2016-128608 2016-01-12 2016-01-17  Standard Class   \n",
       "9786    9798  CA-2016-128608 2016-01-12 2016-01-17  Standard Class   \n",
       "9787    9799  CA-2016-128608 2016-01-12 2016-01-17  Standard Class   \n",
       "9788    9800  CA-2016-128608 2016-01-12 2016-01-17  Standard Class   \n",
       "\n",
       "     Customer ID     Customer Name    Segment        Country             City  \\\n",
       "0       CG-12520       Claire Gute   Consumer  United States        Henderson   \n",
       "1       CG-12520       Claire Gute   Consumer  United States        Henderson   \n",
       "2       DV-13045   Darrin Van Huff  Corporate  United States      Los Angeles   \n",
       "3       SO-20335    Sean O'Donnell   Consumer  United States  Fort Lauderdale   \n",
       "4       SO-20335    Sean O'Donnell   Consumer  United States  Fort Lauderdale   \n",
       "...          ...               ...        ...            ...              ...   \n",
       "9784    SH-19975     Sally Hughsby  Corporate  United States          Chicago   \n",
       "9785    CS-12490  Cindy Schnelling  Corporate  United States           Toledo   \n",
       "9786    CS-12490  Cindy Schnelling  Corporate  United States           Toledo   \n",
       "9787    CS-12490  Cindy Schnelling  Corporate  United States           Toledo   \n",
       "9788    CS-12490  Cindy Schnelling  Corporate  United States           Toledo   \n",
       "\n",
       "           State  Postal Code   Region       Product ID         Category  \\\n",
       "0       Kentucky      42420.0    South  FUR-BO-10001798        Furniture   \n",
       "1       Kentucky      42420.0    South  FUR-CH-10000454        Furniture   \n",
       "2     California      90036.0     West  OFF-LA-10000240  Office Supplies   \n",
       "3        Florida      33311.0    South  FUR-TA-10000577        Furniture   \n",
       "4        Florida      33311.0    South  OFF-ST-10000760  Office Supplies   \n",
       "...          ...          ...      ...              ...              ...   \n",
       "9784    Illinois      60610.0  Central  OFF-BI-10003429  Office Supplies   \n",
       "9785        Ohio      43615.0     East  OFF-AR-10001374  Office Supplies   \n",
       "9786        Ohio      43615.0     East  TEC-PH-10004977       Technology   \n",
       "9787        Ohio      43615.0     East  TEC-PH-10000912       Technology   \n",
       "9788        Ohio      43615.0     East  TEC-AC-10000487       Technology   \n",
       "\n",
       "     Sub-Category                                       Product Name  \\\n",
       "0       Bookcases                  Bush Somerset Collection Bookcase   \n",
       "1          Chairs  Hon Deluxe Fabric Upholstered Stacking Chairs,...   \n",
       "2          Labels  Self-Adhesive Address Labels for Typewriters b...   \n",
       "3          Tables      Bretford CR4500 Series Slim Rectangular Table   \n",
       "4         Storage                     Eldon Fold 'N Roll Cart System   \n",
       "...           ...                                                ...   \n",
       "9784      Binders  Cardinal HOLDit! Binder Insert Strips,Extra St...   \n",
       "9785          Art           BIC Brite Liner Highlighters, Chisel Tip   \n",
       "9786       Phones                                        GE 30524EE4   \n",
       "9787       Phones           Anker 24W Portable Micro USB Car Charger   \n",
       "9788  Accessories                SanDisk Cruzer 4 GB USB Flash Drive   \n",
       "\n",
       "         Sales  Order-year  Order-Month  Ship-Year  Ship-Month  \n",
       "0     261.9600        2017           11       2017          11  \n",
       "1     731.9400        2017           11       2017          11  \n",
       "2      14.6200        2017            6       2017           6  \n",
       "3     957.5775        2016           10       2016          10  \n",
       "4      22.3680        2016           10       2016          10  \n",
       "...        ...         ...          ...        ...         ...  \n",
       "9784    3.7980        2017            5       2017           5  \n",
       "9785   10.3680        2016            1       2016           1  \n",
       "9786  235.1880        2016            1       2016           1  \n",
       "9787   26.3760        2016            1       2016           1  \n",
       "9788   10.3840        2016            1       2016           1  \n",
       "\n",
       "[9789 rows x 22 columns]"
      ]
     },
     "execution_count": 40,
     "metadata": {},
     "output_type": "execute_result"
    }
   ],
   "source": [
    "# split Order Date\n",
    "df['Order-year'] = df['Order Date'].dt.year\n",
    "df['Order-Month'] = df['Order Date'].dt.month\n",
    "\n",
    "# split Ship Date\n",
    "df['Ship-Year'] = df['Ship Date'].dt.year\n",
    "df['Ship-Month'] = df['Ship Date'].dt.month\n",
    "\n",
    "df"
   ]
  },
  {
   "cell_type": "markdown",
   "id": "91644124-5d8c-4786-a60a-c30f334cad7f",
   "metadata": {},
   "source": [
    "### ✅ Univariate analysis "
   ]
  },
  {
   "cell_type": "markdown",
   "id": "579ed1c7-e16d-4507-bc97-8125d854cd9e",
   "metadata": {},
   "source": [
    "#### ✅ Numrical Columns "
   ]
  },
  {
   "cell_type": "code",
   "execution_count": 11,
   "id": "4a97ce2c-2cfe-4284-9f96-2d7a0e916c10",
   "metadata": {},
   "outputs": [
    {
     "data": {
      "text/html": [
       "<div>\n",
       "<style scoped>\n",
       "    .dataframe tbody tr th:only-of-type {\n",
       "        vertical-align: middle;\n",
       "    }\n",
       "\n",
       "    .dataframe tbody tr th {\n",
       "        vertical-align: top;\n",
       "    }\n",
       "\n",
       "    .dataframe thead th {\n",
       "        text-align: right;\n",
       "    }\n",
       "</style>\n",
       "<table border=\"1\" class=\"dataframe\">\n",
       "  <thead>\n",
       "    <tr style=\"text-align: right;\">\n",
       "      <th></th>\n",
       "      <th>count</th>\n",
       "      <th>mean</th>\n",
       "      <th>std</th>\n",
       "      <th>min</th>\n",
       "      <th>25%</th>\n",
       "      <th>50%</th>\n",
       "      <th>75%</th>\n",
       "      <th>max</th>\n",
       "    </tr>\n",
       "  </thead>\n",
       "  <tbody>\n",
       "    <tr>\n",
       "      <th>Sales</th>\n",
       "      <td>9789.0</td>\n",
       "      <td>230.116193</td>\n",
       "      <td>625.302079</td>\n",
       "      <td>0.444</td>\n",
       "      <td>17.248</td>\n",
       "      <td>54.384</td>\n",
       "      <td>210.392</td>\n",
       "      <td>22638.48</td>\n",
       "    </tr>\n",
       "  </tbody>\n",
       "</table>\n",
       "</div>"
      ],
      "text/plain": [
       "        count        mean         std    min     25%     50%      75%  \\\n",
       "Sales  9789.0  230.116193  625.302079  0.444  17.248  54.384  210.392   \n",
       "\n",
       "            max  \n",
       "Sales  22638.48  "
      ]
     },
     "execution_count": 11,
     "metadata": {},
     "output_type": "execute_result"
    }
   ],
   "source": [
    "# Let's show for Sales \n",
    "df[['Sales']].describe().T"
   ]
  },
  {
   "cell_type": "markdown",
   "id": "8c01b3bf-340d-4599-a892-1c0b5df768b1",
   "metadata": {},
   "source": [
    "#### ✅ Categorical Columns "
   ]
  },
  {
   "cell_type": "code",
   "execution_count": 28,
   "id": "819ad68f-8442-4583-8c1d-2b4bb9bd3695",
   "metadata": {},
   "outputs": [
    {
     "data": {
      "text/plain": [
       "Ship Mode\n",
       "Standard Class    5849\n",
       "Second Class      1901\n",
       "First Class       1501\n",
       "Same Day           538\n",
       "Name: count, dtype: int64"
      ]
     },
     "execution_count": 28,
     "metadata": {},
     "output_type": "execute_result"
    }
   ],
   "source": [
    "# ship Mode --->\n",
    "# there are 4 ship wayes \n",
    "# top 1 is Stander class with frequancy 5.8K\n",
    "# let's show other\n",
    "df['Ship Mode'].value_counts()"
   ]
  },
  {
   "cell_type": "code",
   "execution_count": 29,
   "id": "d7a40594-dcbf-43b7-9100-20a37536f038",
   "metadata": {},
   "outputs": [
    {
     "data": {
      "image/png": "[encoded data removed]",
      "text/plain": [
       "<Figure size 640x480 with 1 Axes>"
      ]
     },
     "metadata": {},
     "output_type": "display_data"
    }
   ],
   "source": [
    "sns.countplot(x='Ship Mode', data=df)\n",
    "plt.show()"
   ]
  },
  {
   "cell_type": "code",
   "execution_count": 12,
   "id": "e1d75a53-4e78-4cc4-95cf-7a6fad36eee5",
   "metadata": {},
   "outputs": [
    {
     "data": {
      "text/plain": [
       "count         9789\n",
       "unique           3\n",
       "top       Consumer\n",
       "freq          5096\n",
       "Name: Segment, dtype: object"
      ]
     },
     "execution_count": 12,
     "metadata": {},
     "output_type": "execute_result"
    }
   ],
   "source": [
    "# Segment --->\n",
    "df['Segment'].describe()"
   ]
  },
  {
   "cell_type": "code",
   "execution_count": 13,
   "id": "0a9c2ddb-6fa0-45c0-8641-9a19e2d02a4f",
   "metadata": {},
   "outputs": [
    {
     "data": {
      "text/plain": [
       "Segment\n",
       "Consumer       5096\n",
       "Corporate      2948\n",
       "Home Office    1745\n",
       "Name: count, dtype: int64"
      ]
     },
     "execution_count": 13,
     "metadata": {},
     "output_type": "execute_result"
    }
   ],
   "source": [
    "# We have 3 unique segments\n",
    "# The top segment is Consumer (~5K frequency)\n",
    "# Let's display value counts for the remaining segments\n",
    "df['Segment'].value_counts()"
   ]
  },
  {
   "cell_type": "code",
   "execution_count": 30,
   "id": "7503a90e-c024-489d-abb9-a27e8845ecba",
   "metadata": {},
   "outputs": [
    {
     "data": {
      "image/png": "[encoded data removed]",
      "text/plain": [
       "<Figure size 640x480 with 1 Axes>"
      ]
     },
     "metadata": {},
     "output_type": "display_data"
    }
   ],
   "source": [
    "sns.countplot(x='Segment', data=df)\n",
    "plt.show()"
   ]
  },
  {
   "cell_type": "code",
   "execution_count": 14,
   "id": "4f201e10-5fe9-4730-9c82-641c3cb6179c",
   "metadata": {},
   "outputs": [
    {
     "data": {
      "text/plain": [
       "count              9789\n",
       "unique              529\n",
       "top       New York City\n",
       "freq                891\n",
       "Name: City, dtype: object"
      ]
     },
     "execution_count": 14,
     "metadata": {},
     "output_type": "execute_result"
    }
   ],
   "source": [
    "# The second column is Country, but since the summary statistics show only one unique value,\n",
    "# we can skip it and move directly to City for analysis.\n",
    "df[\"City\"].describe()"
   ]
  },
  {
   "cell_type": "code",
   "execution_count": 17,
   "id": "bcc0fd4e-2021-4911-841f-78edab3647fc",
   "metadata": {},
   "outputs": [
    {
     "data": {
      "application/vnd.plotly.v1+json": {
       "config": {
        "plotlyServerURL": "https://plot.ly"
       },
       "data": [
        {
         "hovertemplate": "City=%{x}<br>count=%{y}<extra></extra>",
         "legendgroup": "New York City",
         "marker": {
          "color": "#636efa",
          "pattern": {
           "shape": ""
          }
         },
         "name": "New York City",
         "orientation": "v",
         "showlegend": true,
         "textposition": "auto",
         "texttemplate": "%{y}",
         "type": "bar",
         "x": [
          "New York City"
         ],
         "xaxis": "x",
         "y": {
          "bdata": "ewM=",
          "dtype": "i2"
         },
         "yaxis": "y"
        },
        {
         "hovertemplate": "City=%{x}<br>count=%{y}<extra></extra>",
         "legendgroup": "Los Angeles",
         "marker": {
          "color": "#EF553B",
          "pattern": {
           "shape": ""
          }
         },
         "name": "Los Angeles",
         "orientation": "v",
         "showlegend": true,
         "textposition": "auto",
         "texttemplate": "%{y}",
         "type": "bar",
         "x": [
          "Los Angeles"
         ],
         "xaxis": "x",
         "y": {
          "bdata": "2AI=",
          "dtype": "i2"
         },
         "yaxis": "y"
        },
        {
         "hovertemplate": "City=%{x}<br>count=%{y}<extra></extra>",
         "legendgroup": "Philadelphia",
         "marker": {
          "color": "#00cc96",
          "pattern": {
           "shape": ""
          }
         },
         "name": "Philadelphia",
         "orientation": "v",
         "showlegend": true,
         "textposition": "auto",
         "texttemplate": "%{y}",
         "type": "bar",
         "x": [
          "Philadelphia"
         ],
         "xaxis": "x",
         "y": {
          "bdata": "FAI=",
          "dtype": "i2"
         },
         "yaxis": "y"
        },
        {
         "hovertemplate": "City=%{x}<br>count=%{y}<extra></extra>",
         "legendgroup": "San Francisco",
         "marker": {
          "color": "#ab63fa",
          "pattern": {
           "shape": ""
          }
         },
         "name": "San Francisco",
         "orientation": "v",
         "showlegend": true,
         "textposition": "auto",
         "texttemplate": "%{y}",
         "type": "bar",
         "x": [
          "San Francisco"
         ],
         "xaxis": "x",
         "y": {
          "bdata": "9AE=",
          "dtype": "i2"
         },
         "yaxis": "y"
        },
        {
         "hovertemplate": "City=%{x}<br>count=%{y}<extra></extra>",
         "legendgroup": "Seattle",
         "marker": {
          "color": "#FFA15A",
          "pattern": {
           "shape": ""
          }
         },
         "name": "Seattle",
         "orientation": "v",
         "showlegend": true,
         "textposition": "auto",
         "texttemplate": "%{y}",
         "type": "bar",
         "x": [
          "Seattle"
         ],
         "xaxis": "x",
         "y": {
          "bdata": "qgE=",
          "dtype": "i2"
         },
         "yaxis": "y"
        },
        {
         "hovertemplate": "City=%{x}<br>count=%{y}<extra></extra>",
         "legendgroup": "Houston",
         "marker": {
          "color": "#19d3f3",
          "pattern": {
           "shape": ""
          }
         },
         "name": "Houston",
         "orientation": "v",
         "showlegend": true,
         "textposition": "auto",
         "texttemplate": "%{y}",
         "type": "bar",
         "x": [
          "Houston"
         ],
         "xaxis": "x",
         "y": {
          "bdata": "dgE=",
          "dtype": "i2"
         },
         "yaxis": "y"
        },
        {
         "hovertemplate": "City=%{x}<br>count=%{y}<extra></extra>",
         "legendgroup": "Chicago",
         "marker": {
          "color": "#FF6692",
          "pattern": {
           "shape": ""
          }
         },
         "name": "Chicago",
         "orientation": "v",
         "showlegend": true,
         "textposition": "auto",
         "texttemplate": "%{y}",
         "type": "bar",
         "x": [
          "Chicago"
         ],
         "xaxis": "x",
         "y": {
          "bdata": "NAE=",
          "dtype": "i2"
         },
         "yaxis": "y"
        },
        {
         "hovertemplate": "City=%{x}<br>count=%{y}<extra></extra>",
         "legendgroup": "Columbus",
         "marker": {
          "color": "#B6E880",
          "pattern": {
           "shape": ""
          }
         },
         "name": "Columbus",
         "orientation": "v",
         "showlegend": true,
         "textposition": "auto",
         "texttemplate": "%{y}",
         "type": "bar",
         "x": [
          "Columbus"
         ],
         "xaxis": "x",
         "y": {
          "bdata": "3QA=",
          "dtype": "i2"
         },
         "yaxis": "y"
        },
        {
         "hovertemplate": "City=%{x}<br>count=%{y}<extra></extra>",
         "legendgroup": "San Diego",
         "marker": {
          "color": "#FF97FF",
          "pattern": {
           "shape": ""
          }
         },
         "name": "San Diego",
         "orientation": "v",
         "showlegend": true,
         "textposition": "auto",
         "texttemplate": "%{y}",
         "type": "bar",
         "x": [
          "San Diego"
         ],
         "xaxis": "x",
         "y": {
          "bdata": "qgA=",
          "dtype": "i2"
         },
         "yaxis": "y"
        },
        {
         "hovertemplate": "City=%{x}<br>count=%{y}<extra></extra>",
         "legendgroup": "Springfield",
         "marker": {
          "color": "#FECB52",
          "pattern": {
           "shape": ""
          }
         },
         "name": "Springfield",
         "orientation": "v",
         "showlegend": true,
         "textposition": "auto",
         "texttemplate": "%{y}",
         "type": "bar",
         "x": [
          "Springfield"
         ],
         "xaxis": "x",
         "y": {
          "bdata": "oQA=",
          "dtype": "i2"
         },
         "yaxis": "y"
        },
        {
         "hovertemplate": "City=%{x}<br>count=%{y}<extra></extra>",
         "legendgroup": "Dallas",
         "marker": {
          "color": "#636efa",
          "pattern": {
           "shape": ""
          }
         },
         "name": "Dallas",
         "orientation": "v",
         "showlegend": true,
         "textposition": "auto",
         "texttemplate": "%{y}",
         "type": "bar",
         "x": [
          "Dallas"
         ],
         "xaxis": "x",
         "y": {
          "bdata": "nAA=",
          "dtype": "i2"
         },
         "yaxis": "y"
        },
        {
         "hovertemplate": "City=%{x}<br>count=%{y}<extra></extra>",
         "legendgroup": "Jacksonville",
         "marker": {
          "color": "#EF553B",
          "pattern": {
           "shape": ""
          }
         },
         "name": "Jacksonville",
         "orientation": "v",
         "showlegend": true,
         "textposition": "auto",
         "texttemplate": "%{y}",
         "type": "bar",
         "x": [
          "Jacksonville"
         ],
         "xaxis": "x",
         "y": {
          "bdata": "fQ==",
          "dtype": "i1"
         },
         "yaxis": "y"
        },
        {
         "hovertemplate": "City=%{x}<br>count=%{y}<extra></extra>",
         "legendgroup": "Detroit",
         "marker": {
          "color": "#00cc96",
          "pattern": {
           "shape": ""
          }
         },
         "name": "Detroit",
         "orientation": "v",
         "showlegend": true,
         "textposition": "auto",
         "texttemplate": "%{y}",
         "type": "bar",
         "x": [
          "Detroit"
         ],
         "xaxis": "x",
         "y": {
          "bdata": "cw==",
          "dtype": "i1"
         },
         "yaxis": "y"
        },
        {
         "hovertemplate": "City=%{x}<br>count=%{y}<extra></extra>",
         "legendgroup": "Newark",
         "marker": {
          "color": "#ab63fa",
          "pattern": {
           "shape": ""
          }
         },
         "name": "Newark",
         "orientation": "v",
         "showlegend": true,
         "textposition": "auto",
         "texttemplate": "%{y}",
         "type": "bar",
         "x": [
          "Newark"
         ],
         "xaxis": "x",
         "y": {
          "bdata": "XA==",
          "dtype": "i1"
         },
         "yaxis": "y"
        },
        {
         "hovertemplate": "City=%{x}<br>count=%{y}<extra></extra>",
         "legendgroup": "Jackson",
         "marker": {
          "color": "#FFA15A",
          "pattern": {
           "shape": ""
          }
         },
         "name": "Jackson",
         "orientation": "v",
         "showlegend": true,
         "textposition": "auto",
         "texttemplate": "%{y}",
         "type": "bar",
         "x": [
          "Jackson"
         ],
         "xaxis": "x",
         "y": {
          "bdata": "Ug==",
          "dtype": "i1"
         },
         "yaxis": "y"
        },
        {
         "hovertemplate": "City=%{x}<br>count=%{y}<extra></extra>",
         "legendgroup": "Columbia",
         "marker": {
          "color": "#19d3f3",
          "pattern": {
           "shape": ""
          }
         },
         "name": "Columbia",
         "orientation": "v",
         "showlegend": true,
         "textposition": "auto",
         "texttemplate": "%{y}",
         "type": "bar",
         "x": [
          "Columbia"
         ],
         "xaxis": "x",
         "y": {
          "bdata": "UQ==",
          "dtype": "i1"
         },
         "yaxis": "y"
        },
        {
         "hovertemplate": "City=%{x}<br>count=%{y}<extra></extra>",
         "legendgroup": "Richmond",
         "marker": {
          "color": "#FF6692",
          "pattern": {
           "shape": ""
          }
         },
         "name": "Richmond",
         "orientation": "v",
         "showlegend": true,
         "textposition": "auto",
         "texttemplate": "%{y}",
         "type": "bar",
         "x": [
          "Richmond"
         ],
         "xaxis": "x",
         "y": {
          "bdata": "UQ==",
          "dtype": "i1"
         },
         "yaxis": "y"
        },
        {
         "hovertemplate": "City=%{x}<br>count=%{y}<extra></extra>",
         "legendgroup": "Aurora",
         "marker": {
          "color": "#B6E880",
          "pattern": {
           "shape": ""
          }
         },
         "name": "Aurora",
         "orientation": "v",
         "showlegend": true,
         "textposition": "auto",
         "texttemplate": "%{y}",
         "type": "bar",
         "x": [
          "Aurora"
         ],
         "xaxis": "x",
         "y": {
          "bdata": "RA==",
          "dtype": "i1"
         },
         "yaxis": "y"
        },
        {
         "hovertemplate": "City=%{x}<br>count=%{y}<extra></extra>",
         "legendgroup": "Phoenix",
         "marker": {
          "color": "#FF97FF",
          "pattern": {
           "shape": ""
          }
         },
         "name": "Phoenix",
         "orientation": "v",
         "showlegend": true,
         "textposition": "auto",
         "texttemplate": "%{y}",
         "type": "bar",
         "x": [
          "Phoenix"
         ],
         "xaxis": "x",
         "y": {
          "bdata": "Pw==",
          "dtype": "i1"
         },
         "yaxis": "y"
        },
        {
         "hovertemplate": "City=%{x}<br>count=%{y}<extra></extra>",
         "legendgroup": "Arlington",
         "marker": {
          "color": "#FECB52",
          "pattern": {
           "shape": ""
          }
         },
         "name": "Arlington",
         "orientation": "v",
         "showlegend": true,
         "textposition": "auto",
         "texttemplate": "%{y}",
         "type": "bar",
         "x": [
          "Arlington"
         ],
         "xaxis": "x",
         "y": {
          "bdata": "PA==",
          "dtype": "i1"
         },
         "yaxis": "y"
        },
        {
         "hovertemplate": "City=%{x}<br>count=%{y}<extra></extra>",
         "legendgroup": "San Antonio",
         "marker": {
          "color": "#636efa",
          "pattern": {
           "shape": ""
          }
         },
         "name": "San Antonio",
         "orientation": "v",
         "showlegend": true,
         "textposition": "auto",
         "texttemplate": "%{y}",
         "type": "bar",
         "x": [
          "San Antonio"
         ],
         "xaxis": "x",
         "y": {
          "bdata": "Ow==",
          "dtype": "i1"
         },
         "yaxis": "y"
        },
        {
         "hovertemplate": "City=%{x}<br>count=%{y}<extra></extra>",
         "legendgroup": "Miami",
         "marker": {
          "color": "#EF553B",
          "pattern": {
           "shape": ""
          }
         },
         "name": "Miami",
         "orientation": "v",
         "showlegend": true,
         "textposition": "auto",
         "texttemplate": "%{y}",
         "type": "bar",
         "x": [
          "Miami"
         ],
         "xaxis": "x",
         "y": {
          "bdata": "OA==",
          "dtype": "i1"
         },
         "yaxis": "y"
        },
        {
         "hovertemplate": "City=%{x}<br>count=%{y}<extra></extra>",
         "legendgroup": "Louisville",
         "marker": {
          "color": "#00cc96",
          "pattern": {
           "shape": ""
          }
         },
         "name": "Louisville",
         "orientation": "v",
         "showlegend": true,
         "textposition": "auto",
         "texttemplate": "%{y}",
         "type": "bar",
         "x": [
          "Louisville"
         ],
         "xaxis": "x",
         "y": {
          "bdata": "Ng==",
          "dtype": "i1"
         },
         "yaxis": "y"
        },
        {
         "hovertemplate": "City=%{x}<br>count=%{y}<extra></extra>",
         "legendgroup": "Rochester",
         "marker": {
          "color": "#ab63fa",
          "pattern": {
           "shape": ""
          }
         },
         "name": "Rochester",
         "orientation": "v",
         "showlegend": true,
         "textposition": "auto",
         "texttemplate": "%{y}",
         "type": "bar",
         "x": [
          "Rochester"
         ],
         "xaxis": "x",
         "y": {
          "bdata": "NQ==",
          "dtype": "i1"
         },
         "yaxis": "y"
        },
        {
         "hovertemplate": "City=%{x}<br>count=%{y}<extra></extra>",
         "legendgroup": "Long Beach",
         "marker": {
          "color": "#FFA15A",
          "pattern": {
           "shape": ""
          }
         },
         "name": "Long Beach",
         "orientation": "v",
         "showlegend": true,
         "textposition": "auto",
         "texttemplate": "%{y}",
         "type": "bar",
         "x": [
          "Long Beach"
         ],
         "xaxis": "x",
         "y": {
          "bdata": "NA==",
          "dtype": "i1"
         },
         "yaxis": "y"
        }
       ],
       "layout": {
        "barmode": "relative",
        "legend": {
         "title": {
          "text": "City"
         },
         "tracegroupgap": 0
        },
        "template": {
         "data": {
          "bar": [
           {
            "error_x": {
             "color": "#2a3f5f"
            },
            "error_y": {
             "color": "#2a3f5f"
            },
            "marker": {
             "line": {
              "color": "#E5ECF6",
              "width": 0.5
             },
             "pattern": {
              "fillmode": "overlay",
              "size": 10,
              "solidity": 0.2
             }
            },
            "type": "bar"
           }
          ],
          "barpolar": [
           {
            "marker": {
             "line": {
              "color": "#E5ECF6",
              "width": 0.5
             },
             "pattern": {
              "fillmode": "overlay",
              "size": 10,
              "solidity": 0.2
             }
            },
            "type": "barpolar"
           }
          ],
          "carpet": [
           {
            "aaxis": {
             "endlinecolor": "#2a3f5f",
             "gridcolor": "white",
             "linecolor": "white",
             "minorgridcolor": "white",
             "startlinecolor": "#2a3f5f"
            },
            "baxis": {
             "endlinecolor": "#2a3f5f",
             "gridcolor": "white",
             "linecolor": "white",
             "minorgridcolor": "white",
             "startlinecolor": "#2a3f5f"
            },
            "type": "carpet"
           }
          ],
          "choropleth": [
           {
            "colorbar": {
             "outlinewidth": 0,
             "ticks": ""
            },
            "type": "choropleth"
           }
          ],
          "contour": [
           {
            "colorbar": {
             "outlinewidth": 0,
             "ticks": ""
            },
            "colorscale": [
             [
              0,
              "#0d0887"
             ],
             [
              0.1111111111111111,
              "#46039f"
             ],
             [
              0.2222222222222222,
              "#7201a8"
             ],
             [
              0.3333333333333333,
              "#9c179e"
             ],
             [
              0.4444444444444444,
              "#bd3786"
             ],
             [
              0.5555555555555556,
              "#d8576b"
             ],
             [
              0.6666666666666666,
              "#ed7953"
             ],
             [
              0.7777777777777778,
              "#fb9f3a"
             ],
             [
              0.8888888888888888,
              "#fdca26"
             ],
             [
              1,
              "#f0f921"
             ]
            ],
            "type": "contour"
           }
          ],
          "contourcarpet": [
           {
            "colorbar": {
             "outlinewidth": 0,
             "ticks": ""
            },
            "type": "contourcarpet"
           }
          ],
          "heatmap": [
           {
            "colorbar": {
             "outlinewidth": 0,
             "ticks": ""
            },
            "colorscale": [
             [
              0,
              "#0d0887"
             ],
             [
              0.1111111111111111,
              "#46039f"
             ],
             [
              0.2222222222222222,
              "#7201a8"
             ],
             [
              0.3333333333333333,
              "#9c179e"
             ],
             [
              0.4444444444444444,
              "#bd3786"
             ],
             [
              0.5555555555555556,
              "#d8576b"
             ],
             [
              0.6666666666666666,
              "#ed7953"
             ],
             [
              0.7777777777777778,
              "#fb9f3a"
             ],
             [
              0.8888888888888888,
              "#fdca26"
             ],
             [
              1,
              "#f0f921"
             ]
            ],
            "type": "heatmap"
           }
          ],
          "histogram": [
           {
            "marker": {
             "pattern": {
              "fillmode": "overlay",
              "size": 10,
              "solidity": 0.2
             }
            },
            "type": "histogram"
           }
          ],
          "histogram2d": [
           {
            "colorbar": {
             "outlinewidth": 0,
             "ticks": ""
            },
            "colorscale": [
             [
              0,
              "#0d0887"
             ],
             [
              0.1111111111111111,
              "#46039f"
             ],
             [
              0.2222222222222222,
              "#7201a8"
             ],
             [
              0.3333333333333333,
              "#9c179e"
             ],
             [
              0.4444444444444444,
              "#bd3786"
             ],
             [
              0.5555555555555556,
              "#d8576b"
             ],
             [
              0.6666666666666666,
              "#ed7953"
             ],
             [
              0.7777777777777778,
              "#fb9f3a"
             ],
             [
              0.8888888888888888,
              "#fdca26"
             ],
             [
              1,
              "#f0f921"
             ]
            ],
            "type": "histogram2d"
           }
          ],
          "histogram2dcontour": [
           {
            "colorbar": {
             "outlinewidth": 0,
             "ticks": ""
            },
            "colorscale": [
             [
              0,
              "#0d0887"
             ],
             [
              0.1111111111111111,
              "#46039f"
             ],
             [
              0.2222222222222222,
              "#7201a8"
             ],
             [
              0.3333333333333333,
              "#9c179e"
             ],
             [
              0.4444444444444444,
              "#bd3786"
             ],
             [
              0.5555555555555556,
              "#d8576b"
             ],
             [
              0.6666666666666666,
              "#ed7953"
             ],
             [
              0.7777777777777778,
              "#fb9f3a"
             ],
             [
              0.8888888888888888,
              "#fdca26"
             ],
             [
              1,
              "#f0f921"
             ]
            ],
            "type": "histogram2dcontour"
           }
          ],
          "mesh3d": [
           {
            "colorbar": {
             "outlinewidth": 0,
             "ticks": ""
            },
            "type": "mesh3d"
           }
          ],
          "parcoords": [
           {
            "line": {
             "colorbar": {
              "outlinewidth": 0,
              "ticks": ""
             }
            },
            "type": "parcoords"
           }
          ],
          "pie": [
           {
            "automargin": true,
            "type": "pie"
           }
          ],
          "scatter": [
           {
            "fillpattern": {
             "fillmode": "overlay",
             "size": 10,
             "solidity": 0.2
            },
            "type": "scatter"
           }
          ],
          "scatter3d": [
           {
            "line": {
             "colorbar": {
              "outlinewidth": 0,
              "ticks": ""
             }
            },
            "marker": {
             "colorbar": {
              "outlinewidth": 0,
              "ticks": ""
             }
            },
            "type": "scatter3d"
           }
          ],
          "scattercarpet": [
           {
            "marker": {
             "colorbar": {
              "outlinewidth": 0,
              "ticks": ""
             }
            },
            "type": "scattercarpet"
           }
          ],
          "scattergeo": [
           {
            "marker": {
             "colorbar": {
              "outlinewidth": 0,
              "ticks": ""
             }
            },
            "type": "scattergeo"
           }
          ],
          "scattergl": [
           {
            "marker": {
             "colorbar": {
              "outlinewidth": 0,
              "ticks": ""
             }
            },
            "type": "scattergl"
           }
          ],
          "scattermap": [
           {
            "marker": {
             "colorbar": {
              "outlinewidth": 0,
              "ticks": ""
             }
            },
            "type": "scattermap"
           }
          ],
          "scattermapbox": [
           {
            "marker": {
             "colorbar": {
              "outlinewidth": 0,
              "ticks": ""
             }
            },
            "type": "scattermapbox"
           }
          ],
          "scatterpolar": [
           {
            "marker": {
             "colorbar": {
              "outlinewidth": 0,
              "ticks": ""
             }
            },
            "type": "scatterpolar"
           }
          ],
          "scatterpolargl": [
           {
            "marker": {
             "colorbar": {
              "outlinewidth": 0,
              "ticks": ""
             }
            },
            "type": "scatterpolargl"
           }
          ],
          "scatterternary": [
           {
            "marker": {
             "colorbar": {
              "outlinewidth": 0,
              "ticks": ""
             }
            },
            "type": "scatterternary"
           }
          ],
          "surface": [
           {
            "colorbar": {
             "outlinewidth": 0,
             "ticks": ""
            },
            "colorscale": [
             [
              0,
              "#0d0887"
             ],
             [
              0.1111111111111111,
              "#46039f"
             ],
             [
              0.2222222222222222,
              "#7201a8"
             ],
             [
              0.3333333333333333,
              "#9c179e"
             ],
             [
              0.4444444444444444,
              "#bd3786"
             ],
             [
              0.5555555555555556,
              "#d8576b"
             ],
             [
              0.6666666666666666,
              "#ed7953"
             ],
             [
              0.7777777777777778,
              "#fb9f3a"
             ],
             [
              0.8888888888888888,
              "#fdca26"
             ],
             [
              1,
              "#f0f921"
             ]
            ],
            "type": "surface"
           }
          ],
          "table": [
           {
            "cells": {
             "fill": {
              "color": "#EBF0F8"
             },
             "line": {
              "color": "white"
             }
            },
            "header": {
             "fill": {
              "color": "#C8D4E3"
             },
             "line": {
              "color": "white"
             }
            },
            "type": "table"
           }
          ]
         },
         "layout": {
          "annotationdefaults": {
           "arrowcolor": "#2a3f5f",
           "arrowhead": 0,
           "arrowwidth": 1
          },
          "autotypenumbers": "strict",
          "coloraxis": {
           "colorbar": {
            "outlinewidth": 0,
            "ticks": ""
           }
          },
          "colorscale": {
           "diverging": [
            [
             0,
             "#8e0152"
            ],
            [
             0.1,
             "#c51b7d"
            ],
            [
             0.2,
             "#de77ae"
            ],
            [
             0.3,
             "#f1b6da"
            ],
            [
             0.4,
             "#fde0ef"
            ],
            [
             0.5,
             "#f7f7f7"
            ],
            [
             0.6,
             "#e6f5d0"
            ],
            [
             0.7,
             "#b8e186"
            ],
            [
             0.8,
             "#7fbc41"
            ],
            [
             0.9,
             "#4d9221"
            ],
            [
             1,
             "#276419"
            ]
           ],
           "sequential": [
            [
             0,
             "#0d0887"
            ],
            [
             0.1111111111111111,
             "#46039f"
            ],
            [
             0.2222222222222222,
             "#7201a8"
            ],
            [
             0.3333333333333333,
             "#9c179e"
            ],
            [
             0.4444444444444444,
             "#bd3786"
            ],
            [
             0.5555555555555556,
             "#d8576b"
            ],
            [
             0.6666666666666666,
             "#ed7953"
            ],
            [
             0.7777777777777778,
             "#fb9f3a"
            ],
            [
             0.8888888888888888,
             "#fdca26"
            ],
            [
             1,
             "#f0f921"
            ]
           ],
           "sequentialminus": [
            [
             0,
             "#0d0887"
            ],
            [
             0.1111111111111111,
             "#46039f"
            ],
            [
             0.2222222222222222,
             "#7201a8"
            ],
            [
             0.3333333333333333,
             "#9c179e"
            ],
            [
             0.4444444444444444,
             "#bd3786"
            ],
            [
             0.5555555555555556,
             "#d8576b"
            ],
            [
             0.6666666666666666,
             "#ed7953"
            ],
            [
             0.7777777777777778,
             "#fb9f3a"
            ],
            [
             0.8888888888888888,
             "#fdca26"
            ],
            [
             1,
             "#f0f921"
            ]
           ]
          },
          "colorway": [
           "#636efa",
           "#EF553B",
           "#00cc96",
           "#ab63fa",
           "#FFA15A",
           "#19d3f3",
           "#FF6692",
           "#B6E880",
           "#FF97FF",
           "#FECB52"
          ],
          "font": {
           "color": "#2a3f5f"
          },
          "geo": {
           "bgcolor": "white",
           "lakecolor": "white",
           "landcolor": "#E5ECF6",
           "showlakes": true,
           "showland": true,
           "subunitcolor": "white"
          },
          "hoverlabel": {
           "align": "left"
          },
          "hovermode": "closest",
          "mapbox": {
           "style": "light"
          },
          "paper_bgcolor": "white",
          "plot_bgcolor": "#E5ECF6",
          "polar": {
           "angularaxis": {
            "gridcolor": "white",
            "linecolor": "white",
            "ticks": ""
           },
           "bgcolor": "#E5ECF6",
           "radialaxis": {
            "gridcolor": "white",
            "linecolor": "white",
            "ticks": ""
           }
          },
          "scene": {
           "xaxis": {
            "backgroundcolor": "#E5ECF6",
            "gridcolor": "white",
            "gridwidth": 2,
            "linecolor": "white",
            "showbackground": true,
            "ticks": "",
            "zerolinecolor": "white"
           },
           "yaxis": {
            "backgroundcolor": "#E5ECF6",
            "gridcolor": "white",
            "gridwidth": 2,
            "linecolor": "white",
            "showbackground": true,
            "ticks": "",
            "zerolinecolor": "white"
           },
           "zaxis": {
            "backgroundcolor": "#E5ECF6",
            "gridcolor": "white",
            "gridwidth": 2,
            "linecolor": "white",
            "showbackground": true,
            "ticks": "",
            "zerolinecolor": "white"
           }
          },
          "shapedefaults": {
           "line": {
            "color": "#2a3f5f"
           }
          },
          "ternary": {
           "aaxis": {
            "gridcolor": "white",
            "linecolor": "white",
            "ticks": ""
           },
           "baxis": {
            "gridcolor": "white",
            "linecolor": "white",
            "ticks": ""
           },
           "bgcolor": "#E5ECF6",
           "caxis": {
            "gridcolor": "white",
            "linecolor": "white",
            "ticks": ""
           }
          },
          "title": {
           "x": 0.05
          },
          "xaxis": {
           "automargin": true,
           "gridcolor": "white",
           "linecolor": "white",
           "ticks": "",
           "title": {
            "standoff": 15
           },
           "zerolinecolor": "white",
           "zerolinewidth": 2
          },
          "yaxis": {
           "automargin": true,
           "gridcolor": "white",
           "linecolor": "white",
           "ticks": "",
           "title": {
            "standoff": 15
           },
           "zerolinecolor": "white",
           "zerolinewidth": 2
          }
         }
        },
        "title": {
         "text": "Top 25 Cities"
        },
        "xaxis": {
         "anchor": "y",
         "categoryarray": [
          "New York City",
          "Los Angeles",
          "Philadelphia",
          "San Francisco",
          "Seattle",
          "Houston",
          "Chicago",
          "Columbus",
          "San Diego",
          "Springfield",
          "Dallas",
          "Jacksonville",
          "Detroit",
          "Newark",
          "Jackson",
          "Columbia",
          "Richmond",
          "Aurora",
          "Phoenix",
          "Arlington",
          "San Antonio",
          "Miami",
          "Louisville",
          "Rochester",
          "Long Beach"
         ],
         "categoryorder": "array",
         "domain": [
          0,
          1
         ],
         "title": {
          "text": "City"
         }
        },
        "yaxis": {
         "anchor": "x",
         "domain": [
          0,
          1
         ],
         "title": {
          "text": "count"
         }
        }
       }
      },
      "image/png": "[encoded data removed]"
     },
     "metadata": {},
     "output_type": "display_data"
    }
   ],
   "source": [
    "# There are more than 500 unique cities\n",
    "# Let's get the top 25 cities\n",
    "# Prepare the data\n",
    "top25 =df['City'].value_counts().head(25).reset_index()\n",
    "\n",
    "fig = px.bar(top25,x = 'City',y = 'count' , \n",
    "            color= \"City\",\n",
    "            text_auto=True,\n",
    "            title=\"Top 25 Cities\")\n",
    "\n",
    "\n",
    "# show plot \n",
    "fig.show()"
   ]
  },
  {
   "cell_type": "code",
   "execution_count": 19,
   "id": "35c0e632-1a9e-4df0-a63f-a63b953a4574",
   "metadata": {},
   "outputs": [
    {
     "data": {
      "text/html": [
       "<div>\n",
       "<style scoped>\n",
       "    .dataframe tbody tr th:only-of-type {\n",
       "        vertical-align: middle;\n",
       "    }\n",
       "\n",
       "    .dataframe tbody tr th {\n",
       "        vertical-align: top;\n",
       "    }\n",
       "\n",
       "    .dataframe thead th {\n",
       "        text-align: right;\n",
       "    }\n",
       "</style>\n",
       "<table border=\"1\" class=\"dataframe\">\n",
       "  <thead>\n",
       "    <tr style=\"text-align: right;\">\n",
       "      <th></th>\n",
       "      <th>0</th>\n",
       "      <th>1</th>\n",
       "      <th>2</th>\n",
       "      <th>3</th>\n",
       "      <th>4</th>\n",
       "      <th>5</th>\n",
       "      <th>6</th>\n",
       "      <th>7</th>\n",
       "      <th>8</th>\n",
       "      <th>9</th>\n",
       "      <th>10</th>\n",
       "      <th>11</th>\n",
       "      <th>12</th>\n",
       "      <th>13</th>\n",
       "      <th>14</th>\n",
       "      <th>15</th>\n",
       "      <th>16</th>\n",
       "      <th>17</th>\n",
       "      <th>18</th>\n",
       "      <th>19</th>\n",
       "      <th>20</th>\n",
       "      <th>21</th>\n",
       "      <th>22</th>\n",
       "      <th>23</th>\n",
       "      <th>24</th>\n",
       "      <th>25</th>\n",
       "      <th>26</th>\n",
       "      <th>27</th>\n",
       "      <th>28</th>\n",
       "      <th>29</th>\n",
       "      <th>30</th>\n",
       "      <th>31</th>\n",
       "      <th>32</th>\n",
       "      <th>33</th>\n",
       "      <th>34</th>\n",
       "      <th>35</th>\n",
       "      <th>36</th>\n",
       "      <th>37</th>\n",
       "      <th>38</th>\n",
       "      <th>39</th>\n",
       "      <th>40</th>\n",
       "      <th>41</th>\n",
       "      <th>42</th>\n",
       "      <th>43</th>\n",
       "      <th>44</th>\n",
       "      <th>45</th>\n",
       "      <th>46</th>\n",
       "      <th>47</th>\n",
       "    </tr>\n",
       "  </thead>\n",
       "  <tbody>\n",
       "    <tr>\n",
       "      <th>State</th>\n",
       "      <td>California</td>\n",
       "      <td>New York</td>\n",
       "      <td>Texas</td>\n",
       "      <td>Pennsylvania</td>\n",
       "      <td>Washington</td>\n",
       "      <td>Illinois</td>\n",
       "      <td>Ohio</td>\n",
       "      <td>Florida</td>\n",
       "      <td>Michigan</td>\n",
       "      <td>North Carolina</td>\n",
       "      <td>Virginia</td>\n",
       "      <td>Arizona</td>\n",
       "      <td>Tennessee</td>\n",
       "      <td>Colorado</td>\n",
       "      <td>Georgia</td>\n",
       "      <td>Kentucky</td>\n",
       "      <td>Massachusetts</td>\n",
       "      <td>Indiana</td>\n",
       "      <td>New Jersey</td>\n",
       "      <td>Oregon</td>\n",
       "      <td>Wisconsin</td>\n",
       "      <td>Maryland</td>\n",
       "      <td>Delaware</td>\n",
       "      <td>Minnesota</td>\n",
       "      <td>Connecticut</td>\n",
       "      <td>Missouri</td>\n",
       "      <td>Oklahoma</td>\n",
       "      <td>Alabama</td>\n",
       "      <td>Arkansas</td>\n",
       "      <td>Rhode Island</td>\n",
       "      <td>Mississippi</td>\n",
       "      <td>Utah</td>\n",
       "      <td>South Carolina</td>\n",
       "      <td>Louisiana</td>\n",
       "      <td>Nevada</td>\n",
       "      <td>Nebraska</td>\n",
       "      <td>New Mexico</td>\n",
       "      <td>New Hampshire</td>\n",
       "      <td>Iowa</td>\n",
       "      <td>Kansas</td>\n",
       "      <td>Idaho</td>\n",
       "      <td>Montana</td>\n",
       "      <td>South Dakota</td>\n",
       "      <td>District of Columbia</td>\n",
       "      <td>Maine</td>\n",
       "      <td>North Dakota</td>\n",
       "      <td>West Virginia</td>\n",
       "      <td>Wyoming</td>\n",
       "    </tr>\n",
       "    <tr>\n",
       "      <th>count</th>\n",
       "      <td>1946</td>\n",
       "      <td>1097</td>\n",
       "      <td>973</td>\n",
       "      <td>582</td>\n",
       "      <td>504</td>\n",
       "      <td>483</td>\n",
       "      <td>454</td>\n",
       "      <td>373</td>\n",
       "      <td>253</td>\n",
       "      <td>247</td>\n",
       "      <td>224</td>\n",
       "      <td>223</td>\n",
       "      <td>183</td>\n",
       "      <td>179</td>\n",
       "      <td>177</td>\n",
       "      <td>137</td>\n",
       "      <td>135</td>\n",
       "      <td>135</td>\n",
       "      <td>122</td>\n",
       "      <td>122</td>\n",
       "      <td>105</td>\n",
       "      <td>105</td>\n",
       "      <td>93</td>\n",
       "      <td>89</td>\n",
       "      <td>82</td>\n",
       "      <td>66</td>\n",
       "      <td>66</td>\n",
       "      <td>61</td>\n",
       "      <td>60</td>\n",
       "      <td>55</td>\n",
       "      <td>53</td>\n",
       "      <td>53</td>\n",
       "      <td>42</td>\n",
       "      <td>41</td>\n",
       "      <td>39</td>\n",
       "      <td>38</td>\n",
       "      <td>37</td>\n",
       "      <td>27</td>\n",
       "      <td>26</td>\n",
       "      <td>24</td>\n",
       "      <td>21</td>\n",
       "      <td>15</td>\n",
       "      <td>12</td>\n",
       "      <td>10</td>\n",
       "      <td>8</td>\n",
       "      <td>7</td>\n",
       "      <td>4</td>\n",
       "      <td>1</td>\n",
       "    </tr>\n",
       "  </tbody>\n",
       "</table>\n",
       "</div>"
      ],
      "text/plain": [
       "               0         1      2             3           4         5     6   \\\n",
       "State  California  New York  Texas  Pennsylvania  Washington  Illinois  Ohio   \n",
       "count        1946      1097    973           582         504       483   454   \n",
       "\n",
       "            7         8               9         10       11         12  \\\n",
       "State  Florida  Michigan  North Carolina  Virginia  Arizona  Tennessee   \n",
       "count      373       253             247       224      223        183   \n",
       "\n",
       "             13       14        15             16       17          18  \\\n",
       "State  Colorado  Georgia  Kentucky  Massachusetts  Indiana  New Jersey   \n",
       "count       179      177       137            135      135         122   \n",
       "\n",
       "           19         20        21        22         23           24  \\\n",
       "State  Oregon  Wisconsin  Maryland  Delaware  Minnesota  Connecticut   \n",
       "count     122        105       105        93         89           82   \n",
       "\n",
       "             25        26       27        28            29           30    31  \\\n",
       "State  Missouri  Oklahoma  Alabama  Arkansas  Rhode Island  Mississippi  Utah   \n",
       "count        66        66       61        60            55           53    53   \n",
       "\n",
       "                   32         33      34        35          36             37  \\\n",
       "State  South Carolina  Louisiana  Nevada  Nebraska  New Mexico  New Hampshire   \n",
       "count              42         41      39        38          37             27   \n",
       "\n",
       "         38      39     40       41            42                    43  \\\n",
       "State  Iowa  Kansas  Idaho  Montana  South Dakota  District of Columbia   \n",
       "count    26      24     21       15            12                    10   \n",
       "\n",
       "          44            45             46       47  \n",
       "State  Maine  North Dakota  West Virginia  Wyoming  \n",
       "count      8             7              4        1  "
      ]
     },
     "execution_count": 19,
     "metadata": {},
     "output_type": "execute_result"
    }
   ],
   "source": [
    "# State --->\n",
    "# there are 48 unique states\n",
    "# Top 1 is California with frequancy 1.9K\n",
    "# let's show freq for other states\n",
    "df[\"State\"].value_counts().reset_index()"
   ]
  },
  {
   "cell_type": "code",
   "execution_count": 27,
   "id": "9c8ec6a7-8aab-4cb3-ba59-358a3e0a7f7b",
   "metadata": {},
   "outputs": [
    {
     "data": {
      "application/vnd.plotly.v1+json": {
       "config": {
        "plotlyServerURL": "https://plot.ly"
       },
       "data": [
        {
         "hovertemplate": "State=%{x}<br>count=%{y}<extra></extra>",
         "legendgroup": "California",
         "marker": {
          "color": "#636efa",
          "pattern": {
           "shape": ""
          }
         },
         "name": "California",
         "orientation": "v",
         "showlegend": true,
         "textposition": "auto",
         "texttemplate": "%{y}",
         "type": "bar",
         "x": [
          "California"
         ],
         "xaxis": "x",
         "y": {
          "bdata": "mgc=",
          "dtype": "i2"
         },
         "yaxis": "y"
        },
        {
         "hovertemplate": "State=%{x}<br>count=%{y}<extra></extra>",
         "legendgroup": "New York",
         "marker": {
          "color": "#EF553B",
          "pattern": {
           "shape": ""
          }
         },
         "name": "New York",
         "orientation": "v",
         "showlegend": true,
         "textposition": "auto",
         "texttemplate": "%{y}",
         "type": "bar",
         "x": [
          "New York"
         ],
         "xaxis": "x",
         "y": {
          "bdata": "SQQ=",
          "dtype": "i2"
         },
         "yaxis": "y"
        },
        {
         "hovertemplate": "State=%{x}<br>count=%{y}<extra></extra>",
         "legendgroup": "Texas",
         "marker": {
          "color": "#00cc96",
          "pattern": {
           "shape": ""
          }
         },
         "name": "Texas",
         "orientation": "v",
         "showlegend": true,
         "textposition": "auto",
         "texttemplate": "%{y}",
         "type": "bar",
         "x": [
          "Texas"
         ],
         "xaxis": "x",
         "y": {
          "bdata": "zQM=",
          "dtype": "i2"
         },
         "yaxis": "y"
        },
        {
         "hovertemplate": "State=%{x}<br>count=%{y}<extra></extra>",
         "legendgroup": "Pennsylvania",
         "marker": {
          "color": "#ab63fa",
          "pattern": {
           "shape": ""
          }
         },
         "name": "Pennsylvania",
         "orientation": "v",
         "showlegend": true,
         "textposition": "auto",
         "texttemplate": "%{y}",
         "type": "bar",
         "x": [
          "Pennsylvania"
         ],
         "xaxis": "x",
         "y": {
          "bdata": "RgI=",
          "dtype": "i2"
         },
         "yaxis": "y"
        },
        {
         "hovertemplate": "State=%{x}<br>count=%{y}<extra></extra>",
         "legendgroup": "Washington",
         "marker": {
          "color": "#FFA15A",
          "pattern": {
           "shape": ""
          }
         },
         "name": "Washington",
         "orientation": "v",
         "showlegend": true,
         "textposition": "auto",
         "texttemplate": "%{y}",
         "type": "bar",
         "x": [
          "Washington"
         ],
         "xaxis": "x",
         "y": {
          "bdata": "+AE=",
          "dtype": "i2"
         },
         "yaxis": "y"
        },
        {
         "hovertemplate": "State=%{x}<br>count=%{y}<extra></extra>",
         "legendgroup": "Illinois",
         "marker": {
          "color": "#19d3f3",
          "pattern": {
           "shape": ""
          }
         },
         "name": "Illinois",
         "orientation": "v",
         "showlegend": true,
         "textposition": "auto",
         "texttemplate": "%{y}",
         "type": "bar",
         "x": [
          "Illinois"
         ],
         "xaxis": "x",
         "y": {
          "bdata": "4wE=",
          "dtype": "i2"
         },
         "yaxis": "y"
        },
        {
         "hovertemplate": "State=%{x}<br>count=%{y}<extra></extra>",
         "legendgroup": "Ohio",
         "marker": {
          "color": "#FF6692",
          "pattern": {
           "shape": ""
          }
         },
         "name": "Ohio",
         "orientation": "v",
         "showlegend": true,
         "textposition": "auto",
         "texttemplate": "%{y}",
         "type": "bar",
         "x": [
          "Ohio"
         ],
         "xaxis": "x",
         "y": {
          "bdata": "xgE=",
          "dtype": "i2"
         },
         "yaxis": "y"
        },
        {
         "hovertemplate": "State=%{x}<br>count=%{y}<extra></extra>",
         "legendgroup": "Florida",
         "marker": {
          "color": "#B6E880",
          "pattern": {
           "shape": ""
          }
         },
         "name": "Florida",
         "orientation": "v",
         "showlegend": true,
         "textposition": "auto",
         "texttemplate": "%{y}",
         "type": "bar",
         "x": [
          "Florida"
         ],
         "xaxis": "x",
         "y": {
          "bdata": "dQE=",
          "dtype": "i2"
         },
         "yaxis": "y"
        }
       ],
       "layout": {
        "barmode": "relative",
        "legend": {
         "title": {
          "text": "State"
         },
         "tracegroupgap": 0
        },
        "template": {
         "data": {
          "bar": [
           {
            "error_x": {
             "color": "#2a3f5f"
            },
            "error_y": {
             "color": "#2a3f5f"
            },
            "marker": {
             "line": {
              "color": "#E5ECF6",
              "width": 0.5
             },
             "pattern": {
              "fillmode": "overlay",
              "size": 10,
              "solidity": 0.2
             }
            },
            "type": "bar"
           }
          ],
          "barpolar": [
           {
            "marker": {
             "line": {
              "color": "#E5ECF6",
              "width": 0.5
             },
             "pattern": {
              "fillmode": "overlay",
              "size": 10,
              "solidity": 0.2
             }
            },
            "type": "barpolar"
           }
          ],
          "carpet": [
           {
            "aaxis": {
             "endlinecolor": "#2a3f5f",
             "gridcolor": "white",
             "linecolor": "white",
             "minorgridcolor": "white",
             "startlinecolor": "#2a3f5f"
            },
            "baxis": {
             "endlinecolor": "#2a3f5f",
             "gridcolor": "white",
             "linecolor": "white",
             "minorgridcolor": "white",
             "startlinecolor": "#2a3f5f"
            },
            "type": "carpet"
           }
          ],
          "choropleth": [
           {
            "colorbar": {
             "outlinewidth": 0,
             "ticks": ""
            },
            "type": "choropleth"
           }
          ],
          "contour": [
           {
            "colorbar": {
             "outlinewidth": 0,
             "ticks": ""
            },
            "colorscale": [
             [
              0,
              "#0d0887"
             ],
             [
              0.1111111111111111,
              "#46039f"
             ],
             [
              0.2222222222222222,
              "#7201a8"
             ],
             [
              0.3333333333333333,
              "#9c179e"
             ],
             [
              0.4444444444444444,
              "#bd3786"
             ],
             [
              0.5555555555555556,
              "#d8576b"
             ],
             [
              0.6666666666666666,
              "#ed7953"
             ],
             [
              0.7777777777777778,
              "#fb9f3a"
             ],
             [
              0.8888888888888888,
              "#fdca26"
             ],
             [
              1,
              "#f0f921"
             ]
            ],
            "type": "contour"
           }
          ],
          "contourcarpet": [
           {
            "colorbar": {
             "outlinewidth": 0,
             "ticks": ""
            },
            "type": "contourcarpet"
           }
          ],
          "heatmap": [
           {
            "colorbar": {
             "outlinewidth": 0,
             "ticks": ""
            },
            "colorscale": [
             [
              0,
              "#0d0887"
             ],
             [
              0.1111111111111111,
              "#46039f"
             ],
             [
              0.2222222222222222,
              "#7201a8"
             ],
             [
              0.3333333333333333,
              "#9c179e"
             ],
             [
              0.4444444444444444,
              "#bd3786"
             ],
             [
              0.5555555555555556,
              "#d8576b"
             ],
             [
              0.6666666666666666,
              "#ed7953"
             ],
             [
              0.7777777777777778,
              "#fb9f3a"
             ],
             [
              0.8888888888888888,
              "#fdca26"
             ],
             [
              1,
              "#f0f921"
             ]
            ],
            "type": "heatmap"
           }
          ],
          "histogram": [
           {
            "marker": {
             "pattern": {
              "fillmode": "overlay",
              "size": 10,
              "solidity": 0.2
             }
            },
            "type": "histogram"
           }
          ],
          "histogram2d": [
           {
            "colorbar": {
             "outlinewidth": 0,
             "ticks": ""
            },
            "colorscale": [
             [
              0,
              "#0d0887"
             ],
             [
              0.1111111111111111,
              "#46039f"
             ],
             [
              0.2222222222222222,
              "#7201a8"
             ],
             [
              0.3333333333333333,
              "#9c179e"
             ],
             [
              0.4444444444444444,
              "#bd3786"
             ],
             [
              0.5555555555555556,
              "#d8576b"
             ],
             [
              0.6666666666666666,
              "#ed7953"
             ],
             [
              0.7777777777777778,
              "#fb9f3a"
             ],
             [
              0.8888888888888888,
              "#fdca26"
             ],
             [
              1,
              "#f0f921"
             ]
            ],
            "type": "histogram2d"
           }
          ],
          "histogram2dcontour": [
           {
            "colorbar": {
             "outlinewidth": 0,
             "ticks": ""
            },
            "colorscale": [
             [
              0,
              "#0d0887"
             ],
             [
              0.1111111111111111,
              "#46039f"
             ],
             [
              0.2222222222222222,
              "#7201a8"
             ],
             [
              0.3333333333333333,
              "#9c179e"
             ],
             [
              0.4444444444444444,
              "#bd3786"
             ],
             [
              0.5555555555555556,
              "#d8576b"
             ],
             [
              0.6666666666666666,
              "#ed7953"
             ],
             [
              0.7777777777777778,
              "#fb9f3a"
             ],
             [
              0.8888888888888888,
              "#fdca26"
             ],
             [
              1,
              "#f0f921"
             ]
            ],
            "type": "histogram2dcontour"
           }
          ],
          "mesh3d": [
           {
            "colorbar": {
             "outlinewidth": 0,
             "ticks": ""
            },
            "type": "mesh3d"
           }
          ],
          "parcoords": [
           {
            "line": {
             "colorbar": {
              "outlinewidth": 0,
              "ticks": ""
             }
            },
            "type": "parcoords"
           }
          ],
          "pie": [
           {
            "automargin": true,
            "type": "pie"
           }
          ],
          "scatter": [
           {
            "fillpattern": {
             "fillmode": "overlay",
             "size": 10,
             "solidity": 0.2
            },
            "type": "scatter"
           }
          ],
          "scatter3d": [
           {
            "line": {
             "colorbar": {
              "outlinewidth": 0,
              "ticks": ""
             }
            },
            "marker": {
             "colorbar": {
              "outlinewidth": 0,
              "ticks": ""
             }
            },
            "type": "scatter3d"
           }
          ],
          "scattercarpet": [
           {
            "marker": {
             "colorbar": {
              "outlinewidth": 0,
              "ticks": ""
             }
            },
            "type": "scattercarpet"
           }
          ],
          "scattergeo": [
           {
            "marker": {
             "colorbar": {
              "outlinewidth": 0,
              "ticks": ""
             }
            },
            "type": "scattergeo"
           }
          ],
          "scattergl": [
           {
            "marker": {
             "colorbar": {
              "outlinewidth": 0,
              "ticks": ""
             }
            },
            "type": "scattergl"
           }
          ],
          "scattermap": [
           {
            "marker": {
             "colorbar": {
              "outlinewidth": 0,
              "ticks": ""
             }
            },
            "type": "scattermap"
           }
          ],
          "scattermapbox": [
           {
            "marker": {
             "colorbar": {
              "outlinewidth": 0,
              "ticks": ""
             }
            },
            "type": "scattermapbox"
           }
          ],
          "scatterpolar": [
           {
            "marker": {
             "colorbar": {
              "outlinewidth": 0,
              "ticks": ""
             }
            },
            "type": "scatterpolar"
           }
          ],
          "scatterpolargl": [
           {
            "marker": {
             "colorbar": {
              "outlinewidth": 0,
              "ticks": ""
             }
            },
            "type": "scatterpolargl"
           }
          ],
          "scatterternary": [
           {
            "marker": {
             "colorbar": {
              "outlinewidth": 0,
              "ticks": ""
             }
            },
            "type": "scatterternary"
           }
          ],
          "surface": [
           {
            "colorbar": {
             "outlinewidth": 0,
             "ticks": ""
            },
            "colorscale": [
             [
              0,
              "#0d0887"
             ],
             [
              0.1111111111111111,
              "#46039f"
             ],
             [
              0.2222222222222222,
              "#7201a8"
             ],
             [
              0.3333333333333333,
              "#9c179e"
             ],
             [
              0.4444444444444444,
              "#bd3786"
             ],
             [
              0.5555555555555556,
              "#d8576b"
             ],
             [
              0.6666666666666666,
              "#ed7953"
             ],
             [
              0.7777777777777778,
              "#fb9f3a"
             ],
             [
              0.8888888888888888,
              "#fdca26"
             ],
             [
              1,
              "#f0f921"
             ]
            ],
            "type": "surface"
           }
          ],
          "table": [
           {
            "cells": {
             "fill": {
              "color": "#EBF0F8"
             },
             "line": {
              "color": "white"
             }
            },
            "header": {
             "fill": {
              "color": "#C8D4E3"
             },
             "line": {
              "color": "white"
             }
            },
            "type": "table"
           }
          ]
         },
         "layout": {
          "annotationdefaults": {
           "arrowcolor": "#2a3f5f",
           "arrowhead": 0,
           "arrowwidth": 1
          },
          "autotypenumbers": "strict",
          "coloraxis": {
           "colorbar": {
            "outlinewidth": 0,
            "ticks": ""
           }
          },
          "colorscale": {
           "diverging": [
            [
             0,
             "#8e0152"
            ],
            [
             0.1,
             "#c51b7d"
            ],
            [
             0.2,
             "#de77ae"
            ],
            [
             0.3,
             "#f1b6da"
            ],
            [
             0.4,
             "#fde0ef"
            ],
            [
             0.5,
             "#f7f7f7"
            ],
            [
             0.6,
             "#e6f5d0"
            ],
            [
             0.7,
             "#b8e186"
            ],
            [
             0.8,
             "#7fbc41"
            ],
            [
             0.9,
             "#4d9221"
            ],
            [
             1,
             "#276419"
            ]
           ],
           "sequential": [
            [
             0,
             "#0d0887"
            ],
            [
             0.1111111111111111,
             "#46039f"
            ],
            [
             0.2222222222222222,
             "#7201a8"
            ],
            [
             0.3333333333333333,
             "#9c179e"
            ],
            [
             0.4444444444444444,
             "#bd3786"
            ],
            [
             0.5555555555555556,
             "#d8576b"
            ],
            [
             0.6666666666666666,
             "#ed7953"
            ],
            [
             0.7777777777777778,
             "#fb9f3a"
            ],
            [
             0.8888888888888888,
             "#fdca26"
            ],
            [
             1,
             "#f0f921"
            ]
           ],
           "sequentialminus": [
            [
             0,
             "#0d0887"
            ],
            [
             0.1111111111111111,
             "#46039f"
            ],
            [
             0.2222222222222222,
             "#7201a8"
            ],
            [
             0.3333333333333333,
             "#9c179e"
            ],
            [
             0.4444444444444444,
             "#bd3786"
            ],
            [
             0.5555555555555556,
             "#d8576b"
            ],
            [
             0.6666666666666666,
             "#ed7953"
            ],
            [
             0.7777777777777778,
             "#fb9f3a"
            ],
            [
             0.8888888888888888,
             "#fdca26"
            ],
            [
             1,
             "#f0f921"
            ]
           ]
          },
          "colorway": [
           "#636efa",
           "#EF553B",
           "#00cc96",
           "#ab63fa",
           "#FFA15A",
           "#19d3f3",
           "#FF6692",
           "#B6E880",
           "#FF97FF",
           "#FECB52"
          ],
          "font": {
           "color": "#2a3f5f"
          },
          "geo": {
           "bgcolor": "white",
           "lakecolor": "white",
           "landcolor": "#E5ECF6",
           "showlakes": true,
           "showland": true,
           "subunitcolor": "white"
          },
          "hoverlabel": {
           "align": "left"
          },
          "hovermode": "closest",
          "mapbox": {
           "style": "light"
          },
          "paper_bgcolor": "white",
          "plot_bgcolor": "#E5ECF6",
          "polar": {
           "angularaxis": {
            "gridcolor": "white",
            "linecolor": "white",
            "ticks": ""
           },
           "bgcolor": "#E5ECF6",
           "radialaxis": {
            "gridcolor": "white",
            "linecolor": "white",
            "ticks": ""
           }
          },
          "scene": {
           "xaxis": {
            "backgroundcolor": "#E5ECF6",
            "gridcolor": "white",
            "gridwidth": 2,
            "linecolor": "white",
            "showbackground": true,
            "ticks": "",
            "zerolinecolor": "white"
           },
           "yaxis": {
            "backgroundcolor": "#E5ECF6",
            "gridcolor": "white",
            "gridwidth": 2,
            "linecolor": "white",
            "showbackground": true,
            "ticks": "",
            "zerolinecolor": "white"
           },
           "zaxis": {
            "backgroundcolor": "#E5ECF6",
            "gridcolor": "white",
            "gridwidth": 2,
            "linecolor": "white",
            "showbackground": true,
            "ticks": "",
            "zerolinecolor": "white"
           }
          },
          "shapedefaults": {
           "line": {
            "color": "#2a3f5f"
           }
          },
          "ternary": {
           "aaxis": {
            "gridcolor": "white",
            "linecolor": "white",
            "ticks": ""
           },
           "baxis": {
            "gridcolor": "white",
            "linecolor": "white",
            "ticks": ""
           },
           "bgcolor": "#E5ECF6",
           "caxis": {
            "gridcolor": "white",
            "linecolor": "white",
            "ticks": ""
           }
          },
          "title": {
           "x": 0.05
          },
          "xaxis": {
           "automargin": true,
           "gridcolor": "white",
           "linecolor": "white",
           "ticks": "",
           "title": {
            "standoff": 15
           },
           "zerolinecolor": "white",
           "zerolinewidth": 2
          },
          "yaxis": {
           "automargin": true,
           "gridcolor": "white",
           "linecolor": "white",
           "ticks": "",
           "title": {
            "standoff": 15
           },
           "zerolinecolor": "white",
           "zerolinewidth": 2
          }
         }
        },
        "title": {
         "text": "Top 8 States"
        },
        "xaxis": {
         "anchor": "y",
         "categoryarray": [
          "California",
          "New York",
          "Texas",
          "Pennsylvania",
          "Washington",
          "Illinois",
          "Ohio",
          "Florida"
         ],
         "categoryorder": "array",
         "domain": [
          0,
          1
         ],
         "title": {
          "text": "State"
         }
        },
        "yaxis": {
         "anchor": "x",
         "domain": [
          0,
          1
         ],
         "title": {
          "text": "count"
         }
        }
       }
      },
      "image/png": "[encoded data removed]"
     },
     "metadata": {},
     "output_type": "display_data"
    }
   ],
   "source": [
    "# let's do Bar plot for good visualize --->\n",
    "\n",
    "fig = px.bar(\n",
    "\n",
    "    data_frame=df[\"State\"].value_counts().reset_index().head(8),\n",
    "    x = \"State\", y = \"count\",\n",
    "    color=\"State\",\n",
    "    text_auto=True,\n",
    "    title=\"Top 8 States\",\n",
    ")\n",
    "\n",
    "fig.show()"
   ]
  },
  {
   "cell_type": "code",
   "execution_count": 32,
   "id": "de93245d-bc0a-4e34-93e0-3b607c0e13a5",
   "metadata": {},
   "outputs": [
    {
     "data": {
      "text/html": [
       "<div>\n",
       "<style scoped>\n",
       "    .dataframe tbody tr th:only-of-type {\n",
       "        vertical-align: middle;\n",
       "    }\n",
       "\n",
       "    .dataframe tbody tr th {\n",
       "        vertical-align: top;\n",
       "    }\n",
       "\n",
       "    .dataframe thead th {\n",
       "        text-align: right;\n",
       "    }\n",
       "</style>\n",
       "<table border=\"1\" class=\"dataframe\">\n",
       "  <thead>\n",
       "    <tr style=\"text-align: right;\">\n",
       "      <th></th>\n",
       "      <th>count</th>\n",
       "      <th>unique</th>\n",
       "      <th>top</th>\n",
       "      <th>freq</th>\n",
       "    </tr>\n",
       "  </thead>\n",
       "  <tbody>\n",
       "    <tr>\n",
       "      <th>Region</th>\n",
       "      <td>9789</td>\n",
       "      <td>4</td>\n",
       "      <td>West</td>\n",
       "      <td>3140</td>\n",
       "    </tr>\n",
       "    <tr>\n",
       "      <th>Category</th>\n",
       "      <td>9789</td>\n",
       "      <td>3</td>\n",
       "      <td>Office Supplies</td>\n",
       "      <td>5903</td>\n",
       "    </tr>\n",
       "    <tr>\n",
       "      <th>Sub-Category</th>\n",
       "      <td>9789</td>\n",
       "      <td>17</td>\n",
       "      <td>Binders</td>\n",
       "      <td>1492</td>\n",
       "    </tr>\n",
       "  </tbody>\n",
       "</table>\n",
       "</div>"
      ],
      "text/plain": [
       "             count unique              top  freq\n",
       "Region        9789      4             West  3140\n",
       "Category      9789      3  Office Supplies  5903\n",
       "Sub-Category  9789     17          Binders  1492"
      ]
     },
     "execution_count": 32,
     "metadata": {},
     "output_type": "execute_result"
    }
   ],
   "source": [
    "# let's show descriptive stat for last 3 columns \n",
    "df[['Region','Category', 'Sub-Category']].describe().T"
   ]
  },
  {
   "cell_type": "code",
   "execution_count": 38,
   "id": "34570139-7a1d-43c1-967f-de4ad213e78b",
   "metadata": {},
   "outputs": [
    {
     "data": {
      "application/vnd.plotly.v1+json": {
       "config": {
        "plotlyServerURL": "https://plot.ly"
       },
       "data": [
        {
         "text": {
          "bdata": "AAAAAACIqEAAAAAAAKylQAAAAAAAyqFAAAAAAAD4mEA=",
          "dtype": "f8"
         },
         "textposition": "auto",
         "type": "bar",
         "x": [
          "West",
          "East",
          "Central",
          "South"
         ],
         "xaxis": "x",
         "y": {
          "bdata": "RAzWCuUIPgY=",
          "dtype": "i2"
         },
         "yaxis": "y"
        },
        {
         "text": {
          "bdata": "AAAAAAAPt0AAAAAAADigQAAAAAAASJxA",
          "dtype": "f8"
         },
         "textposition": "auto",
         "type": "bar",
         "x": [
          "Office Supplies",
          "Furniture",
          "Technology"
         ],
         "xaxis": "x2",
         "y": {
          "bdata": "DxccCBIH",
          "dtype": "i2"
         },
         "yaxis": "y2"
        },
        {
         "text": {
          "bdata": "AAAAAABQl0AAAAAAAOCUQAAAAAAAGI1AAAAAAABYi0AAAAAAAPiJQAAAAAAAgIhAAAAAAACQh0AAAAAAAPCCQAAAAAAAoHxAAAAAAABQdkAAAAAAAKBzQAAAAAAA4G5AAAAAAAAgbEAAAAAAAMBqQAAAAAAAAGdAAAAAAADAXEAAAAAAAIBQQA==",
          "dtype": "f8"
         },
         "textposition": "auto",
         "type": "bar",
         "x": [
          "Binders",
          "Paper",
          "Furnishings",
          "Phones",
          "Storage",
          "Art",
          "Accessories",
          "Chairs",
          "Appliances",
          "Labels",
          "Tables",
          "Envelopes",
          "Bookcases",
          "Fasteners",
          "Supplies",
          "Machines",
          "Copiers"
         ],
         "xaxis": "x3",
         "y": {
          "bdata": "1AU4BaMDawM/AxAD8gJeAsoBZQE6AfcA4QDWALgAcwBCAA==",
          "dtype": "i2"
         },
         "yaxis": "y3"
        }
       ],
       "layout": {
        "annotations": [
         {
          "font": {
           "size": 16
          },
          "showarrow": false,
          "text": "Rigons Frequancy",
          "x": 0.225,
          "xanchor": "center",
          "xref": "paper",
          "y": 1,
          "yanchor": "bottom",
          "yref": "paper"
         },
         {
          "font": {
           "size": 16
          },
          "showarrow": false,
          "text": "Categories Frequancy",
          "x": 0.775,
          "xanchor": "center",
          "xref": "paper",
          "y": 1,
          "yanchor": "bottom",
          "yref": "paper"
         }
        ],
        "height": 800,
        "template": {
         "data": {
          "bar": [
           {
            "error_x": {
             "color": "#2a3f5f"
            },
            "error_y": {
             "color": "#2a3f5f"
            },
            "marker": {
             "line": {
              "color": "#E5ECF6",
              "width": 0.5
             },
             "pattern": {
              "fillmode": "overlay",
              "size": 10,
              "solidity": 0.2
             }
            },
            "type": "bar"
           }
          ],
          "barpolar": [
           {
            "marker": {
             "line": {
              "color": "#E5ECF6",
              "width": 0.5
             },
             "pattern": {
              "fillmode": "overlay",
              "size": 10,
              "solidity": 0.2
             }
            },
            "type": "barpolar"
           }
          ],
          "carpet": [
           {
            "aaxis": {
             "endlinecolor": "#2a3f5f",
             "gridcolor": "white",
             "linecolor": "white",
             "minorgridcolor": "white",
             "startlinecolor": "#2a3f5f"
            },
            "baxis": {
             "endlinecolor": "#2a3f5f",
             "gridcolor": "white",
             "linecolor": "white",
             "minorgridcolor": "white",
             "startlinecolor": "#2a3f5f"
            },
            "type": "carpet"
           }
          ],
          "choropleth": [
           {
            "colorbar": {
             "outlinewidth": 0,
             "ticks": ""
            },
            "type": "choropleth"
           }
          ],
          "contour": [
           {
            "colorbar": {
             "outlinewidth": 0,
             "ticks": ""
            },
            "colorscale": [
             [
              0,
              "#0d0887"
             ],
             [
              0.1111111111111111,
              "#46039f"
             ],
             [
              0.2222222222222222,
              "#7201a8"
             ],
             [
              0.3333333333333333,
              "#9c179e"
             ],
             [
              0.4444444444444444,
              "#bd3786"
             ],
             [
              0.5555555555555556,
              "#d8576b"
             ],
             [
              0.6666666666666666,
              "#ed7953"
             ],
             [
              0.7777777777777778,
              "#fb9f3a"
             ],
             [
              0.8888888888888888,
              "#fdca26"
             ],
             [
              1,
              "#f0f921"
             ]
            ],
            "type": "contour"
           }
          ],
          "contourcarpet": [
           {
            "colorbar": {
             "outlinewidth": 0,
             "ticks": ""
            },
            "type": "contourcarpet"
           }
          ],
          "heatmap": [
           {
            "colorbar": {
             "outlinewidth": 0,
             "ticks": ""
            },
            "colorscale": [
             [
              0,
              "#0d0887"
             ],
             [
              0.1111111111111111,
              "#46039f"
             ],
             [
              0.2222222222222222,
              "#7201a8"
             ],
             [
              0.3333333333333333,
              "#9c179e"
             ],
             [
              0.4444444444444444,
              "#bd3786"
             ],
             [
              0.5555555555555556,
              "#d8576b"
             ],
             [
              0.6666666666666666,
              "#ed7953"
             ],
             [
              0.7777777777777778,
              "#fb9f3a"
             ],
             [
              0.8888888888888888,
              "#fdca26"
             ],
             [
              1,
              "#f0f921"
             ]
            ],
            "type": "heatmap"
           }
          ],
          "histogram": [
           {
            "marker": {
             "pattern": {
              "fillmode": "overlay",
              "size": 10,
              "solidity": 0.2
             }
            },
            "type": "histogram"
           }
          ],
          "histogram2d": [
           {
            "colorbar": {
             "outlinewidth": 0,
             "ticks": ""
            },
            "colorscale": [
             [
              0,
              "#0d0887"
             ],
             [
              0.1111111111111111,
              "#46039f"
             ],
             [
              0.2222222222222222,
              "#7201a8"
             ],
             [
              0.3333333333333333,
              "#9c179e"
             ],
             [
              0.4444444444444444,
              "#bd3786"
             ],
             [
              0.5555555555555556,
              "#d8576b"
             ],
             [
              0.6666666666666666,
              "#ed7953"
             ],
             [
              0.7777777777777778,
              "#fb9f3a"
             ],
             [
              0.8888888888888888,
              "#fdca26"
             ],
             [
              1,
              "#f0f921"
             ]
            ],
            "type": "histogram2d"
           }
          ],
          "histogram2dcontour": [
           {
            "colorbar": {
             "outlinewidth": 0,
             "ticks": ""
            },
            "colorscale": [
             [
              0,
              "#0d0887"
             ],
             [
              0.1111111111111111,
              "#46039f"
             ],
             [
              0.2222222222222222,
              "#7201a8"
             ],
             [
              0.3333333333333333,
              "#9c179e"
             ],
             [
              0.4444444444444444,
              "#bd3786"
             ],
             [
              0.5555555555555556,
              "#d8576b"
             ],
             [
              0.6666666666666666,
              "#ed7953"
             ],
             [
              0.7777777777777778,
              "#fb9f3a"
             ],
             [
              0.8888888888888888,
              "#fdca26"
             ],
             [
              1,
              "#f0f921"
             ]
            ],
            "type": "histogram2dcontour"
           }
          ],
          "mesh3d": [
           {
            "colorbar": {
             "outlinewidth": 0,
             "ticks": ""
            },
            "type": "mesh3d"
           }
          ],
          "parcoords": [
           {
            "line": {
             "colorbar": {
              "outlinewidth": 0,
              "ticks": ""
             }
            },
            "type": "parcoords"
           }
          ],
          "pie": [
           {
            "automargin": true,
            "type": "pie"
           }
          ],
          "scatter": [
           {
            "fillpattern": {
             "fillmode": "overlay",
             "size": 10,
             "solidity": 0.2
            },
            "type": "scatter"
           }
          ],
          "scatter3d": [
           {
            "line": {
             "colorbar": {
              "outlinewidth": 0,
              "ticks": ""
             }
            },
            "marker": {
             "colorbar": {
              "outlinewidth": 0,
              "ticks": ""
             }
            },
            "type": "scatter3d"
           }
          ],
          "scattercarpet": [
           {
            "marker": {
             "colorbar": {
              "outlinewidth": 0,
              "ticks": ""
             }
            },
            "type": "scattercarpet"
           }
          ],
          "scattergeo": [
           {
            "marker": {
             "colorbar": {
              "outlinewidth": 0,
              "ticks": ""
             }
            },
            "type": "scattergeo"
           }
          ],
          "scattergl": [
           {
            "marker": {
             "colorbar": {
              "outlinewidth": 0,
              "ticks": ""
             }
            },
            "type": "scattergl"
           }
          ],
          "scattermap": [
           {
            "marker": {
             "colorbar": {
              "outlinewidth": 0,
              "ticks": ""
             }
            },
            "type": "scattermap"
           }
          ],
          "scattermapbox": [
           {
            "marker": {
             "colorbar": {
              "outlinewidth": 0,
              "ticks": ""
             }
            },
            "type": "scattermapbox"
           }
          ],
          "scatterpolar": [
           {
            "marker": {
             "colorbar": {
              "outlinewidth": 0,
              "ticks": ""
             }
            },
            "type": "scatterpolar"
           }
          ],
          "scatterpolargl": [
           {
            "marker": {
             "colorbar": {
              "outlinewidth": 0,
              "ticks": ""
             }
            },
            "type": "scatterpolargl"
           }
          ],
          "scatterternary": [
           {
            "marker": {
             "colorbar": {
              "outlinewidth": 0,
              "ticks": ""
             }
            },
            "type": "scatterternary"
           }
          ],
          "surface": [
           {
            "colorbar": {
             "outlinewidth": 0,
             "ticks": ""
            },
            "colorscale": [
             [
              0,
              "#0d0887"
             ],
             [
              0.1111111111111111,
              "#46039f"
             ],
             [
              0.2222222222222222,
              "#7201a8"
             ],
             [
              0.3333333333333333,
              "#9c179e"
             ],
             [
              0.4444444444444444,
              "#bd3786"
             ],
             [
              0.5555555555555556,
              "#d8576b"
             ],
             [
              0.6666666666666666,
              "#ed7953"
             ],
             [
              0.7777777777777778,
              "#fb9f3a"
             ],
             [
              0.8888888888888888,
              "#fdca26"
             ],
             [
              1,
              "#f0f921"
             ]
            ],
            "type": "surface"
           }
          ],
          "table": [
           {
            "cells": {
             "fill": {
              "color": "#EBF0F8"
             },
             "line": {
              "color": "white"
             }
            },
            "header": {
             "fill": {
              "color": "#C8D4E3"
             },
             "line": {
              "color": "white"
             }
            },
            "type": "table"
           }
          ]
         },
         "layout": {
          "annotationdefaults": {
           "arrowcolor": "#2a3f5f",
           "arrowhead": 0,
           "arrowwidth": 1
          },
          "autotypenumbers": "strict",
          "coloraxis": {
           "colorbar": {
            "outlinewidth": 0,
            "ticks": ""
           }
          },
          "colorscale": {
           "diverging": [
            [
             0,
             "#8e0152"
            ],
            [
             0.1,
             "#c51b7d"
            ],
            [
             0.2,
             "#de77ae"
            ],
            [
             0.3,
             "#f1b6da"
            ],
            [
             0.4,
             "#fde0ef"
            ],
            [
             0.5,
             "#f7f7f7"
            ],
            [
             0.6,
             "#e6f5d0"
            ],
            [
             0.7,
             "#b8e186"
            ],
            [
             0.8,
             "#7fbc41"
            ],
            [
             0.9,
             "#4d9221"
            ],
            [
             1,
             "#276419"
            ]
           ],
           "sequential": [
            [
             0,
             "#0d0887"
            ],
            [
             0.1111111111111111,
             "#46039f"
            ],
            [
             0.2222222222222222,
             "#7201a8"
            ],
            [
             0.3333333333333333,
             "#9c179e"
            ],
            [
             0.4444444444444444,
             "#bd3786"
            ],
            [
             0.5555555555555556,
             "#d8576b"
            ],
            [
             0.6666666666666666,
             "#ed7953"
            ],
            [
             0.7777777777777778,
             "#fb9f3a"
            ],
            [
             0.8888888888888888,
             "#fdca26"
            ],
            [
             1,
             "#f0f921"
            ]
           ],
           "sequentialminus": [
            [
             0,
             "#0d0887"
            ],
            [
             0.1111111111111111,
             "#46039f"
            ],
            [
             0.2222222222222222,
             "#7201a8"
            ],
            [
             0.3333333333333333,
             "#9c179e"
            ],
            [
             0.4444444444444444,
             "#bd3786"
            ],
            [
             0.5555555555555556,
             "#d8576b"
            ],
            [
             0.6666666666666666,
             "#ed7953"
            ],
            [
             0.7777777777777778,
             "#fb9f3a"
            ],
            [
             0.8888888888888888,
             "#fdca26"
            ],
            [
             1,
             "#f0f921"
            ]
           ]
          },
          "colorway": [
           "#636efa",
           "#EF553B",
           "#00cc96",
           "#ab63fa",
           "#FFA15A",
           "#19d3f3",
           "#FF6692",
           "#B6E880",
           "#FF97FF",
           "#FECB52"
          ],
          "font": {
           "color": "#2a3f5f"
          },
          "geo": {
           "bgcolor": "white",
           "lakecolor": "white",
           "landcolor": "#E5ECF6",
           "showlakes": true,
           "showland": true,
           "subunitcolor": "white"
          },
          "hoverlabel": {
           "align": "left"
          },
          "hovermode": "closest",
          "mapbox": {
           "style": "light"
          },
          "paper_bgcolor": "white",
          "plot_bgcolor": "#E5ECF6",
          "polar": {
           "angularaxis": {
            "gridcolor": "white",
            "linecolor": "white",
            "ticks": ""
           },
           "bgcolor": "#E5ECF6",
           "radialaxis": {
            "gridcolor": "white",
            "linecolor": "white",
            "ticks": ""
           }
          },
          "scene": {
           "xaxis": {
            "backgroundcolor": "#E5ECF6",
            "gridcolor": "white",
            "gridwidth": 2,
            "linecolor": "white",
            "showbackground": true,
            "ticks": "",
            "zerolinecolor": "white"
           },
           "yaxis": {
            "backgroundcolor": "#E5ECF6",
            "gridcolor": "white",
            "gridwidth": 2,
            "linecolor": "white",
            "showbackground": true,
            "ticks": "",
            "zerolinecolor": "white"
           },
           "zaxis": {
            "backgroundcolor": "#E5ECF6",
            "gridcolor": "white",
            "gridwidth": 2,
            "linecolor": "white",
            "showbackground": true,
            "ticks": "",
            "zerolinecolor": "white"
           }
          },
          "shapedefaults": {
           "line": {
            "color": "#2a3f5f"
           }
          },
          "ternary": {
           "aaxis": {
            "gridcolor": "white",
            "linecolor": "white",
            "ticks": ""
           },
           "baxis": {
            "gridcolor": "white",
            "linecolor": "white",
            "ticks": ""
           },
           "bgcolor": "#E5ECF6",
           "caxis": {
            "gridcolor": "white",
            "linecolor": "white",
            "ticks": ""
           }
          },
          "title": {
           "x": 0.05
          },
          "xaxis": {
           "automargin": true,
           "gridcolor": "white",
           "linecolor": "white",
           "ticks": "",
           "title": {
            "standoff": 15
           },
           "zerolinecolor": "white",
           "zerolinewidth": 2
          },
          "yaxis": {
           "automargin": true,
           "gridcolor": "white",
           "linecolor": "white",
           "ticks": "",
           "title": {
            "standoff": 15
           },
           "zerolinecolor": "white",
           "zerolinewidth": 2
          }
         }
        },
        "title": {
         "text": "Frequency Analysis"
        },
        "width": 1000,
        "xaxis": {
         "anchor": "y",
         "domain": [
          0,
          0.45
         ]
        },
        "xaxis2": {
         "anchor": "y2",
         "domain": [
          0.55,
          1
         ]
        },
        "xaxis3": {
         "anchor": "y3",
         "domain": [
          0,
          1
         ]
        },
        "yaxis": {
         "anchor": "x",
         "domain": [
          0.575,
          1
         ]
        },
        "yaxis2": {
         "anchor": "x2",
         "domain": [
          0.575,
          1
         ]
        },
        "yaxis3": {
         "anchor": "x3",
         "domain": [
          0,
          0.425
         ]
        }
       }
      },
      "image/png": "[encoded data removed]"
     },
     "metadata": {},
     "output_type": "display_data"
    }
   ],
   "source": [
    "# let's do bar for all \n",
    "# using go it's very good for visualoze \n",
    "fig = make_subplots(rows=2,cols=2 , \n",
    "                    column_titles= [\"Rigons Frequancy\",\"Categories Frequancy\",\"Sub-Categories Frequancy\"],\n",
    "                   specs=[[{}, {}],[{\"colspan\": 2}, None]]\n",
    "                   )\n",
    "\n",
    "fig.add_trace(go.Bar(x = df['Region'].value_counts().reset_index()['Region'],\n",
    "                    y = df['Region'].value_counts().reset_index()['count'],\n",
    "                    text = df['Region'].value_counts().reset_index()['count'],\n",
    "                    textposition=\"auto\"\n",
    "                    ),row=1 ,  col=1\n",
    "    \n",
    "    )\n",
    "\n",
    "fig.add_trace(go.Bar(x = df['Category'].value_counts().reset_index()['Category'],\n",
    "                    y = df['Category'].value_counts().reset_index()['count'],\n",
    "                    text = df['Category'].value_counts().reset_index()['count'],\n",
    "                    textposition=\"auto\"\n",
    "                    ),row=1 ,  col=2\n",
    "             )\n",
    "\n",
    "\n",
    "\n",
    "fig.add_trace(go.Bar(x = df['Sub-Category'].value_counts().reset_index()['Sub-Category'],\n",
    "                    y = df['Sub-Category'].value_counts().reset_index()['count'],\n",
    "                    text = df['Sub-Category'].value_counts().reset_index()['count'],\n",
    "                    textposition=\"auto\"\n",
    "                    ),row=2 ,  col=1\n",
    "             )\n",
    "\n",
    "\n",
    "fig.update_layout(height=800, width=1000, title_text=\"Frequency Analysis\")\n",
    "fig.show()"
   ]
  },
  {
   "cell_type": "markdown",
   "id": "fe179679-ad5f-4637-bdac-7056f3095e86",
   "metadata": {},
   "source": [
    "### ✅ Outliers Analysis "
   ]
  },
  {
   "cell_type": "markdown",
   "id": "0912b508-5464-4b01-8317-cf5332baa566",
   "metadata": {},
   "source": [
    "#### ✅ Outliers Detection"
   ]
  },
  {
   "cell_type": "code",
   "execution_count": 41,
   "id": "df4d27cb-d7b7-4ce3-b158-fca9e07e569b",
   "metadata": {},
   "outputs": [
    {
     "data": {
      "application/vnd.plotly.v1+json": {
       "config": {
        "plotlyServerURL": "https://plot.ly"
       },
       "data": [
        {
         "alignmentgroup": "True",
         "hovertemplate": "Sales=%{x}<extra></extra>",
         "legendgroup": "",
         "marker": {
          "color": "#636efa"
         },
         "name": "",
         "notched": false,
         "offsetgroup": "",
         "orientation": "h",
         "showlegend": false,
         "type": "box",
         "x": {
          "bdata": "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",
          "dtype": "f8"
         },
         "x0": " ",
         "xaxis": "x",
         "y0": " ",
         "yaxis": "y"
        }
       ],
       "layout": {
        "boxmode": "group",
        "legend": {
         "tracegroupgap": 0
        },
        "margin": {
         "t": 60
        },
        "template": {
         "data": {
          "bar": [
           {
            "error_x": {
             "color": "#2a3f5f"
            },
            "error_y": {
             "color": "#2a3f5f"
            },
            "marker": {
             "line": {
              "color": "#E5ECF6",
              "width": 0.5
             },
             "pattern": {
              "fillmode": "overlay",
              "size": 10,
              "solidity": 0.2
             }
            },
            "type": "bar"
           }
          ],
          "barpolar": [
           {
            "marker": {
             "line": {
              "color": "#E5ECF6",
              "width": 0.5
             },
             "pattern": {
              "fillmode": "overlay",
              "size": 10,
              "solidity": 0.2
             }
            },
            "type": "barpolar"
           }
          ],
          "carpet": [
           {
            "aaxis": {
             "endlinecolor": "#2a3f5f",
             "gridcolor": "white",
             "linecolor": "white",
             "minorgridcolor": "white",
             "startlinecolor": "#2a3f5f"
            },
            "baxis": {
             "endlinecolor": "#2a3f5f",
             "gridcolor": "white",
             "linecolor": "white",
             "minorgridcolor": "white",
             "startlinecolor": "#2a3f5f"
            },
            "type": "carpet"
           }
          ],
          "choropleth": [
           {
            "colorbar": {
             "outlinewidth": 0,
             "ticks": ""
            },
            "type": "choropleth"
           }
          ],
          "contour": [
           {
            "colorbar": {
             "outlinewidth": 0,
             "ticks": ""
            },
            "colorscale": [
             [
              0,
              "#0d0887"
             ],
             [
              0.1111111111111111,
              "#46039f"
             ],
             [
              0.2222222222222222,
              "#7201a8"
             ],
             [
              0.3333333333333333,
              "#9c179e"
             ],
             [
              0.4444444444444444,
              "#bd3786"
             ],
             [
              0.5555555555555556,
              "#d8576b"
             ],
             [
              0.6666666666666666,
              "#ed7953"
             ],
             [
              0.7777777777777778,
              "#fb9f3a"
             ],
             [
              0.8888888888888888,
              "#fdca26"
             ],
             [
              1,
              "#f0f921"
             ]
            ],
            "type": "contour"
           }
          ],
          "contourcarpet": [
           {
            "colorbar": {
             "outlinewidth": 0,
             "ticks": ""
            },
            "type": "contourcarpet"
           }
          ],
          "heatmap": [
           {
            "colorbar": {
             "outlinewidth": 0,
             "ticks": ""
            },
            "colorscale": [
             [
              0,
              "#0d0887"
             ],
             [
              0.1111111111111111,
              "#46039f"
             ],
             [
              0.2222222222222222,
              "#7201a8"
             ],
             [
              0.3333333333333333,
              "#9c179e"
             ],
             [
              0.4444444444444444,
              "#bd3786"
             ],
             [
              0.5555555555555556,
              "#d8576b"
             ],
             [
              0.6666666666666666,
              "#ed7953"
             ],
             [
              0.7777777777777778,
              "#fb9f3a"
             ],
             [
              0.8888888888888888,
              "#fdca26"
             ],
             [
              1,
              "#f0f921"
             ]
            ],
            "type": "heatmap"
           }
          ],
          "histogram": [
           {
            "marker": {
             "pattern": {
              "fillmode": "overlay",
              "size": 10,
              "solidity": 0.2
             }
            },
            "type": "histogram"
           }
          ],
          "histogram2d": [
           {
            "colorbar": {
             "outlinewidth": 0,
             "ticks": ""
            },
            "colorscale": [
             [
              0,
              "#0d0887"
             ],
             [
              0.1111111111111111,
              "#46039f"
             ],
             [
              0.2222222222222222,
              "#7201a8"
             ],
             [
              0.3333333333333333,
              "#9c179e"
             ],
             [
              0.4444444444444444,
              "#bd3786"
             ],
             [
              0.5555555555555556,
              "#d8576b"
             ],
             [
              0.6666666666666666,
              "#ed7953"
             ],
             [
              0.7777777777777778,
              "#fb9f3a"
             ],
             [
              0.8888888888888888,
              "#fdca26"
             ],
             [
              1,
              "#f0f921"
             ]
            ],
            "type": "histogram2d"
           }
          ],
          "histogram2dcontour": [
           {
            "colorbar": {
             "outlinewidth": 0,
             "ticks": ""
            },
            "colorscale": [
             [
              0,
              "#0d0887"
             ],
             [
              0.1111111111111111,
              "#46039f"
             ],
             [
              0.2222222222222222,
              "#7201a8"
             ],
             [
              0.3333333333333333,
              "#9c179e"
             ],
             [
              0.4444444444444444,
              "#bd3786"
             ],
             [
              0.5555555555555556,
              "#d8576b"
             ],
             [
              0.6666666666666666,
              "#ed7953"
             ],
             [
              0.7777777777777778,
              "#fb9f3a"
             ],
             [
              0.8888888888888888,
              "#fdca26"
             ],
             [
              1,
              "#f0f921"
             ]
            ],
            "type": "histogram2dcontour"
           }
          ],
          "mesh3d": [
           {
            "colorbar": {
             "outlinewidth": 0,
             "ticks": ""
            },
            "type": "mesh3d"
           }
          ],
          "parcoords": [
           {
            "line": {
             "colorbar": {
              "outlinewidth": 0,
              "ticks": ""
             }
            },
            "type": "parcoords"
           }
          ],
          "pie": [
           {
            "automargin": true,
            "type": "pie"
           }
          ],
          "scatter": [
           {
            "fillpattern": {
             "fillmode": "overlay",
             "size": 10,
             "solidity": 0.2
            },
            "type": "scatter"
           }
          ],
          "scatter3d": [
           {
            "line": {
             "colorbar": {
              "outlinewidth": 0,
              "ticks": ""
             }
            },
            "marker": {
             "colorbar": {
              "outlinewidth": 0,
              "ticks": ""
             }
            },
            "type": "scatter3d"
           }
          ],
          "scattercarpet": [
           {
            "marker": {
             "colorbar": {
              "outlinewidth": 0,
              "ticks": ""
             }
            },
            "type": "scattercarpet"
           }
          ],
          "scattergeo": [
           {
            "marker": {
             "colorbar": {
              "outlinewidth": 0,
              "ticks": ""
             }
            },
            "type": "scattergeo"
           }
          ],
          "scattergl": [
           {
            "marker": {
             "colorbar": {
              "outlinewidth": 0,
              "ticks": ""
             }
            },
            "type": "scattergl"
           }
          ],
          "scattermap": [
           {
            "marker": {
             "colorbar": {
              "outlinewidth": 0,
              "ticks": ""
             }
            },
            "type": "scattermap"
           }
          ],
          "scattermapbox": [
           {
            "marker": {
             "colorbar": {
              "outlinewidth": 0,
              "ticks": ""
             }
            },
            "type": "scattermapbox"
           }
          ],
          "scatterpolar": [
           {
            "marker": {
             "colorbar": {
              "outlinewidth": 0,
              "ticks": ""
             }
            },
            "type": "scatterpolar"
           }
          ],
          "scatterpolargl": [
           {
            "marker": {
             "colorbar": {
              "outlinewidth": 0,
              "ticks": ""
             }
            },
            "type": "scatterpolargl"
           }
          ],
          "scatterternary": [
           {
            "marker": {
             "colorbar": {
              "outlinewidth": 0,
              "ticks": ""
             }
            },
            "type": "scatterternary"
           }
          ],
          "surface": [
           {
            "colorbar": {
             "outlinewidth": 0,
             "ticks": ""
            },
            "colorscale": [
             [
              0,
              "#0d0887"
             ],
             [
              0.1111111111111111,
              "#46039f"
             ],
             [
              0.2222222222222222,
              "#7201a8"
             ],
             [
              0.3333333333333333,
              "#9c179e"
             ],
             [
              0.4444444444444444,
              "#bd3786"
             ],
             [
              0.5555555555555556,
              "#d8576b"
             ],
             [
              0.6666666666666666,
              "#ed7953"
             ],
             [
              0.7777777777777778,
              "#fb9f3a"
             ],
             [
              0.8888888888888888,
              "#fdca26"
             ],
             [
              1,
              "#f0f921"
             ]
            ],
            "type": "surface"
           }
          ],
          "table": [
           {
            "cells": {
             "fill": {
              "color": "#EBF0F8"
             },
             "line": {
              "color": "white"
             }
            },
            "header": {
             "fill": {
              "color": "#C8D4E3"
             },
             "line": {
              "color": "white"
             }
            },
            "type": "table"
           }
          ]
         },
         "layout": {
          "annotationdefaults": {
           "arrowcolor": "#2a3f5f",
           "arrowhead": 0,
           "arrowwidth": 1
          },
          "autotypenumbers": "strict",
          "coloraxis": {
           "colorbar": {
            "outlinewidth": 0,
            "ticks": ""
           }
          },
          "colorscale": {
           "diverging": [
            [
             0,
             "#8e0152"
            ],
            [
             0.1,
             "#c51b7d"
            ],
            [
             0.2,
             "#de77ae"
            ],
            [
             0.3,
             "#f1b6da"
            ],
            [
             0.4,
             "#fde0ef"
            ],
            [
             0.5,
             "#f7f7f7"
            ],
            [
             0.6,
             "#e6f5d0"
            ],
            [
             0.7,
             "#b8e186"
            ],
            [
             0.8,
             "#7fbc41"
            ],
            [
             0.9,
             "#4d9221"
            ],
            [
             1,
             "#276419"
            ]
           ],
           "sequential": [
            [
             0,
             "#0d0887"
            ],
            [
             0.1111111111111111,
             "#46039f"
            ],
            [
             0.2222222222222222,
             "#7201a8"
            ],
            [
             0.3333333333333333,
             "#9c179e"
            ],
            [
             0.4444444444444444,
             "#bd3786"
            ],
            [
             0.5555555555555556,
             "#d8576b"
            ],
            [
             0.6666666666666666,
             "#ed7953"
            ],
            [
             0.7777777777777778,
             "#fb9f3a"
            ],
            [
             0.8888888888888888,
             "#fdca26"
            ],
            [
             1,
             "#f0f921"
            ]
           ],
           "sequentialminus": [
            [
             0,
             "#0d0887"
            ],
            [
             0.1111111111111111,
             "#46039f"
            ],
            [
             0.2222222222222222,
             "#7201a8"
            ],
            [
             0.3333333333333333,
             "#9c179e"
            ],
            [
             0.4444444444444444,
             "#bd3786"
            ],
            [
             0.5555555555555556,
             "#d8576b"
            ],
            [
             0.6666666666666666,
             "#ed7953"
            ],
            [
             0.7777777777777778,
             "#fb9f3a"
            ],
            [
             0.8888888888888888,
             "#fdca26"
            ],
            [
             1,
             "#f0f921"
            ]
           ]
          },
          "colorway": [
           "#636efa",
           "#EF553B",
           "#00cc96",
           "#ab63fa",
           "#FFA15A",
           "#19d3f3",
           "#FF6692",
           "#B6E880",
           "#FF97FF",
           "#FECB52"
          ],
          "font": {
           "color": "#2a3f5f"
          },
          "geo": {
           "bgcolor": "white",
           "lakecolor": "white",
           "landcolor": "#E5ECF6",
           "showlakes": true,
           "showland": true,
           "subunitcolor": "white"
          },
          "hoverlabel": {
           "align": "left"
          },
          "hovermode": "closest",
          "mapbox": {
           "style": "light"
          },
          "paper_bgcolor": "white",
          "plot_bgcolor": "#E5ECF6",
          "polar": {
           "angularaxis": {
            "gridcolor": "white",
            "linecolor": "white",
            "ticks": ""
           },
           "bgcolor": "#E5ECF6",
           "radialaxis": {
            "gridcolor": "white",
            "linecolor": "white",
            "ticks": ""
           }
          },
          "scene": {
           "xaxis": {
            "backgroundcolor": "#E5ECF6",
            "gridcolor": "white",
            "gridwidth": 2,
            "linecolor": "white",
            "showbackground": true,
            "ticks": "",
            "zerolinecolor": "white"
           },
           "yaxis": {
            "backgroundcolor": "#E5ECF6",
            "gridcolor": "white",
            "gridwidth": 2,
            "linecolor": "white",
            "showbackground": true,
            "ticks": "",
            "zerolinecolor": "white"
           },
           "zaxis": {
            "backgroundcolor": "#E5ECF6",
            "gridcolor": "white",
            "gridwidth": 2,
            "linecolor": "white",
            "showbackground": true,
            "ticks": "",
            "zerolinecolor": "white"
           }
          },
          "shapedefaults": {
           "line": {
            "color": "#2a3f5f"
           }
          },
          "ternary": {
           "aaxis": {
            "gridcolor": "white",
            "linecolor": "white",
            "ticks": ""
           },
           "baxis": {
            "gridcolor": "white",
            "linecolor": "white",
            "ticks": ""
           },
           "bgcolor": "#E5ECF6",
           "caxis": {
            "gridcolor": "white",
            "linecolor": "white",
            "ticks": ""
           }
          },
          "title": {
           "x": 0.05
          },
          "xaxis": {
           "automargin": true,
           "gridcolor": "white",
           "linecolor": "white",
           "ticks": "",
           "title": {
            "standoff": 15
           },
           "zerolinecolor": "white",
           "zerolinewidth": 2
          },
          "yaxis": {
           "automargin": true,
           "gridcolor": "white",
           "linecolor": "white",
           "ticks": "",
           "title": {
            "standoff": 15
           },
           "zerolinecolor": "white",
           "zerolinewidth": 2
          }
         }
        },
        "xaxis": {
         "anchor": "y",
         "domain": [
          0,
          1
         ],
         "title": {
          "text": "Sales"
         }
        },
        "yaxis": {
         "anchor": "x",
         "domain": [
          0,
          1
         ]
        }
       }
      },
      "image/png": "[encoded data removed]"
     },
     "metadata": {},
     "output_type": "display_data"
    }
   ],
   "source": [
    "# let's see if there are outliers \n",
    "# i'm sure there are but let's see \n",
    "px.box(df,x = 'Sales')"
   ]
  },
  {
   "cell_type": "code",
   "execution_count": 45,
   "id": "1cfe7a40-c30e-4c1a-98cf-e7a7b27f0912",
   "metadata": {},
   "outputs": [
    {
     "data": {
      "text/html": [
       "<div>\n",
       "<style scoped>\n",
       "    .dataframe tbody tr th:only-of-type {\n",
       "        vertical-align: middle;\n",
       "    }\n",
       "\n",
       "    .dataframe tbody tr th {\n",
       "        vertical-align: top;\n",
       "    }\n",
       "\n",
       "    .dataframe thead th {\n",
       "        text-align: right;\n",
       "    }\n",
       "</style>\n",
       "<table border=\"1\" class=\"dataframe\">\n",
       "  <thead>\n",
       "    <tr style=\"text-align: right;\">\n",
       "      <th></th>\n",
       "      <th>count</th>\n",
       "      <th>mean</th>\n",
       "      <th>std</th>\n",
       "      <th>min</th>\n",
       "      <th>25%</th>\n",
       "      <th>50%</th>\n",
       "      <th>75%</th>\n",
       "      <th>max</th>\n",
       "    </tr>\n",
       "  </thead>\n",
       "  <tbody>\n",
       "    <tr>\n",
       "      <th>Sales</th>\n",
       "      <td>1141.0</td>\n",
       "      <td>1267.969827</td>\n",
       "      <td>1427.279455</td>\n",
       "      <td>500.24</td>\n",
       "      <td>636.408</td>\n",
       "      <td>868.59</td>\n",
       "      <td>1347.52</td>\n",
       "      <td>22638.48</td>\n",
       "    </tr>\n",
       "  </tbody>\n",
       "</table>\n",
       "</div>"
      ],
      "text/plain": [
       "        count         mean          std     min      25%     50%      75%  \\\n",
       "Sales  1141.0  1267.969827  1427.279455  500.24  636.408  868.59  1347.52   \n",
       "\n",
       "            max  \n",
       "Sales  22638.48  "
      ]
     },
     "execution_count": 45,
     "metadata": {},
     "output_type": "execute_result"
    }
   ],
   "source": [
    "# there are alot of outliers\n",
    "# let's detect in dataset \n",
    "outliers = detect_outliers(df,0,['Sales'])\n",
    "\n",
    "# let's see descriptive stat for it \n",
    "df.iloc[outliers][['Sales']].describe().T"
   ]
  },
  {
   "cell_type": "code",
   "execution_count": 48,
   "id": "0a7524eb-21f1-436c-bd6e-98ba8b1d9b70",
   "metadata": {},
   "outputs": [
    {
     "data": {
      "application/vnd.plotly.v1+json": {
       "config": {
        "plotlyServerURL": "https://plot.ly"
       },
       "data": [
        {
         "hovertemplate": "index=%{x}<br>Sales=%{y}<extra></extra>",
         "legendgroup": "",
         "marker": {
          "color": "#636efa",
          "symbol": "circle"
         },
         "mode": "markers",
         "name": "",
         "showlegend": false,
         "type": "scattergl",
         "x": {
          "bdata": "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",
          "dtype": "i2"
         },
         "xaxis": "x",
         "y": {
          "bdata": "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",
          "dtype": "f8"
         },
         "yaxis": "y"
        }
       ],
       "layout": {
        "legend": {
         "tracegroupgap": 0
        },
        "margin": {
         "t": 60
        },
        "template": {
         "data": {
          "bar": [
           {
            "error_x": {
             "color": "#2a3f5f"
            },
            "error_y": {
             "color": "#2a3f5f"
            },
            "marker": {
             "line": {
              "color": "#E5ECF6",
              "width": 0.5
             },
             "pattern": {
              "fillmode": "overlay",
              "size": 10,
              "solidity": 0.2
             }
            },
            "type": "bar"
           }
          ],
          "barpolar": [
           {
            "marker": {
             "line": {
              "color": "#E5ECF6",
              "width": 0.5
             },
             "pattern": {
              "fillmode": "overlay",
              "size": 10,
              "solidity": 0.2
             }
            },
            "type": "barpolar"
           }
          ],
          "carpet": [
           {
            "aaxis": {
             "endlinecolor": "#2a3f5f",
             "gridcolor": "white",
             "linecolor": "white",
             "minorgridcolor": "white",
             "startlinecolor": "#2a3f5f"
            },
            "baxis": {
             "endlinecolor": "#2a3f5f",
             "gridcolor": "white",
             "linecolor": "white",
             "minorgridcolor": "white",
             "startlinecolor": "#2a3f5f"
            },
            "type": "carpet"
           }
          ],
          "choropleth": [
           {
            "colorbar": {
             "outlinewidth": 0,
             "ticks": ""
            },
            "type": "choropleth"
           }
          ],
          "contour": [
           {
            "colorbar": {
             "outlinewidth": 0,
             "ticks": ""
            },
            "colorscale": [
             [
              0,
              "#0d0887"
             ],
             [
              0.1111111111111111,
              "#46039f"
             ],
             [
              0.2222222222222222,
              "#7201a8"
             ],
             [
              0.3333333333333333,
              "#9c179e"
             ],
             [
              0.4444444444444444,
              "#bd3786"
             ],
             [
              0.5555555555555556,
              "#d8576b"
             ],
             [
              0.6666666666666666,
              "#ed7953"
             ],
             [
              0.7777777777777778,
              "#fb9f3a"
             ],
             [
              0.8888888888888888,
              "#fdca26"
             ],
             [
              1,
              "#f0f921"
             ]
            ],
            "type": "contour"
           }
          ],
          "contourcarpet": [
           {
            "colorbar": {
             "outlinewidth": 0,
             "ticks": ""
            },
            "type": "contourcarpet"
           }
          ],
          "heatmap": [
           {
            "colorbar": {
             "outlinewidth": 0,
             "ticks": ""
            },
            "colorscale": [
             [
              0,
              "#0d0887"
             ],
             [
              0.1111111111111111,
              "#46039f"
             ],
             [
              0.2222222222222222,
              "#7201a8"
             ],
             [
              0.3333333333333333,
              "#9c179e"
             ],
             [
              0.4444444444444444,
              "#bd3786"
             ],
             [
              0.5555555555555556,
              "#d8576b"
             ],
             [
              0.6666666666666666,
              "#ed7953"
             ],
             [
              0.7777777777777778,
              "#fb9f3a"
             ],
             [
              0.8888888888888888,
              "#fdca26"
             ],
             [
              1,
              "#f0f921"
             ]
            ],
            "type": "heatmap"
           }
          ],
          "histogram": [
           {
            "marker": {
             "pattern": {
              "fillmode": "overlay",
              "size": 10,
              "solidity": 0.2
             }
            },
            "type": "histogram"
           }
          ],
          "histogram2d": [
           {
            "colorbar": {
             "outlinewidth": 0,
             "ticks": ""
            },
            "colorscale": [
             [
              0,
              "#0d0887"
             ],
             [
              0.1111111111111111,
              "#46039f"
             ],
             [
              0.2222222222222222,
              "#7201a8"
             ],
             [
              0.3333333333333333,
              "#9c179e"
             ],
             [
              0.4444444444444444,
              "#bd3786"
             ],
             [
              0.5555555555555556,
              "#d8576b"
             ],
             [
              0.6666666666666666,
              "#ed7953"
             ],
             [
              0.7777777777777778,
              "#fb9f3a"
             ],
             [
              0.8888888888888888,
              "#fdca26"
             ],
             [
              1,
              "#f0f921"
             ]
            ],
            "type": "histogram2d"
           }
          ],
          "histogram2dcontour": [
           {
            "colorbar": {
             "outlinewidth": 0,
             "ticks": ""
            },
            "colorscale": [
             [
              0,
              "#0d0887"
             ],
             [
              0.1111111111111111,
              "#46039f"
             ],
             [
              0.2222222222222222,
              "#7201a8"
             ],
             [
              0.3333333333333333,
              "#9c179e"
             ],
             [
              0.4444444444444444,
              "#bd3786"
             ],
             [
              0.5555555555555556,
              "#d8576b"
             ],
             [
              0.6666666666666666,
              "#ed7953"
             ],
             [
              0.7777777777777778,
              "#fb9f3a"
             ],
             [
              0.8888888888888888,
              "#fdca26"
             ],
             [
              1,
              "#f0f921"
             ]
            ],
            "type": "histogram2dcontour"
           }
          ],
          "mesh3d": [
           {
            "colorbar": {
             "outlinewidth": 0,
             "ticks": ""
            },
            "type": "mesh3d"
           }
          ],
          "parcoords": [
           {
            "line": {
             "colorbar": {
              "outlinewidth": 0,
              "ticks": ""
             }
            },
            "type": "parcoords"
           }
          ],
          "pie": [
           {
            "automargin": true,
            "type": "pie"
           }
          ],
          "scatter": [
           {
            "fillpattern": {
             "fillmode": "overlay",
             "size": 10,
             "solidity": 0.2
            },
            "type": "scatter"
           }
          ],
          "scatter3d": [
           {
            "line": {
             "colorbar": {
              "outlinewidth": 0,
              "ticks": ""
             }
            },
            "marker": {
             "colorbar": {
              "outlinewidth": 0,
              "ticks": ""
             }
            },
            "type": "scatter3d"
           }
          ],
          "scattercarpet": [
           {
            "marker": {
             "colorbar": {
              "outlinewidth": 0,
              "ticks": ""
             }
            },
            "type": "scattercarpet"
           }
          ],
          "scattergeo": [
           {
            "marker": {
             "colorbar": {
              "outlinewidth": 0,
              "ticks": ""
             }
            },
            "type": "scattergeo"
           }
          ],
          "scattergl": [
           {
            "marker": {
             "colorbar": {
              "outlinewidth": 0,
              "ticks": ""
             }
            },
            "type": "scattergl"
           }
          ],
          "scattermap": [
           {
            "marker": {
             "colorbar": {
              "outlinewidth": 0,
              "ticks": ""
             }
            },
            "type": "scattermap"
           }
          ],
          "scattermapbox": [
           {
            "marker": {
             "colorbar": {
              "outlinewidth": 0,
              "ticks": ""
             }
            },
            "type": "scattermapbox"
           }
          ],
          "scatterpolar": [
           {
            "marker": {
             "colorbar": {
              "outlinewidth": 0,
              "ticks": ""
             }
            },
            "type": "scatterpolar"
           }
          ],
          "scatterpolargl": [
           {
            "marker": {
             "colorbar": {
              "outlinewidth": 0,
              "ticks": ""
             }
            },
            "type": "scatterpolargl"
           }
          ],
          "scatterternary": [
           {
            "marker": {
             "colorbar": {
              "outlinewidth": 0,
              "ticks": ""
             }
            },
            "type": "scatterternary"
           }
          ],
          "surface": [
           {
            "colorbar": {
             "outlinewidth": 0,
             "ticks": ""
            },
            "colorscale": [
             [
              0,
              "#0d0887"
             ],
             [
              0.1111111111111111,
              "#46039f"
             ],
             [
              0.2222222222222222,
              "#7201a8"
             ],
             [
              0.3333333333333333,
              "#9c179e"
             ],
             [
              0.4444444444444444,
              "#bd3786"
             ],
             [
              0.5555555555555556,
              "#d8576b"
             ],
             [
              0.6666666666666666,
              "#ed7953"
             ],
             [
              0.7777777777777778,
              "#fb9f3a"
             ],
             [
              0.8888888888888888,
              "#fdca26"
             ],
             [
              1,
              "#f0f921"
             ]
            ],
            "type": "surface"
           }
          ],
          "table": [
           {
            "cells": {
             "fill": {
              "color": "#EBF0F8"
             },
             "line": {
              "color": "white"
             }
            },
            "header": {
             "fill": {
              "color": "#C8D4E3"
             },
             "line": {
              "color": "white"
             }
            },
            "type": "table"
           }
          ]
         },
         "layout": {
          "annotationdefaults": {
           "arrowcolor": "#2a3f5f",
           "arrowhead": 0,
           "arrowwidth": 1
          },
          "autotypenumbers": "strict",
          "coloraxis": {
           "colorbar": {
            "outlinewidth": 0,
            "ticks": ""
           }
          },
          "colorscale": {
           "diverging": [
            [
             0,
             "#8e0152"
            ],
            [
             0.1,
             "#c51b7d"
            ],
            [
             0.2,
             "#de77ae"
            ],
            [
             0.3,
             "#f1b6da"
            ],
            [
             0.4,
             "#fde0ef"
            ],
            [
             0.5,
             "#f7f7f7"
            ],
            [
             0.6,
             "#e6f5d0"
            ],
            [
             0.7,
             "#b8e186"
            ],
            [
             0.8,
             "#7fbc41"
            ],
            [
             0.9,
             "#4d9221"
            ],
            [
             1,
             "#276419"
            ]
           ],
           "sequential": [
            [
             0,
             "#0d0887"
            ],
            [
             0.1111111111111111,
             "#46039f"
            ],
            [
             0.2222222222222222,
             "#7201a8"
            ],
            [
             0.3333333333333333,
             "#9c179e"
            ],
            [
             0.4444444444444444,
             "#bd3786"
            ],
            [
             0.5555555555555556,
             "#d8576b"
            ],
            [
             0.6666666666666666,
             "#ed7953"
            ],
            [
             0.7777777777777778,
             "#fb9f3a"
            ],
            [
             0.8888888888888888,
             "#fdca26"
            ],
            [
             1,
             "#f0f921"
            ]
           ],
           "sequentialminus": [
            [
             0,
             "#0d0887"
            ],
            [
             0.1111111111111111,
             "#46039f"
            ],
            [
             0.2222222222222222,
             "#7201a8"
            ],
            [
             0.3333333333333333,
             "#9c179e"
            ],
            [
             0.4444444444444444,
             "#bd3786"
            ],
            [
             0.5555555555555556,
             "#d8576b"
            ],
            [
             0.6666666666666666,
             "#ed7953"
            ],
            [
             0.7777777777777778,
             "#fb9f3a"
            ],
            [
             0.8888888888888888,
             "#fdca26"
            ],
            [
             1,
             "#f0f921"
            ]
           ]
          },
          "colorway": [
           "#636efa",
           "#EF553B",
           "#00cc96",
           "#ab63fa",
           "#FFA15A",
           "#19d3f3",
           "#FF6692",
           "#B6E880",
           "#FF97FF",
           "#FECB52"
          ],
          "font": {
           "color": "#2a3f5f"
          },
          "geo": {
           "bgcolor": "white",
           "lakecolor": "white",
           "landcolor": "#E5ECF6",
           "showlakes": true,
           "showland": true,
           "subunitcolor": "white"
          },
          "hoverlabel": {
           "align": "left"
          },
          "hovermode": "closest",
          "mapbox": {
           "style": "light"
          },
          "paper_bgcolor": "white",
          "plot_bgcolor": "#E5ECF6",
          "polar": {
           "angularaxis": {
            "gridcolor": "white",
            "linecolor": "white",
            "ticks": ""
           },
           "bgcolor": "#E5ECF6",
           "radialaxis": {
            "gridcolor": "white",
            "linecolor": "white",
            "ticks": ""
           }
          },
          "scene": {
           "xaxis": {
            "backgroundcolor": "#E5ECF6",
            "gridcolor": "white",
            "gridwidth": 2,
            "linecolor": "white",
            "showbackground": true,
            "ticks": "",
            "zerolinecolor": "white"
           },
           "yaxis": {
            "backgroundcolor": "#E5ECF6",
            "gridcolor": "white",
            "gridwidth": 2,
            "linecolor": "white",
            "showbackground": true,
            "ticks": "",
            "zerolinecolor": "white"
           },
           "zaxis": {
            "backgroundcolor": "#E5ECF6",
            "gridcolor": "white",
            "gridwidth": 2,
            "linecolor": "white",
            "showbackground": true,
            "ticks": "",
            "zerolinecolor": "white"
           }
          },
          "shapedefaults": {
           "line": {
            "color": "#2a3f5f"
           }
          },
          "ternary": {
           "aaxis": {
            "gridcolor": "white",
            "linecolor": "white",
            "ticks": ""
           },
           "baxis": {
            "gridcolor": "white",
            "linecolor": "white",
            "ticks": ""
           },
           "bgcolor": "#E5ECF6",
           "caxis": {
            "gridcolor": "white",
            "linecolor": "white",
            "ticks": ""
           }
          },
          "title": {
           "x": 0.05
          },
          "xaxis": {
           "automargin": true,
           "gridcolor": "white",
           "linecolor": "white",
           "ticks": "",
           "title": {
            "standoff": 15
           },
           "zerolinecolor": "white",
           "zerolinewidth": 2
          },
          "yaxis": {
           "automargin": true,
           "gridcolor": "white",
           "linecolor": "white",
           "ticks": "",
           "title": {
            "standoff": 15
           },
           "zerolinecolor": "white",
           "zerolinewidth": 2
          }
         }
        },
        "xaxis": {
         "anchor": "y",
         "domain": [
          0,
          1
         ],
         "title": {
          "text": "index"
         }
        },
        "yaxis": {
         "anchor": "x",
         "domain": [
          0,
          1
         ],
         "title": {
          "text": "Sales"
         }
        }
       }
      },
      "image/png": "[encoded data removed]"
     },
     "metadata": {},
     "output_type": "display_data"
    }
   ],
   "source": [
    "# lst's do scatter plot for it to more visualize \n",
    "fig = px.scatter(df.iloc[outliers] , y = 'Sales')\n",
    "fig.show()"
   ]
  },
  {
   "cell_type": "code",
   "execution_count": 50,
   "id": "aff17f45-b841-4c21-a91c-0a8afcd863a7",
   "metadata": {},
   "outputs": [],
   "source": [
    "# The sales data shows a very wide range, with a maximum value (22,638.48) far higher than the 75th percentile (1,347.52),\n",
    "# which indicates the presence of significant outliers.\n",
    "# The large standard deviation (1,427.27) compared to the mean (1,267.97) also suggests high variability in sales values.\n",
    "# Most of the sales are concentrated below \\~1,500, but a few extreme values are pulling the maximum up drastically.\n",
    "# These outliers could represent unusually large orders or potential data entry errors and should be further investigated."
   ]
  },
  {
   "cell_type": "markdown",
   "id": "710c4bdc-0814-41eb-a296-8b363bb6c6f3",
   "metadata": {},
   "source": [
    "#### ✅ Investigate Outliers"
   ]
  },
  {
   "cell_type": "code",
   "execution_count": 52,
   "id": "eab15b20-22bb-4871-99d2-4cab0152085e",
   "metadata": {},
   "outputs": [
    {
     "data": {
      "text/html": [
       "<div>\n",
       "<style scoped>\n",
       "    .dataframe tbody tr th:only-of-type {\n",
       "        vertical-align: middle;\n",
       "    }\n",
       "\n",
       "    .dataframe tbody tr th {\n",
       "        vertical-align: top;\n",
       "    }\n",
       "\n",
       "    .dataframe thead th {\n",
       "        text-align: right;\n",
       "    }\n",
       "</style>\n",
       "<table border=\"1\" class=\"dataframe\">\n",
       "  <thead>\n",
       "    <tr style=\"text-align: right;\">\n",
       "      <th></th>\n",
       "      <th>Row ID</th>\n",
       "      <th>Order ID</th>\n",
       "      <th>Order Date</th>\n",
       "      <th>Ship Date</th>\n",
       "      <th>Ship Mode</th>\n",
       "      <th>Customer ID</th>\n",
       "      <th>Customer Name</th>\n",
       "      <th>Segment</th>\n",
       "      <th>Country</th>\n",
       "      <th>City</th>\n",
       "      <th>State</th>\n",
       "      <th>Postal Code</th>\n",
       "      <th>Region</th>\n",
       "      <th>Product ID</th>\n",
       "      <th>Category</th>\n",
       "      <th>Sub-Category</th>\n",
       "      <th>Product Name</th>\n",
       "      <th>Sales</th>\n",
       "      <th>Order-year</th>\n",
       "      <th>Order-Month</th>\n",
       "      <th>Ship-Year</th>\n",
       "      <th>Ship-Month</th>\n",
       "    </tr>\n",
       "  </thead>\n",
       "  <tbody>\n",
       "    <tr>\n",
       "      <th>0</th>\n",
       "      <td>1</td>\n",
       "      <td>CA-2017-152156</td>\n",
       "      <td>2017-11-08</td>\n",
       "      <td>2017-11-11</td>\n",
       "      <td>Second Class</td>\n",
       "      <td>CG-12520</td>\n",
       "      <td>Claire Gute</td>\n",
       "      <td>Consumer</td>\n",
       "      <td>United States</td>\n",
       "      <td>Henderson</td>\n",
       "      <td>Kentucky</td>\n",
       "      <td>42420.0</td>\n",
       "      <td>South</td>\n",
       "      <td>FUR-BO-10001798</td>\n",
       "      <td>Furniture</td>\n",
       "      <td>Bookcases</td>\n",
       "      <td>Bush Somerset Collection Bookcase</td>\n",
       "      <td>261.9600</td>\n",
       "      <td>2017</td>\n",
       "      <td>11</td>\n",
       "      <td>2017</td>\n",
       "      <td>11</td>\n",
       "    </tr>\n",
       "    <tr>\n",
       "      <th>1</th>\n",
       "      <td>2</td>\n",
       "      <td>CA-2017-152156</td>\n",
       "      <td>2017-11-08</td>\n",
       "      <td>2017-11-11</td>\n",
       "      <td>Second Class</td>\n",
       "      <td>CG-12520</td>\n",
       "      <td>Claire Gute</td>\n",
       "      <td>Consumer</td>\n",
       "      <td>United States</td>\n",
       "      <td>Henderson</td>\n",
       "      <td>Kentucky</td>\n",
       "      <td>42420.0</td>\n",
       "      <td>South</td>\n",
       "      <td>FUR-CH-10000454</td>\n",
       "      <td>Furniture</td>\n",
       "      <td>Chairs</td>\n",
       "      <td>Hon Deluxe Fabric Upholstered Stacking Chairs,...</td>\n",
       "      <td>731.9400</td>\n",
       "      <td>2017</td>\n",
       "      <td>11</td>\n",
       "      <td>2017</td>\n",
       "      <td>11</td>\n",
       "    </tr>\n",
       "    <tr>\n",
       "      <th>2</th>\n",
       "      <td>3</td>\n",
       "      <td>CA-2017-138688</td>\n",
       "      <td>2017-06-12</td>\n",
       "      <td>2017-06-16</td>\n",
       "      <td>Second Class</td>\n",
       "      <td>DV-13045</td>\n",
       "      <td>Darrin Van Huff</td>\n",
       "      <td>Corporate</td>\n",
       "      <td>United States</td>\n",
       "      <td>Los Angeles</td>\n",
       "      <td>California</td>\n",
       "      <td>90036.0</td>\n",
       "      <td>West</td>\n",
       "      <td>OFF-LA-10000240</td>\n",
       "      <td>Office Supplies</td>\n",
       "      <td>Labels</td>\n",
       "      <td>Self-Adhesive Address Labels for Typewriters b...</td>\n",
       "      <td>14.6200</td>\n",
       "      <td>2017</td>\n",
       "      <td>6</td>\n",
       "      <td>2017</td>\n",
       "      <td>6</td>\n",
       "    </tr>\n",
       "    <tr>\n",
       "      <th>3</th>\n",
       "      <td>4</td>\n",
       "      <td>US-2016-108966</td>\n",
       "      <td>2016-10-11</td>\n",
       "      <td>2016-10-18</td>\n",
       "      <td>Standard Class</td>\n",
       "      <td>SO-20335</td>\n",
       "      <td>Sean O'Donnell</td>\n",
       "      <td>Consumer</td>\n",
       "      <td>United States</td>\n",
       "      <td>Fort Lauderdale</td>\n",
       "      <td>Florida</td>\n",
       "      <td>33311.0</td>\n",
       "      <td>South</td>\n",
       "      <td>FUR-TA-10000577</td>\n",
       "      <td>Furniture</td>\n",
       "      <td>Tables</td>\n",
       "      <td>Bretford CR4500 Series Slim Rectangular Table</td>\n",
       "      <td>957.5775</td>\n",
       "      <td>2016</td>\n",
       "      <td>10</td>\n",
       "      <td>2016</td>\n",
       "      <td>10</td>\n",
       "    </tr>\n",
       "    <tr>\n",
       "      <th>4</th>\n",
       "      <td>5</td>\n",
       "      <td>US-2016-108966</td>\n",
       "      <td>2016-10-11</td>\n",
       "      <td>2016-10-18</td>\n",
       "      <td>Standard Class</td>\n",
       "      <td>SO-20335</td>\n",
       "      <td>Sean O'Donnell</td>\n",
       "      <td>Consumer</td>\n",
       "      <td>United States</td>\n",
       "      <td>Fort Lauderdale</td>\n",
       "      <td>Florida</td>\n",
       "      <td>33311.0</td>\n",
       "      <td>South</td>\n",
       "      <td>OFF-ST-10000760</td>\n",
       "      <td>Office Supplies</td>\n",
       "      <td>Storage</td>\n",
       "      <td>Eldon Fold 'N Roll Cart System</td>\n",
       "      <td>22.3680</td>\n",
       "      <td>2016</td>\n",
       "      <td>10</td>\n",
       "      <td>2016</td>\n",
       "      <td>10</td>\n",
       "    </tr>\n",
       "    <tr>\n",
       "      <th>...</th>\n",
       "      <td>...</td>\n",
       "      <td>...</td>\n",
       "      <td>...</td>\n",
       "      <td>...</td>\n",
       "      <td>...</td>\n",
       "      <td>...</td>\n",
       "      <td>...</td>\n",
       "      <td>...</td>\n",
       "      <td>...</td>\n",
       "      <td>...</td>\n",
       "      <td>...</td>\n",
       "      <td>...</td>\n",
       "      <td>...</td>\n",
       "      <td>...</td>\n",
       "      <td>...</td>\n",
       "      <td>...</td>\n",
       "      <td>...</td>\n",
       "      <td>...</td>\n",
       "      <td>...</td>\n",
       "      <td>...</td>\n",
       "      <td>...</td>\n",
       "      <td>...</td>\n",
       "    </tr>\n",
       "    <tr>\n",
       "      <th>9784</th>\n",
       "      <td>9796</td>\n",
       "      <td>CA-2017-125920</td>\n",
       "      <td>2017-05-21</td>\n",
       "      <td>2017-05-28</td>\n",
       "      <td>Standard Class</td>\n",
       "      <td>SH-19975</td>\n",
       "      <td>Sally Hughsby</td>\n",
       "      <td>Corporate</td>\n",
       "      <td>United States</td>\n",
       "      <td>Chicago</td>\n",
       "      <td>Illinois</td>\n",
       "      <td>60610.0</td>\n",
       "      <td>Central</td>\n",
       "      <td>OFF-BI-10003429</td>\n",
       "      <td>Office Supplies</td>\n",
       "      <td>Binders</td>\n",
       "      <td>Cardinal HOLDit! Binder Insert Strips,Extra St...</td>\n",
       "      <td>3.7980</td>\n",
       "      <td>2017</td>\n",
       "      <td>5</td>\n",
       "      <td>2017</td>\n",
       "      <td>5</td>\n",
       "    </tr>\n",
       "    <tr>\n",
       "      <th>9785</th>\n",
       "      <td>9797</td>\n",
       "      <td>CA-2016-128608</td>\n",
       "      <td>2016-01-12</td>\n",
       "      <td>2016-01-17</td>\n",
       "      <td>Standard Class</td>\n",
       "      <td>CS-12490</td>\n",
       "      <td>Cindy Schnelling</td>\n",
       "      <td>Corporate</td>\n",
       "      <td>United States</td>\n",
       "      <td>Toledo</td>\n",
       "      <td>Ohio</td>\n",
       "      <td>43615.0</td>\n",
       "      <td>East</td>\n",
       "      <td>OFF-AR-10001374</td>\n",
       "      <td>Office Supplies</td>\n",
       "      <td>Art</td>\n",
       "      <td>BIC Brite Liner Highlighters, Chisel Tip</td>\n",
       "      <td>10.3680</td>\n",
       "      <td>2016</td>\n",
       "      <td>1</td>\n",
       "      <td>2016</td>\n",
       "      <td>1</td>\n",
       "    </tr>\n",
       "    <tr>\n",
       "      <th>9786</th>\n",
       "      <td>9798</td>\n",
       "      <td>CA-2016-128608</td>\n",
       "      <td>2016-01-12</td>\n",
       "      <td>2016-01-17</td>\n",
       "      <td>Standard Class</td>\n",
       "      <td>CS-12490</td>\n",
       "      <td>Cindy Schnelling</td>\n",
       "      <td>Corporate</td>\n",
       "      <td>United States</td>\n",
       "      <td>Toledo</td>\n",
       "      <td>Ohio</td>\n",
       "      <td>43615.0</td>\n",
       "      <td>East</td>\n",
       "      <td>TEC-PH-10004977</td>\n",
       "      <td>Technology</td>\n",
       "      <td>Phones</td>\n",
       "      <td>GE 30524EE4</td>\n",
       "      <td>235.1880</td>\n",
       "      <td>2016</td>\n",
       "      <td>1</td>\n",
       "      <td>2016</td>\n",
       "      <td>1</td>\n",
       "    </tr>\n",
       "    <tr>\n",
       "      <th>9787</th>\n",
       "      <td>9799</td>\n",
       "      <td>CA-2016-128608</td>\n",
       "      <td>2016-01-12</td>\n",
       "      <td>2016-01-17</td>\n",
       "      <td>Standard Class</td>\n",
       "      <td>CS-12490</td>\n",
       "      <td>Cindy Schnelling</td>\n",
       "      <td>Corporate</td>\n",
       "      <td>United States</td>\n",
       "      <td>Toledo</td>\n",
       "      <td>Ohio</td>\n",
       "      <td>43615.0</td>\n",
       "      <td>East</td>\n",
       "      <td>TEC-PH-10000912</td>\n",
       "      <td>Technology</td>\n",
       "      <td>Phones</td>\n",
       "      <td>Anker 24W Portable Micro USB Car Charger</td>\n",
       "      <td>26.3760</td>\n",
       "      <td>2016</td>\n",
       "      <td>1</td>\n",
       "      <td>2016</td>\n",
       "      <td>1</td>\n",
       "    </tr>\n",
       "    <tr>\n",
       "      <th>9788</th>\n",
       "      <td>9800</td>\n",
       "      <td>CA-2016-128608</td>\n",
       "      <td>2016-01-12</td>\n",
       "      <td>2016-01-17</td>\n",
       "      <td>Standard Class</td>\n",
       "      <td>CS-12490</td>\n",
       "      <td>Cindy Schnelling</td>\n",
       "      <td>Corporate</td>\n",
       "      <td>United States</td>\n",
       "      <td>Toledo</td>\n",
       "      <td>Ohio</td>\n",
       "      <td>43615.0</td>\n",
       "      <td>East</td>\n",
       "      <td>TEC-AC-10000487</td>\n",
       "      <td>Technology</td>\n",
       "      <td>Accessories</td>\n",
       "      <td>SanDisk Cruzer 4 GB USB Flash Drive</td>\n",
       "      <td>10.3840</td>\n",
       "      <td>2016</td>\n",
       "      <td>1</td>\n",
       "      <td>2016</td>\n",
       "      <td>1</td>\n",
       "    </tr>\n",
       "  </tbody>\n",
       "</table>\n",
       "<p>9789 rows × 22 columns</p>\n",
       "</div>"
      ],
      "text/plain": [
       "      Row ID        Order ID Order Date  Ship Date       Ship Mode  \\\n",
       "0          1  CA-2017-152156 2017-11-08 2017-11-11    Second Class   \n",
       "1          2  CA-2017-152156 2017-11-08 2017-11-11    Second Class   \n",
       "2          3  CA-2017-138688 2017-06-12 2017-06-16    Second Class   \n",
       "3          4  US-2016-108966 2016-10-11 2016-10-18  Standard Class   \n",
       "4          5  US-2016-108966 2016-10-11 2016-10-18  Standard Class   \n",
       "...      ...             ...        ...        ...             ...   \n",
       "9784    9796  CA-2017-125920 2017-05-21 2017-05-28  Standard Class   \n",
       "9785    9797  CA-2016-128608 2016-01-12 2016-01-17  Standard Class   \n",
       "9786    9798  CA-2016-128608 2016-01-12 2016-01-17  Standard Class   \n",
       "9787    9799  CA-2016-128608 2016-01-12 2016-01-17  Standard Class   \n",
       "9788    9800  CA-2016-128608 2016-01-12 2016-01-17  Standard Class   \n",
       "\n",
       "     Customer ID     Customer Name    Segment        Country             City  \\\n",
       "0       CG-12520       Claire Gute   Consumer  United States        Henderson   \n",
       "1       CG-12520       Claire Gute   Consumer  United States        Henderson   \n",
       "2       DV-13045   Darrin Van Huff  Corporate  United States      Los Angeles   \n",
       "3       SO-20335    Sean O'Donnell   Consumer  United States  Fort Lauderdale   \n",
       "4       SO-20335    Sean O'Donnell   Consumer  United States  Fort Lauderdale   \n",
       "...          ...               ...        ...            ...              ...   \n",
       "9784    SH-19975     Sally Hughsby  Corporate  United States          Chicago   \n",
       "9785    CS-12490  Cindy Schnelling  Corporate  United States           Toledo   \n",
       "9786    CS-12490  Cindy Schnelling  Corporate  United States           Toledo   \n",
       "9787    CS-12490  Cindy Schnelling  Corporate  United States           Toledo   \n",
       "9788    CS-12490  Cindy Schnelling  Corporate  United States           Toledo   \n",
       "\n",
       "           State  Postal Code   Region       Product ID         Category  \\\n",
       "0       Kentucky      42420.0    South  FUR-BO-10001798        Furniture   \n",
       "1       Kentucky      42420.0    South  FUR-CH-10000454        Furniture   \n",
       "2     California      90036.0     West  OFF-LA-10000240  Office Supplies   \n",
       "3        Florida      33311.0    South  FUR-TA-10000577        Furniture   \n",
       "4        Florida      33311.0    South  OFF-ST-10000760  Office Supplies   \n",
       "...          ...          ...      ...              ...              ...   \n",
       "9784    Illinois      60610.0  Central  OFF-BI-10003429  Office Supplies   \n",
       "9785        Ohio      43615.0     East  OFF-AR-10001374  Office Supplies   \n",
       "9786        Ohio      43615.0     East  TEC-PH-10004977       Technology   \n",
       "9787        Ohio      43615.0     East  TEC-PH-10000912       Technology   \n",
       "9788        Ohio      43615.0     East  TEC-AC-10000487       Technology   \n",
       "\n",
       "     Sub-Category                                       Product Name  \\\n",
       "0       Bookcases                  Bush Somerset Collection Bookcase   \n",
       "1          Chairs  Hon Deluxe Fabric Upholstered Stacking Chairs,...   \n",
       "2          Labels  Self-Adhesive Address Labels for Typewriters b...   \n",
       "3          Tables      Bretford CR4500 Series Slim Rectangular Table   \n",
       "4         Storage                     Eldon Fold 'N Roll Cart System   \n",
       "...           ...                                                ...   \n",
       "9784      Binders  Cardinal HOLDit! Binder Insert Strips,Extra St...   \n",
       "9785          Art           BIC Brite Liner Highlighters, Chisel Tip   \n",
       "9786       Phones                                        GE 30524EE4   \n",
       "9787       Phones           Anker 24W Portable Micro USB Car Charger   \n",
       "9788  Accessories                SanDisk Cruzer 4 GB USB Flash Drive   \n",
       "\n",
       "         Sales  Order-year  Order-Month  Ship-Year  Ship-Month  \n",
       "0     261.9600        2017           11       2017          11  \n",
       "1     731.9400        2017           11       2017          11  \n",
       "2      14.6200        2017            6       2017           6  \n",
       "3     957.5775        2016           10       2016          10  \n",
       "4      22.3680        2016           10       2016          10  \n",
       "...        ...         ...          ...        ...         ...  \n",
       "9784    3.7980        2017            5       2017           5  \n",
       "9785   10.3680        2016            1       2016           1  \n",
       "9786  235.1880        2016            1       2016           1  \n",
       "9787   26.3760        2016            1       2016           1  \n",
       "9788   10.3840        2016            1       2016           1  \n",
       "\n",
       "[9789 rows x 22 columns]"
      ]
     },
     "execution_count": 52,
     "metadata": {},
     "output_type": "execute_result"
    }
   ],
   "source": [
    "# let's see if there any Unrealistic Postal Codes\n",
    "df[~df['Postal Code'].astype(str).str.match(r'^\\d{5}$')]\n",
    "# If many values don’t match the expected format"
   ]
  },
  {
   "cell_type": "code",
   "execution_count": 53,
   "id": "a2a27118-0753-4db3-afea-6c49adbcc73b",
   "metadata": {},
   "outputs": [
    {
     "data": {
      "text/html": [
       "<div>\n",
       "<style scoped>\n",
       "    .dataframe tbody tr th:only-of-type {\n",
       "        vertical-align: middle;\n",
       "    }\n",
       "\n",
       "    .dataframe tbody tr th {\n",
       "        vertical-align: top;\n",
       "    }\n",
       "\n",
       "    .dataframe thead th {\n",
       "        text-align: right;\n",
       "    }\n",
       "</style>\n",
       "<table border=\"1\" class=\"dataframe\">\n",
       "  <thead>\n",
       "    <tr style=\"text-align: right;\">\n",
       "      <th></th>\n",
       "      <th>Row ID</th>\n",
       "      <th>Order ID</th>\n",
       "      <th>Order Date</th>\n",
       "      <th>Ship Date</th>\n",
       "      <th>Ship Mode</th>\n",
       "      <th>Customer ID</th>\n",
       "      <th>Customer Name</th>\n",
       "      <th>Segment</th>\n",
       "      <th>Country</th>\n",
       "      <th>City</th>\n",
       "      <th>State</th>\n",
       "      <th>Postal Code</th>\n",
       "      <th>Region</th>\n",
       "      <th>Product ID</th>\n",
       "      <th>Category</th>\n",
       "      <th>Sub-Category</th>\n",
       "      <th>Product Name</th>\n",
       "      <th>Sales</th>\n",
       "      <th>Order-year</th>\n",
       "      <th>Order-Month</th>\n",
       "      <th>Ship-Year</th>\n",
       "      <th>Ship-Month</th>\n",
       "    </tr>\n",
       "  </thead>\n",
       "  <tbody>\n",
       "  </tbody>\n",
       "</table>\n",
       "</div>"
      ],
      "text/plain": [
       "Empty DataFrame\n",
       "Columns: [Row ID, Order ID, Order Date, Ship Date, Ship Mode, Customer ID, Customer Name, Segment, Country, City, State, Postal Code, Region, Product ID, Category, Sub-Category, Product Name, Sales, Order-year, Order-Month, Ship-Year, Ship-Month]\n",
       "Index: []"
      ]
     },
     "execution_count": 53,
     "metadata": {},
     "output_type": "execute_result"
    }
   ],
   "source": [
    "# is there any Invalid Dates? (e.g., Ship Date before Order Date)\n",
    "df[df['Order Date']> df['Ship Date']]"
   ]
  },
  {
   "cell_type": "markdown",
   "id": "4321677b-5d85-47b7-bc4b-fe81ea6b601b",
   "metadata": {},
   "source": [
    "#### ✅ Decide How to Handle Them"
   ]
  },
  {
   "cell_type": "markdown",
   "id": "3f5d634d-8c73-4b1f-bb1f-84009eb39892",
   "metadata": {},
   "source": [
    "**For Sales Outliers:**\n",
    "- The outliers show a very wide range in the data\n",
    "- Dropping or replacing them (e.g., with the mean) would be illogical\n",
    "- Fortunately, there are no negative sales values\n",
    "- Since outliers are natural in sales data, we will keep them"
   ]
  },
  {
   "cell_type": "markdown",
   "id": "fd32116c-00fb-48de-9ffc-2e6dd0d726e2",
   "metadata": {},
   "source": [
    "### ✅ Multivariate Analysis"
   ]
  },
  {
   "cell_type": "markdown",
   "id": "5656342b-83be-4b14-b703-44a9a351a3e4",
   "metadata": {},
   "source": [
    "#### ✅ a) Sales by Segment & Region"
   ]
  },
  {
   "cell_type": "code",
   "execution_count": 54,
   "id": "ec295684-e55b-466b-ad3e-fa17b9996562",
   "metadata": {},
   "outputs": [
    {
     "data": {
      "image/png": "[encoded data removed]",
      "text/plain": [
       "<Figure size 640x480 with 1 Axes>"
      ]
     },
     "metadata": {},
     "output_type": "display_data"
    }
   ],
   "source": [
    "sns.barplot(x=\"Segment\", y=\"Sales\", hue=\"Region\", data=df, estimator=sum)\n",
    "plt.title(\"Total Sales by Segment across Regions\")\n",
    "plt.show()"
   ]
  },
  {
   "cell_type": "markdown",
   "id": "0e80da84-173a-4fe3-b484-5d49dfea507d",
   "metadata": {},
   "source": [
    "#### ✅ b) Sales by Category & Ship Mode"
   ]
  },
  {
   "cell_type": "code",
   "execution_count": 55,
   "id": "891492e5-6107-452f-8b43-365751a6c51d",
   "metadata": {},
   "outputs": [
    {
     "data": {
      "image/png": "[encoded data removed]",
      "text/plain": [
       "<Figure size 640x480 with 1 Axes>"
      ]
     },
     "metadata": {},
     "output_type": "display_data"
    }
   ],
   "source": [
    "sns.barplot(x=\"Category\", y=\"Sales\", hue=\"Ship Mode\", data=df, estimator=sum)\n",
    "plt.title(\"Sales by Category and Ship Mode\")\n",
    "plt.show()"
   ]
  },
  {
   "cell_type": "markdown",
   "id": "6b4e25a9-2e63-47f3-b155-3dc72167bd40",
   "metadata": {},
   "source": [
    "#### ✅ c) Correlation Heatmap (numeric features)"
   ]
  },
  {
   "cell_type": "code",
   "execution_count": 56,
   "id": "c5ba46c4-4936-4d13-8ea0-0fec0d21e4c1",
   "metadata": {},
   "outputs": [
    {
     "data": {
      "image/png": "[encoded data removed]",
      "text/plain": [
       "<Figure size 640x480 with 2 Axes>"
      ]
     },
     "metadata": {},
     "output_type": "display_data"
    }
   ],
   "source": [
    "corr = df.corr(numeric_only=True)\n",
    "sns.heatmap(corr, annot=True, cmap=\"coolwarm\", center=0)\n",
    "plt.title(\"Correlation Matrix\")\n",
    "plt.show()"
   ]
  },
  {
   "cell_type": "markdown",
   "id": "5186f687-3fcf-4785-9bd6-11a0e4537be4",
   "metadata": {},
   "source": [
    "#### ✅ d) Time Series: Sales Trend"
   ]
  },
  {
   "cell_type": "code",
   "execution_count": 57,
   "id": "9c8e2eb2-643b-4480-86f5-9ef39055b270",
   "metadata": {},
   "outputs": [
    {
     "data": {
      "image/png": "[encoded data removed]",
      "text/plain": [
       "<Figure size 640x480 with 1 Axes>"
      ]
     },
     "metadata": {},
     "output_type": "display_data"
    }
   ],
   "source": [
    "df.groupby(df['Order Date'].dt.to_period(\"M\"))['Sales'].sum().plot(kind='line')\n",
    "plt.title(\"Monthly Sales Trend\")\n",
    "plt.show()"
   ]
  },
  {
   "cell_type": "markdown",
   "id": "6bba3170-145a-45f6-aec6-79719816d926",
   "metadata": {},
   "source": [
    "### ✅ Insights & Recommendations"
   ]
  },
  {
   "cell_type": "markdown",
   "id": "34975658-ccf3-4fe2-8818-2d8757943b64",
   "metadata": {},
   "source": [
    "#### ✅ Sales Performance Analysis Report\n",
    "\n",
    "#### ✅ 1. High-Value Segments: Focus on Consumer Segment\n",
    "\n",
    "##### Key Insight:\n",
    "The **Consumer** segment dominates total sales across all regions, with significantly higher revenue compared to Corporate and Home Office segments.\n",
    "\n",
    "##### Evidence:\n",
    "- In **Figure a)** (\"Total Sales by Segment across Regions\"), the Consumer segment generates over **350,000 in sales**, far exceeding the other two segments.\n",
    "- The West and East regions contribute the most to Consumer sales, indicating strong market penetration in these areas.\n",
    "\n",
    "##### Recommendation:\n",
    "> **Launch targeted marketing campaigns for the Consumer segment**, especially in the **West and East regions**, where demand is highest. Consider personalized promotions, loyalty programs, or digital advertising tailored to consumer behavior.\n",
    "\n",
    "---\n",
    "\n",
    "#### ✅ 2. Regional Opportunities: Address Underperforming Regions\n",
    "\n",
    "##### Key Insight:\n",
    "While the **West and East regions** show high sales volumes, the **South and Central regions** lag behind, particularly in the Corporate and Home Office segments.\n",
    "\n",
    "##### Evidence:\n",
    "- The South region shows consistently lower sales across all segments.\n",
    "- The Central region has moderate performance but underperforms relative to its potential.\n",
    "\n",
    "##### -Recommendation:\n",
    "> **Implement regional promotional strategies** to boost engagement in the South and Central regions. This could include localized discounts, improved distribution networks, or partnerships with regional businesses. Additionally, evaluate supply chain efficiency to ensure timely delivery and inventory availability in underperforming areas.\n",
    "\n",
    "---\n",
    "\n",
    "#### ✅ 3. Category Performance: Prioritize Technology\n",
    "\n",
    "##### Key Insight:\n",
    "The **Technology** category outperforms Furniture and Office Supplies in terms of total sales.\n",
    "\n",
    "##### Evidence:\n",
    "- From **Figure b)** (\"Sales by Category and Ship Mode\"), Technology achieves nearly **500,000 in sales**, while Furniture and Office Supplies remain below 450,000.\n",
    "- Technology also shows strong performance across multiple shipping modes, indicating consistent demand.\n",
    "\n",
    "##### Recommendation:\n",
    "> **Increase inventory investment in the Technology category** to meet ongoing demand. Explore opportunities to expand product lines within this category and consider bundling technology products with complementary items (e.g., accessories or software).\n",
    "\n",
    "---\n",
    "\n",
    "#### ✅ 4. Shipping Insights: Same Day Shipping Drives Higher Sales\n",
    "\n",
    "##### Key Insight:\n",
    "Although \"Same Day\" shipping accounts for a smaller volume, it correlates with **higher sales per transaction**, especially in the Technology category.\n",
    "\n",
    "##### Evidence:\n",
    "- In **Figure b)**, \"Same Day\" shipping has lower bar heights than Standard Class, but when combined with high-value categories like Technology, it suggests premium customer behavior.\n",
    "- Customers willing to pay for fast delivery may be purchasing higher-priced items.\n",
    "\n",
    "##### Recommendation:\n",
    "> **Expand express delivery options**, particularly for high-demand categories like Technology. Offer incentives such as free same-day shipping for orders above a certain threshold to encourage larger purchases and improve customer satisfaction.\n",
    "\n",
    "---\n",
    "\n",
    "#### ✅ 5. Seasonality: Prepare for Holiday Peaks\n",
    "\n",
    "##### Key Insight:\n",
    "There is a clear **seasonal pattern** in sales, with notable spikes occurring in **November and December**, consistent with holiday shopping seasons.\n",
    "\n",
    "##### Evidence:\n",
    "- **Figure d)** (\"Monthly Sales Trend\") shows recurring peaks every year around November–December.\n",
    "- These peaks are more pronounced in later years (2017–2018), suggesting growing seasonal demand.\n",
    "\n",
    "##### Recommendation:\n",
    "> **Begin stock preparation and logistics planning early for the holiday season**, ideally starting in September–October. Ensure adequate inventory levels, especially for best-selling categories like Technology and Furniture. Also, consider running pre-holiday marketing campaigns to capture early adopters.\n",
    "\n",
    "---\n",
    "\n",
    "#### ✅ 6. Correlation Analysis: Time-Based Trends Are Strongly Linked\n",
    "\n",
    "##### Key Insight:\n",
    "Strong correlations exist between **Order-Year**, **Order-Month**, and **Ship-Year/Month**, indicating that temporal factors heavily influence sales patterns.\n",
    "\n",
    "##### Evidence:\n",
    "- In **Figure c)** (\"Correlation Matrix\"):\n",
    "  - `Order-year` and `Ship-year` have a **correlation of 0.99**.\n",
    "  - `Order-month` and `Ship-month` correlate at **0.91**.\n",
    "  - This implies that orders placed in specific months tend to be shipped in the same month, and yearly trends are highly consistent.\n",
    "\n",
    "##### Implication:\n",
    "Sales are strongly influenced by time, supporting the observation of seasonality and annual growth trends.\n",
    "\n",
    "##### Recommendation:\n",
    "> Use this insight to **forecast future sales accurately** using time-based models. Incorporate historical monthly data into predictive analytics to optimize staffing, inventory, and marketing budgets ahead of peak periods.\n",
    "\n",
    "---\n",
    "\n",
    "#### ✅ Summary of Strategic Recommendations\n",
    "\n",
    "| Area | Recommendation |\n",
    "|------|----------------|\n",
    "| **Marketing** | Target the Consumer segment with focused campaigns in West and East regions |\n",
    "| **Operations** | Optimize supply chain in South and Central regions; enhance regional promotion efforts |\n",
    "| **Inventory** | Increase investment in Technology category; monitor demand closely |\n",
    "| **Logistics** | Expand Same Day shipping options, especially for high-value items |\n",
    "| **Planning** | Prepare inventory and marketing early for November–December holiday surge |\n",
    "| **Analytics** | Leverage time-based correlations for accurate forecasting and planning |\n"
   ]
  },
  {
   "cell_type": "code",
   "execution_count": null,
   "id": "b74b1907-0dea-4ccd-be1e-677575fd4a69",
   "metadata": {},
   "outputs": [],
   "source": []
  }
 ],
 "metadata": {
  "kernelspec": {
   "display_name": "Python [conda env:ds] *",
   "language": "python",
   "name": "conda-env-ds-py"
  },
  "language_info": {
   "codemirror_mode": {
    "name": "ipython",
    "version": 3
   },
   "file_extension": ".py",
   "mimetype": "text/x-python",
   "name": "python",
   "nbconvert_exporter": "python",
   "pygments_lexer": "ipython3",
   "version": "3.12.11"
  }
 },
 "nbformat": 4,
 "nbformat_minor": 5
}
